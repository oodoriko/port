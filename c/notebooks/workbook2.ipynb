{
 "cells": [
  {
   "cell_type": "code",
   "execution_count": 1,
   "metadata": {},
   "outputs": [],
   "source": [
    "import numpy as np\n",
    "import talib\n",
    "\n",
    "np.random.seed(42)\n",
    "n_timestamps, n_coins = 5, 2\n",
    "\n",
    "price_data = np.zeros((n_timestamps, n_coins))\n",
    "price_data[0] = np.random.uniform(100, 1000, n_coins)\n",
    "\n",
    "for i in range(1, n_timestamps):\n",
    "    trend = np.random.normal(0.001, 0.02, n_coins)\n",
    "    price_data[i] = price_data[i - 1] * (1 + trend)"
   ]
  },
  {
   "cell_type": "code",
   "execution_count": 2,
   "metadata": {},
   "outputs": [
    {
     "data": {
      "text/plain": [
       "array([[ 437.08610696,  955.64287577],\n",
       "       [ 443.1851063 ,  985.70797128],\n",
       "       [ 441.55282564,  982.07786596],\n",
       "       [ 455.94049609,  998.13355704],\n",
       "       [ 452.1153889 , 1009.96263833]])"
      ]
     },
     "execution_count": 2,
     "metadata": {},
     "output_type": "execute_result"
    }
   ],
   "source": [
    "price_data"
   ]
  },
  {
   "cell_type": "code",
   "execution_count": 5,
   "metadata": {},
   "outputs": [],
   "source": [
    "from indicators2 import ema, sma\n",
    "\n",
    "ema_fast = ema(price_data, 3)"
   ]
  },
  {
   "cell_type": "code",
   "execution_count": 6,
   "metadata": {},
   "outputs": [
    {
     "data": {
      "text/plain": [
       "array([[437.08610696, 955.64287577],\n",
       "       [440.13560663, 970.67542353],\n",
       "       [440.84421614, 976.37664474],\n",
       "       [448.39235611, 987.25510089],\n",
       "       [450.2538725 , 998.60886961]])"
      ]
     },
     "execution_count": 6,
     "metadata": {},
     "output_type": "execute_result"
    }
   ],
   "source": [
    "ema_fast"
   ]
  },
  {
   "cell_type": "code",
   "execution_count": 11,
   "metadata": {},
   "outputs": [
    {
     "data": {
      "text/plain": [
       "array([[          nan,           nan],\n",
       "       [ 440.13560663,  970.67542353],\n",
       "       [ 441.08041931,  978.27705181],\n",
       "       [ 450.98713716,  991.51472197],\n",
       "       [ 451.73930498, 1003.81333287]])"
      ]
     },
     "execution_count": 11,
     "metadata": {},
     "output_type": "execute_result"
    }
   ],
   "source": [
    "import talib\n",
    "\n",
    "\n",
    "np.apply_along_axis(lambda x: talib.EMA(x, timeperiod=2), axis=0, arr=price_data)"
   ]
  },
  {
   "cell_type": "code",
   "execution_count": 20,
   "metadata": {},
   "outputs": [
    {
     "data": {
      "text/plain": [
       "array([ 955.64287577,  985.70797128,  982.07786596,  998.13355704,\n",
       "       1009.96263833])"
      ]
     },
     "execution_count": 20,
     "metadata": {},
     "output_type": "execute_result"
    }
   ],
   "source": [
    "price_data[:, 1]"
   ]
  },
  {
   "cell_type": "code",
   "execution_count": null,
   "metadata": {},
   "outputs": [],
   "source": [
    " ema_fast = np.array(\n",
    "            [\n",
    "                talib.EMA(self.close_data[:, i], timeperiod=self.config.ema_fast)\n",
    "                for i in range(self.n_coins)\n",
    "            ]\n",
    "        ).T\n",
    "        ema_medium = np.array(\n",
    "            [\n",
    "                talib.EMA(self.close_data[:, i], timeperiod=self.config.ema_medium)\n",
    "                for i in range(self.n_coins)\n",
    "            ]\n",
    "        ).T\n",
    "        ema_slow = np.array(\n",
    "            [\n",
    "                talib.EMA(self.close_data[:, i], timeperiod=self.config.ema_slow)\n",
    "                for i in range(self.n_coins)\n",
    "            ]\n",
    "        ).T\n",
    "\n",
    "        signals[\"ema_fast\"] = ema_fast\n",
    "        signals[\"ema_medium\"] = ema_medium\n",
    "        signals[\"ema_slow\"] = ema_slow\n",
    "\n",
    "        signals[\"ema_fast_above_medium\"] = (ema_fast > ema_medium).astype(int)\n",
    "        signals[\"price_above_ema_medium\"] = (self.close_data > ema_medium).astype(int)\n",
    "        signals[\"triple_ema_bullish\"] = ((ema_fast > ema_medium) & (ema_medium > ema_slow)).astype(\n",
    "            int\n",
    "        )"
   ]
  }
 ],
 "metadata": {
  "kernelspec": {
   "display_name": ".venv",
   "language": "python",
   "name": "python3"
  },
  "language_info": {
   "codemirror_mode": {
    "name": "ipython",
    "version": 3
   },
   "file_extension": ".py",
   "mimetype": "text/x-python",
   "name": "python",
   "nbconvert_exporter": "python",
   "pygments_lexer": "ipython3",
   "version": "3.13.1"
  }
 },
 "nbformat": 4,
 "nbformat_minor": 2
}
