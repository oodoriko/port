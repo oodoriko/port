{
 "cells": [
  {
   "cell_type": "code",
   "execution_count": null,
   "metadata": {},
   "outputs": [],
   "source": [
    "%load_ext autoreload\n",
    "%autoreload 2"
   ]
  },
  {
   "cell_type": "code",
   "execution_count": 9,
   "metadata": {},
   "outputs": [],
   "source": [
    "import numpy as np\n",
    "import pandas as pd"
   ]
  },
  {
   "cell_type": "code",
   "execution_count": null,
   "metadata": {},
   "outputs": [],
   "source": [
    "from backtesting.backtest import Backtest\n",
    "from backtesting.scenarios import Scenario\n",
    "from example.config import DEFAULT_CONSTRAINTS, DEFAULT_PORTFOLIO_SETUP, DEFAULT_STRATEGY_CONFIG\n",
    "from data.data import Benchmarks\n",
    "\n",
    "\n",
    "scenario = Scenario(\n",
    "    name=\"test backtest 10y\",\n",
    "    start_date=\"2015-01-01\",\n",
    "    end_date=\"2025-05-01\",\n",
    "    benchmark=Benchmarks.SP500,\n",
    "    constraints=DEFAULT_CONSTRAINTS,\n",
    "    portfolio_config=DEFAULT_PORTFOLIO_SETUP,\n",
    "    verbose=True,\n",
    "    portfolio_name=\"sp500_10y_long_only_macd_zscore\",\n",
    ")  \n",
    "scenario.set_strategies(DEFAULT_STRATEGY_CONFIG)\n",
    "backtest = Backtest(scenario, verbose=True)\n",
    "backtest.run_batch(verbose=True)"
   ]
  },
  {
   "cell_type": "code",
   "execution_count": null,
   "metadata": {},
   "outputs": [],
   "source": [
    "backtest.generate_report(filename=\"sample_report\")"
   ]
  },
  {
   "cell_type": "code",
   "execution_count": 31,
   "metadata": {},
   "outputs": [],
   "source": [
    "p = backtest.get_portfolio()"
   ]
  },
  {
   "cell_type": "code",
   "execution_count": 32,
   "metadata": {},
   "outputs": [],
   "source": [
    "a = backtest.generate_advanced_analytics()"
   ]
  }
 ],
 "metadata": {
  "kernelspec": {
   "display_name": ".venv",
   "language": "python",
   "name": "python3"
  },
  "language_info": {
   "codemirror_mode": {
    "name": "ipython",
    "version": 3
   },
   "file_extension": ".py",
   "mimetype": "text/x-python",
   "name": "python",
   "nbconvert_exporter": "python",
   "pygments_lexer": "ipython3",
   "version": "3.13.1"
  }
 },
 "nbformat": 4,
 "nbformat_minor": 2
}
