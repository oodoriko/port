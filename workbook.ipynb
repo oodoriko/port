{
 "cells": [
  {
   "cell_type": "code",
   "execution_count": 1,
   "metadata": {},
   "outputs": [],
   "source": [
    "%load_ext autoreload\n",
    "%autoreload 2"
   ]
  },
  {
   "cell_type": "code",
   "execution_count": 2,
   "metadata": {},
   "outputs": [],
   "source": [
    "import numpy as np\n",
    "import pandas as pd"
   ]
  },
  {
   "cell_type": "code",
   "execution_count": 3,
   "metadata": {},
   "outputs": [],
   "source": [
    "# from backtesting.portfolio_cache import load_cached_object,cache_backtest"
   ]
  },
  {
   "cell_type": "code",
   "execution_count": 4,
   "metadata": {},
   "outputs": [],
   "source": [
    "from backtesting.backtest import Backtest\n",
    "from backtesting.scenarios import scenario_no_capital_growth, scenario_with_capital_growth"
   ]
  },
  {
   "cell_type": "code",
   "execution_count": 27,
   "metadata": {},
   "outputs": [
    {
     "name": "stdout",
     "output_type": "stream",
     "text": [
      "Backtest starting... whomp whomp!\n",
      "Total trading days: 82\n",
      "Universe size: 480\n",
      "Total strategies: 1\n",
      "Starting in 2025-02-01\n",
      "Ending in 2025-06-01\n"
     ]
    },
    {
     "name": "stderr",
     "output_type": "stream",
     "text": [
      "Backtesting by date x strategy: 100%|██████████| 82/82 [00:00<00:00, 143.66day/s]"
     ]
    },
    {
     "name": "stdout",
     "output_type": "stream",
     "text": [
      "Ding ding ding! Backtest completed!\n"
     ]
    },
    {
     "name": "stderr",
     "output_type": "stream",
     "text": [
      "\n"
     ]
    }
   ],
   "source": [
    "backtest_single = Backtest.from_scenario(scenario_no_capital_growth)\n",
    "backtest_single.run()\n"
   ]
  },
  {
   "cell_type": "code",
   "execution_count": 28,
   "metadata": {},
   "outputs": [
    {
     "name": "stdout",
     "output_type": "stream",
     "text": [
      "Backtest starting... swoosh!\n",
      "Universe size: 480\n",
      "Total trading days: 82\n",
      "Total strategies: 1\n",
      "Starting in 2025-02-01\n",
      "Ending in 2025-06-01\n"
     ]
    },
    {
     "name": "stderr",
     "output_type": "stream",
     "text": [
      "Backtesting by strategy: 100%|██████████| 1/1 [00:00<00:00,  2.72strategy/s]"
     ]
    },
    {
     "name": "stdout",
     "output_type": "stream",
     "text": [
      "Backtest completed!\n"
     ]
    },
    {
     "name": "stderr",
     "output_type": "stream",
     "text": [
      "\n"
     ]
    }
   ],
   "source": [
    "backtest_batch = Backtest.from_scenario(scenario_with_capital_growth)\n",
    "backtest_batch.run_batch()"
   ]
  },
  {
   "cell_type": "code",
   "execution_count": 29,
   "metadata": {},
   "outputs": [],
   "source": [
    "asingle = backtest_single.generate_analytics()\n",
    "# ab = backtest_batch.generate_analytics()"
   ]
  },
  {
   "cell_type": "code",
   "execution_count": 30,
   "metadata": {},
   "outputs": [
    {
     "name": "stdout",
     "output_type": "stream",
     "text": [
      "Report saved to: reports/portfolio_report_20250610_002234.pdf\n"
     ]
    },
    {
     "data": {
      "text/plain": [
       "'reports/portfolio_report_20250610_002234.pdf'"
      ]
     },
     "execution_count": 30,
     "metadata": {},
     "output_type": "execute_result"
    }
   ],
   "source": [
    "from report import generate_simple_report\n",
    "\n",
    "generate_simple_report(asingle, \"2022-01-01\", \"2025-06-01\")\n",
    "# generate_simple_report(ab, \"2022-01-01\", \"2025-06-01\")\n"
   ]
  },
  {
   "cell_type": "code",
   "execution_count": null,
   "metadata": {},
   "outputs": [],
   "source": [
    "from config import Strategies\n",
    "from strategies.strategy import Strategy\n",
    "\n",
    "\n",
    "universe = backtest_single.portfolio.get_universe()\n",
    "strategies = [Strategy.create(s) for s in [Strategies.RSI_CROSSOVER]]\n",
    "max_lookback = max(strategy.min_window for strategy in strategies)\n",
    "data_start_date = pd.Timestamp(backtest_single.start_date) - pd.Timedelta(days=max_lookback)\n",
    "signals = {}\n",
    "\n",
    "count =0 \n",
    "for date in backtest_single.trading_dates:\n",
    "\n",
    "    for strategy in strategies:\n",
    "        price_type = strategy.price_type\n",
    "        prices = backtest_single.portfolio.get_prices(\n",
    "            price_type, end_date=date, start_date=data_start_date # uses prev close price\n",
    "        )\n",
    "        signal = generate_signals_single_date(prices.loc[:, universe])\n",
    "    signals[date] = signal\n"
   ]
  },
  {
   "cell_type": "code",
   "execution_count": 127,
   "metadata": {},
   "outputs": [],
   "source": [
    "universe = backtest_batch.portfolio.get_universe()\n",
    "strategies = [Strategy.create(s) for s in [Strategies.RSI_CROSSOVER]]\n",
    "price_type = \"close\"\n",
    "max_lookback = max(strategy.min_window for strategy in strategies)\n",
    "data_start_date = pd.Timestamp(backtest_batch.start_date) - pd.Timedelta(days=max_lookback)\n",
    "pricesb = backtest_batch.portfolio.get_prices(price_type, start_date=data_start_date, end_date=backtest_batch.end_date)[universe]\n",
    "\n",
    "run_start_date = pricesb.loc[backtest_batch.start_date:, :].index[0] # start date may fall on a weekend, we find the closest biz date that has price data as run start date\n",
    "data_r = pricesb.reset_index()\n",
    "run_start_index = data_r[data_r[\"Date\"] == run_start_date].index[0]\n",
    "del data_r\n",
    "\n",
    "signalsb = []\n",
    "for strategy in strategies:\n",
    "    signalb = generate_signals_batch(pricesb, run_start_index)\n",
    "    signalsb.append(signalb)"
   ]
  }
 ],
 "metadata": {
  "kernelspec": {
   "display_name": ".venv",
   "language": "python",
   "name": "python3"
  },
  "language_info": {
   "codemirror_mode": {
    "name": "ipython",
    "version": 3
   },
   "file_extension": ".py",
   "mimetype": "text/x-python",
   "name": "python",
   "nbconvert_exporter": "python",
   "pygments_lexer": "ipython3",
   "version": "3.13.1"
  }
 },
 "nbformat": 4,
 "nbformat_minor": 2
}
