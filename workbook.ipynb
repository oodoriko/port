{
 "cells": [
  {
   "cell_type": "code",
   "execution_count": 1,
   "metadata": {},
   "outputs": [],
   "source": [
    "%load_ext autoreload\n",
    "%autoreload 2"
   ]
  },
  {
   "cell_type": "code",
   "execution_count": 2,
   "metadata": {},
   "outputs": [],
   "source": [
    "import numpy as np\n",
    "import pandas as pd"
   ]
  },
  {
   "cell_type": "code",
   "execution_count": 54,
   "metadata": {},
   "outputs": [
    {
     "name": "stdout",
     "output_type": "stream",
     "text": [
      "Portfolio setup: {\n",
      "    \"initial_capital\": 100000,\n",
      "    \"initial_holdings\": {},\n",
      "    \"initial_value\": 0,\n",
      "    \"capital_growth_freq\": \"M\",\n",
      "    \"new_capital_growth_pct\": 0,\n",
      "    \"new_capital_growth_amt\": 10000,\n",
      "    \"allocation_method\": \"equal\",\n",
      "    \"exclude_sectors\": [],\n",
      "    \"include_countries\": [\n",
      "        \"United States\"\n",
      "    ],\n",
      "    \"min_market_cap\": 0,\n",
      "    \"max_market_cap\": Infinity\n",
      "}\n",
      "Strategies: {\n",
      "    \"macd_x\": true,\n",
      "    \"rsi_x\": true,\n",
      "    \"b_bands\": true,\n",
      "    \"z\": true\n",
      "}\n",
      "Backtest starting... swoosh!\n",
      "Universe size: 480\n",
      "Total trading days: 505\n",
      "Total strategies: 4\n",
      "Starting in 2020-01-01\n",
      "Ending in 2022-01-01\n"
     ]
    },
    {
     "name": "stderr",
     "output_type": "stream",
     "text": [
      "Backtesting by strategy: 100%|██████████| 4/4 [00:01<00:00,  2.73strategy/s]\n"
     ]
    },
    {
     "name": "stdout",
     "output_type": "stream",
     "text": [
      "Short trade amount 260 too large violates max trade constraint\n",
      "Short trade amount 291 too large violates max trade constraint\n",
      "Short trade amount 254 too large violates max trade constraint\n",
      "Short trade amount 322 too large violates max trade constraint\n",
      "Short trade amount 266 too large violates max trade constraint\n",
      "Backtest completed!\n"
     ]
    }
   ],
   "source": [
    "from backtesting.backtest import Backtest\n",
    "from backtesting.scenarios import Scenario\n",
    "from config import DEFAULT_CONSTRAINTS, DEFAULT_PORTFOLIO_SETUP, DEFAULT_STRATEGY_CONFIG\n",
    "from data.data import Benchmarks\n",
    "\n",
    "\n",
    "scenario = Scenario(\n",
    "    name=\"test backtest function\",\n",
    "    start_date=\"2020-01-01\",\n",
    "    end_date=\"2022-01-01\",\n",
    "    benchmark=Benchmarks.SP500,\n",
    "    constraints=DEFAULT_CONSTRAINTS,\n",
    "    portfolio_config=DEFAULT_PORTFOLIO_SETUP,\n",
    "    verbose=True,\n",
    ")  \n",
    "scenario.set_strategies(DEFAULT_STRATEGY_CONFIG)\n",
    "backtest = Backtest(scenario, verbose=True)\n",
    "backtest.run_batch(verbose=True)"
   ]
  },
  {
   "cell_type": "code",
   "execution_count": 55,
   "metadata": {},
   "outputs": [
    {
     "name": "stdout",
     "output_type": "stream",
     "text": [
      "Report saved to: reports/portfolio_report_20250611_231037.pdf\n"
     ]
    },
    {
     "data": {
      "text/plain": [
       "'reports/portfolio_report_20250611_231037.pdf'"
      ]
     },
     "execution_count": 55,
     "metadata": {},
     "output_type": "execute_result"
    }
   ],
   "source": [
    "backtest.generate_report()"
   ]
  },
  {
   "cell_type": "code",
   "execution_count": 31,
   "metadata": {},
   "outputs": [],
   "source": [
    "p = backtest.get_portfolio()"
   ]
  },
  {
   "cell_type": "code",
   "execution_count": 32,
   "metadata": {},
   "outputs": [],
   "source": [
    "a = backtest.generate_advanced_analytics()"
   ]
  },
  {
   "cell_type": "code",
   "execution_count": 38,
   "metadata": {},
   "outputs": [
    {
     "name": "stdout",
     "output_type": "stream",
     "text": [
      "2020-03-31 00:00:00 72291.03139672932\n"
     ]
    },
    {
     "data": {
      "text/plain": [
       "<Axes: >"
      ]
     },
     "execution_count": 38,
     "metadata": {},
     "output_type": "execute_result"
    },
    {
     "data": {
      "image/png": "[encoded data removed]",
      "text/plain": [
       "<Figure size 640x480 with 1 Axes>"
      ]
     },
     "metadata": {},
     "output_type": "display_data"
    }
   ],
   "source": [
    "for date, cashflow in a.cashflow_history.items():\n",
    "    if cashflow > 50000:\n",
    "        print(date, cashflow)\n",
    "pd.DataFrame(list(a.cashflow_history.values())).plot()"
   ]
  },
  {
   "cell_type": "code",
   "execution_count": 13,
   "metadata": {},
   "outputs": [
    {
     "data": {
      "text/plain": [
       "np.float64(14.439280536348422)"
      ]
     },
     "execution_count": 13,
     "metadata": {},
     "output_type": "execute_result"
    }
   ],
   "source": [
    "sum(p.transaction_history[list(p.transaction_history.keys())[0]].values())"
   ]
  },
  {
   "cell_type": "code",
   "execution_count": 38,
   "metadata": {},
   "outputs": [
    {
     "data": {
      "text/plain": [
       "np.datetime64('2020-03-10T00:00:00')"
      ]
     },
     "execution_count": 38,
     "metadata": {},
     "output_type": "execute_result"
    }
   ],
   "source": [
    "d - np.timedelta64(1, 'D')"
   ]
  },
  {
   "cell_type": "code",
   "execution_count": 37,
   "metadata": {},
   "outputs": [
    {
     "data": {
      "text/plain": [
       "{'ADBE': np.float64(1263461133.3710213),\n",
       " 'AMZN': np.float64(6669025798.773238),\n",
       " 'AAPL': np.float64(47328.734987837),\n",
       " 'CRL': np.float64(6563346756.657782),\n",
       " 'INTC': np.float64(260623078.95792246),\n",
       " 'JNJ': np.float64(22422781.208487153),\n",
       " 'LDOS': np.float64(11150433433.448498),\n",
       " 'LLY': np.float64(22436410.922355358),\n",
       " 'TSLA': np.float64(24864953091.268044),\n",
       " 'TYL': np.float64(243935118.1632177),\n",
       " 'WDC': np.float64(2563.7625328525555),\n",
       " 'NEE': np.float64(3485650550.028608),\n",
       " 'VRSN': np.float64(6652.518027851344),\n",
       " 'AEP': np.float64(342384798.6325233),\n",
       " 'RSG': np.float64(9556617932.509819),\n",
       " 'SMCI': np.float64(91069039.23243666),\n",
       " 'WM': np.float64(958194683.6947497),\n",
       " 'COO': np.float64(266365.386276796),\n",
       " 'EFX': np.float64(3660942349.0494895),\n",
       " 'MCD': np.float64(1199404.3500269596),\n",
       " 'NOW': np.float64(1148480371.5023),\n",
       " 'VRSK': np.float64(190623580.02298772),\n",
       " 'VICI': np.float64(40391258186.05473),\n",
       " 'AKAM': np.float64(6829185133.579237),\n",
       " 'AMT': np.float64(1569580469.546369),\n",
       " 'BRO': np.float64(19043311425.084564),\n",
       " 'MNST': np.float64(3938778165.781254),\n",
       " 'TROW': np.float64(66278317.29644285),\n",
       " 'BAX': np.float64(3040478.081037595),\n",
       " 'EPAM': np.float64(4428.264351685395),\n",
       " 'GDDY': np.float64(201300610.31819445),\n",
       " 'ODFL': np.float64(9592105356.05059),\n",
       " 'PGR': np.float64(827660955.7609364),\n",
       " 'ULTA': np.float64(2189288880.6963835),\n",
       " 'LNT': np.float64(551350540.0375216),\n",
       " 'AEE': np.float64(11975590173.473957),\n",
       " 'CMS': np.float64(402835846.36822677),\n",
       " 'KO': np.float64(4746270959.466934),\n",
       " 'ETR': np.float64(520534622.60371804),\n",
       " 'EVRG': np.float64(6363971149.131098),\n",
       " 'GEN': np.float64(94336282086.73557),\n",
       " 'LEN': np.float64(1689109547.9900692),\n",
       " 'NI': np.float64(16162173454978.674),\n",
       " 'PNW': np.float64(16892870555.025867),\n",
       " 'SO': np.float64(4902299.920951666),\n",
       " 'WEC': np.float64(9846560813.14642),\n",
       " 'ALL': np.float64(1925519548.0256853),\n",
       " 'AWK': np.float64(485697902.5194193),\n",
       " 'DUK': np.float64(7817939413.451031),\n",
       " 'EXR': np.float64(1022771409.607178),\n",
       " 'FIS': np.float64(7760316169.153277),\n",
       " 'PODD': np.float64(6919999999.226827),\n",
       " 'PHM': np.float64(1020841256.1160578),\n",
       " 'XEL': np.float64(10291719924.62141),\n",
       " 'ANSS': np.float64(1257024410.218326),\n",
       " 'EXC': np.float64(46825272575.52142),\n",
       " 'MSI': np.float64(2650083269.7582603),\n",
       " 'PEP': np.float64(749269968.4813552),\n",
       " 'PCG': np.float64(1159703209.51467),\n",
       " 'CPT': np.float64(6521087720.15597),\n",
       " 'CCI': np.float64(4914320014.7424755),\n",
       " 'DHI': np.float64(3312116670.38447),\n",
       " 'HRL': np.float64(4948114663.105526),\n",
       " 'BALL': np.float64(1320985028.3842826),\n",
       " 'CDNS': np.float64(4822549367.849441),\n",
       " 'DLR': np.float64(2392186290.9641747),\n",
       " 'ECL': np.float64(1950991277.0982988),\n",
       " 'FDS': np.float64(2121999673.3985853),\n",
       " 'HSY': np.float64(8636212122.719501),\n",
       " 'WRB': np.float64(12208177712.708946),\n",
       " 'EIX': np.float64(8889.284664968085),\n",
       " 'ENPH': np.float64(8524779899944.193),\n",
       " 'AJG': np.float64(8746529620.793247),\n",
       " 'CL': np.float64(3133576291.7934904),\n",
       " 'D': np.float64(5690910438420.927),\n",
       " 'NDAQ': np.float64(81516259.44397295),\n",
       " 'BXP': np.float64(3101286850.0688224),\n",
       " 'MSCI': np.float64(2319115991.8572206),\n",
       " 'SBAC': np.float64(4337928002.329769),\n",
       " 'DECK': np.float64(14329603087.601309),\n",
       " 'KIM': np.float64(1695095.1794735456),\n",
       " 'CAH': np.float64(23091813803.71496),\n",
       " 'CBOE': np.float64(678511936.2997965),\n",
       " 'CHD': np.float64(14525841937.358463),\n",
       " 'DHR': np.float64(103143.95130202192),\n",
       " 'MSFT': np.float64(2324102624.9492946),\n",
       " 'XYL': np.float64(6705436033.777225),\n",
       " 'IBM': np.float64(758065075.8449873),\n",
       " 'MAA': np.float64(11156982363.339539),\n",
       " 'BIIB': np.float64(3235885728.763785),\n",
       " 'CTVA': np.float64(19122518559.345623),\n",
       " 'ERIE': np.float64(1207614.11117824),\n",
       " 'JKHY': np.float64(8622833464.53817),\n",
       " 'CINF': np.float64(3502518823.1178865),\n",
       " 'CTSH': np.float64(20015777636.51352),\n",
       " 'CSGP': np.float64(15090152845.878428),\n",
       " 'MCO': np.float64(2356578014.59689),\n",
       " 'CPB': np.float64(4384909405189.897),\n",
       " 'ABBV': np.float64(14314499347.000515),\n",
       " 'ARE': np.float64(1603836506.8127673),\n",
       " 'BLK': np.float64(761817756.3476824),\n",
       " 'L': np.float64(6292920327.573903),\n",
       " 'MDLZ': np.float64(6852433873.870069),\n",
       " 'RMD': np.float64(3609644444.4398694),\n",
       " 'UDR': np.float64(15658052120.396875),\n",
       " 'AIZ': np.float64(8275250476.673169),\n",
       " 'AXON': np.float64(7196298623.768145),\n",
       " 'POOL': np.float64(2676693202.139101),\n",
       " 'STE': np.float64(4095159270.7134027),\n",
       " 'TMUS': np.float64(3416545515.845771),\n",
       " 'UBER': np.float64(4835468229.153272),\n",
       " 'VRTX': np.float64(2299312175.4794307),\n",
       " 'WST': np.float64(7112880450.7294035),\n",
       " 'CTAS': np.float64(5387609057.7094755),\n",
       " 'FI': np.float64(21796577.28405793),\n",
       " 'MAS': np.float64(59955849.5333816),\n",
       " 'MCK': np.float64(8526915272.853259),\n",
       " 'NFLX': np.float64(1818285637.8038125),\n",
       " 'NVDA': np.float64(172645061943.3908),\n",
       " 'APD': np.float64(2769274552.8884716),\n",
       " 'AVB': np.float64(6649499793.928835),\n",
       " 'DXCM': np.float64(294378446258.96277),\n",
       " 'EQIX': np.float64(554843808.5799859),\n",
       " 'HD': np.float64(3019575638.6623845),\n",
       " 'INVH': np.float64(8029871486.57881),\n",
       " 'LH': np.float64(3581500136.198814),\n",
       " 'MMC': np.float64(3084670478.7145033),\n",
       " 'MRNA': np.float64(221943730.26963213),\n",
       " 'PSA': np.float64(581432729.7026436),\n",
       " 'SNPS': np.float64(2552918539.40205),\n",
       " 'AMD': np.float64(11591668218.382166),\n",
       " 'BX': np.float64(139059383.19449228),\n",
       " 'STZ': np.float64(7286917908.92123),\n",
       " 'ESS': np.float64(1083285939.3261657),\n",
       " 'INTU': np.float64(1325544507.2064595),\n",
       " 'J': np.float64(3956444334.7413096),\n",
       " 'MA': np.float64(2133655101.3056483),\n",
       " 'ZBRA': np.float64(30658912.003162976),\n",
       " 'COST': np.float64(3995934835.2754655),\n",
       " 'IRM': np.float64(10985204238.057753),\n",
       " 'BMY': np.float64(529363605.9514114),\n",
       " 'CHTR': np.float64(1082471835.8831897),\n",
       " 'MOH': np.float64(7971996242.391825),\n",
       " 'ROP': np.float64(76179872.15824719),\n",
       " 'SPGI': np.float64(1277284336.5152857),\n",
       " 'SWKS': np.float64(275426279.74152607),\n",
       " 'TER': np.float64(432408037.1398875),\n",
       " 'V': np.float64(2992929519.8593574),\n",
       " 'ALB': np.float64(13562000300.43369),\n",
       " 'AVGO': np.float64(2808550575.4615192),\n",
       " 'DPZ': np.float64(1573502705198.609),\n",
       " 'O': np.float64(9629129088.200756),\n",
       " 'ATO': np.float64(1861445171.4095101),\n",
       " 'ADSK': np.float64(944676485.764901),\n",
       " 'DVA': np.float64(2299165046.4639716),\n",
       " 'DG': np.float64(142826880101.54495),\n",
       " 'FICO': np.float64(465011486.2298697),\n",
       " 'KLAC': np.float64(2696663788617.8916),\n",
       " 'KR': np.float64(799456926467.5587),\n",
       " 'QCOM': np.float64(2471012124.4559746),\n",
       " 'TRV': np.float64(1618848631.1437218),\n",
       " 'GOOGL': np.float64(4528762235.21589),\n",
       " 'GOOG': np.float64(4518845100.690376),\n",
       " 'ADP': np.float64(2039045738.2308033),\n",
       " 'ED': np.float64(4347930755.896026),\n",
       " 'GILD': np.float64(5360910054.4203005),\n",
       " 'GPN': np.float64(1686946599.5236847),\n",
       " 'IDXX': np.float64(1168431843.9800406),\n",
       " 'LRCX': np.float64(11011342146.206438),\n",
       " 'META': np.float64(1596684570.5839581),\n",
       " 'MU': np.float64(6153451288.779008),\n",
       " 'MPWR': np.float64(1979715851.9447243),\n",
       " 'PYPL': np.float64(2806015286.328869),\n",
       " 'REGN': np.float64(2398264639236.022),\n",
       " 'CRM': np.float64(1806574476.5864854),\n",
       " 'SHW': np.float64(1799579093.5518792),\n",
       " 'TDY': np.float64(844590600.3541409),\n",
       " 'TXN': np.float64(2997962738.197953),\n",
       " 'ZTS': np.float64(2402270869.4737306),\n",
       " 'AMAT': np.float64(9262021305.208338),\n",
       " 'BBY': np.float64(7701958561.149301),\n",
       " 'CDW': np.float64(4457180866.788596),\n",
       " 'CI': np.float64(2905884275.4084244),\n",
       " 'DOV': np.float64(5108356461.90116),\n",
       " 'EL': np.float64(2938931333.0889025),\n",
       " 'BEN': np.float64(28820592660.60814),\n",
       " 'FCX': np.float64(51204967348.23589),\n",
       " 'GM': np.float64(17156010109.205147),\n",
       " 'IQV': np.float64(3436969569.579391),\n",
       " 'MCHP': np.float64(11907075621.773651),\n",
       " 'PG': np.float64(5055607282.887789),\n",
       " 'ROL': np.float64(21992839694.347603),\n",
       " 'TMO': np.float64(1703624392.5570269),\n",
       " 'UNH': np.float64(2107459004.554475),\n",
       " 'T': np.float64(53087152231.70809),\n",
       " 'TECH': np.float64(20797504401.534893),\n",
       " 'BLDR': np.float64(41031333521.79621),\n",
       " 'KMX': np.float64(10789445573.98709),\n",
       " 'CMCSA': np.float64(26329249547.93894),\n",
       " 'EW': np.float64(13508850585.950626),\n",
       " 'EQR': np.float64(14756598144.566177),\n",
       " 'FAST': np.float64(67604984805.11949),\n",
       " 'FSLR': np.float64(20776316180.519424),\n",
       " 'DOC': np.float64(37109187177.64592),\n",
       " 'HON': np.float64(6739299124.365165),\n",
       " 'ITW': np.float64(6383501884.962071),\n",
       " 'ISRG': np.float64(5383456147.645755),\n",
       " 'JNPR': np.float64(52015777189.338554),\n",
       " 'LOW': np.float64(9266650216.017048),\n",
       " 'MHK': np.float64(8060133606.638079),\n",
       " 'NVR': np.float64(262868606.10792756),\n",
       " 'PKG': np.float64(12516558960.871706),\n",
       " 'PLD': np.float64(12674904389.130074),\n",
       " 'PEG': np.float64(20678172537.968666),\n",
       " 'ROK': np.float64(5600670006.7494335),\n",
       " 'TJX': np.float64(16925924780.066051),\n",
       " 'TSCO': np.float64(56465587195.16394),\n",
       " 'UHS': np.float64(7637528326.680735),\n",
       " 'WY': np.float64(43950377256.46241),\n",
       " 'MO': np.float64(13892693674496.867),\n",
       " 'EA': np.float64(3804456265244.6514),\n",
       " 'GNRC': np.float64(3610463195883.061),\n",
       " 'INCY': np.float64(5170576428103.17),\n",
       " 'ICE': np.float64(4430830445942.537),\n",
       " 'KEYS': np.float64(4094664009516.5063),\n",
       " 'KHC': np.float64(19667219673396.492),\n",
       " 'MTD': np.float64(545753059736.7599),\n",
       " 'PM': np.float64(5969201051019.29),\n",
       " 'PWR': np.float64(11157670826071.223),\n",
       " 'DGX': np.float64(3700074385419.6333),\n",
       " 'SJM': np.float64(4037943897848.536),\n",
       " 'VZ': np.float64(9039002602842.781),\n",
       " 'GWW': np.float64(1514918942201.104)}"
      ]
     },
     "execution_count": 37,
     "metadata": {},
     "output_type": "execute_result"
    }
   ],
   "source": [
    "import numpy as np\n",
    "\n",
    "p.holdings_history[d - np.timedelta64(1, 'D')]"
   ]
  },
  {
   "cell_type": "code",
   "execution_count": 39,
   "metadata": {},
   "outputs": [],
   "source": [
    "import numpy as np\n",
    "\n",
    "dd = np.datetime64(\"2020-03-31 00:00:00\")\n"
   ]
  },
  {
   "cell_type": "code",
   "execution_count": 48,
   "metadata": {},
   "outputs": [
    {
     "name": "stdout",
     "output_type": "stream",
     "text": [
      "EQT 1\n",
      "NEM 1\n",
      "WBA -1\n"
     ]
    }
   ],
   "source": [
    "for t, s in p.trading_plan_history[dd + np.timedelta64(13, 'D')].items():\n",
    "    if s != 0:\n",
    "        print(t, s)"
   ]
  },
  {
   "cell_type": "code",
   "execution_count": 43,
   "metadata": {},
   "outputs": [
    {
     "name": "stdout",
     "output_type": "stream",
     "text": [
      "AOS -25.841437772707277\n",
      "AEE -21.97344380180759\n",
      "AMT -1.3971668793794352\n",
      "AWK -10.628062751096547\n",
      "ATO -0.29323901822513115\n",
      "BDX -5.541042382164618\n",
      "CAH -11.091823993766273\n",
      "CINF -4.437411374430921\n",
      "CMS -12.42017927744172\n",
      "CL -14.034717996967094\n",
      "CMCSA -1.5315086939310718\n",
      "CCI -5.199217307862217\n",
      "DLR -13.550098966554739\n",
      "D -4.163538282365312\n",
      "FAST -3.9324182709272653\n",
      "GNRC -0.5486219448200239\n",
      "HSY -0.9523068435850937\n",
      "JKHY -5.760558092525255\n",
      "JNJ -13.136772195028554\n",
      "LLY -11.548222852395273\n",
      "MCK -2.939616988740836\n",
      "MRK -2.022248904413683\n",
      "MNST -22.75169048572631\n",
      "PM -0.9070400422212203\n",
      "POOL -1.1454908192129531\n",
      "PG -1.1096853180659378\n",
      "RMD -2.1584763484217833\n",
      "SBAC -2.3693089514496206\n",
      "TMO -0.3739386526952858\n",
      "WBD -2712.4920648270486\n",
      "XEL -24.32405467203897\n",
      "XYL -1.7432700292444836\n"
     ]
    }
   ],
   "source": [
    "for t, s in p.transaction_history[dd].items():\n",
    "    print(t, s)"
   ]
  },
  {
   "cell_type": "code",
   "execution_count": 44,
   "metadata": {},
   "outputs": [
    {
     "name": "stdout",
     "output_type": "stream",
     "text": [
      "WM 13.678624185108486\n",
      "ENPH 78.87633345285963\n",
      "CHD 1.4125414116285129\n",
      "CSGP 5.381298529006676\n",
      "IRM 5.113125981511212\n",
      "REGN 12.562699937521746\n",
      "ROL 4.827339218772343\n",
      "CTRA 41.65547590938124\n",
      "EQT 316.02312834682004\n",
      "CPB 27.46576466584995\n",
      "ED 16.328115232923004\n",
      "WEC 14.334579116737306\n",
      "COST 4.886448839223921\n",
      "K 30.3484384254946\n",
      "GIS 8.662774036253177\n",
      "GILD 5.818314068138684\n",
      "SJM 4.364232225434526\n",
      "CLX 9.739470928922426\n",
      "KR 51.73612157375278\n",
      "WBA 40.70050182812897\n",
      "WMT 27.00917510214493\n"
     ]
    }
   ],
   "source": [
    "for t,s in p.holdings_history[dd].items():\n",
    "    print(t, s)"
   ]
  },
  {
   "cell_type": "code",
   "execution_count": 53,
   "metadata": {},
   "outputs": [
    {
     "data": {
      "text/plain": [
       "2020-03-31    -0.375478\n",
       "2020-04-30    -0.903690\n",
       "2020-05-31    10.278006\n",
       "2020-06-30     0.733311\n",
       "2020-07-31    -0.149151\n",
       "2020-08-31     0.262987\n",
       "2020-09-30     0.046252\n",
       "2020-10-31    -0.366026\n",
       "2020-11-30     0.291741\n",
       "2020-12-31     0.209702\n",
       "2021-01-31     0.090788\n",
       "2021-02-28    -0.130844\n",
       "2021-03-31    -0.072763\n",
       "2021-04-30     0.047416\n",
       "2021-05-31     0.416183\n",
       "2021-06-30    -0.223954\n",
       "2021-07-31     0.087988\n",
       "2021-08-31     0.062898\n",
       "2021-09-30     0.042627\n",
       "2021-10-31    -0.379280\n",
       "2021-11-30     0.621910\n",
       "2021-12-31    -0.178206\n",
       "Freq: ME, dtype: float64"
      ]
     },
     "execution_count": 53,
     "metadata": {},
     "output_type": "execute_result"
    }
   ],
   "source": [
    "re = a.performance_metrics()\n",
    "re[\"monthly_returns\"]"
   ]
  },
  {
   "cell_type": "code",
   "execution_count": null,
   "metadata": {},
   "outputs": [],
   "source": []
  }
 ],
 "metadata": {
  "kernelspec": {
   "display_name": ".venv",
   "language": "python",
   "name": "python3"
  },
  "language_info": {
   "codemirror_mode": {
    "name": "ipython",
    "version": 3
   },
   "file_extension": ".py",
   "mimetype": "text/x-python",
   "name": "python",
   "nbconvert_exporter": "python",
   "pygments_lexer": "ipython3",
   "version": "3.13.1"
  }
 },
 "nbformat": 4,
 "nbformat_minor": 2
}
