{
 "cells": [
  {
   "cell_type": "code",
   "execution_count": 1,
   "metadata": {},
   "outputs": [],
   "source": [
    "%load_ext autoreload\n",
    "%autoreload 2"
   ]
  },
  {
   "cell_type": "code",
   "execution_count": 4,
   "metadata": {},
   "outputs": [],
   "source": [
    "from reporting.report_generator import ReportGenerator\n",
    "from IPython.display import Image, display\n",
    "from reportlab.pdfgen import canvas\n",
    "from reportlab.lib.pagesizes import letter\n",
    "import os\n",
    "def show_me(data, filename=\"temp\"):\n",
    "    c = canvas.Canvas(f\"temp/{filename}.pdf\", pagesize=letter)\n",
    "    data.wrapOn(c, 400, 300)\n",
    "    data.drawOn(c, 50, 500)\n",
    "    c.save()\n",
    "    os.system(f\"sips -s format png temp/{filename}.pdf --out temp/{filename}.png\")  # Mac\n",
    "    display(Image(f\"temp/{filename}.png\"))"
   ]
  },
  {
   "cell_type": "code",
   "execution_count": 5,
   "metadata": {},
   "outputs": [],
   "source": [
    "from backtesting.portfolio_cache import load_cached_object"
   ]
  },
  {
   "cell_type": "code",
   "execution_count": 108,
   "metadata": {},
   "outputs": [],
   "source": [
    "# table = report_generator.create_holdings_summary_table()\n",
    "# show_me(table)"
   ]
  },
  {
   "cell_type": "code",
   "execution_count": 132,
   "metadata": {},
   "outputs": [],
   "source": [
    "# buf = report_generator.create_portfolio_value_chart()\n",
    "# display(Image(buf.getvalue())), buf"
   ]
  },
  {
   "cell_type": "code",
   "execution_count": 12,
   "metadata": {},
   "outputs": [
    {
     "name": "stdout",
     "output_type": "stream",
     "text": [
      "Custom PDF report saved to: reports/dummy_portfolio_custom_report_20250606_235855.pdf\n"
     ]
    },
    {
     "data": {
      "text/plain": [
       "'reports/dummy_portfolio_custom_report_20250606_235855.pdf'"
      ]
     },
     "execution_count": 12,
     "metadata": {},
     "output_type": "execute_result"
    }
   ],
   "source": [
    "portfolio.generate_report()"
   ]
  },
  {
   "cell_type": "markdown",
   "metadata": {},
   "source": []
  },
  {
   "cell_type": "code",
   "execution_count": null,
   "metadata": {},
   "outputs": [],
   "source": []
  },
  {
   "cell_type": "code",
   "execution_count": 6,
   "metadata": {},
   "outputs": [],
   "source": [
    "from backtesting.backtest import Backtest\n",
    "from backtesting.scenarios import scenario_1, scenario_2, scenario_3"
   ]
  },
  {
   "cell_type": "code",
   "execution_count": null,
   "metadata": {},
   "outputs": [
    {
     "name": "stdout",
     "output_type": "stream",
     "text": [
      "Backtest starting... whomp whomp!\n",
      "Total trading days: 2717\n",
      "Universe size: 480\n",
      " Starting in 2015-01-01\n",
      " Ending in 2025-06-01\n"
     ]
    },
    {
     "name": "stderr",
     "output_type": "stream",
     "text": [
      "Backtesting: 100%|██████████| 2717/2717 [24:48<00:00,  1.82day/s]\n"
     ]
    },
    {
     "name": "stdout",
     "output_type": "stream",
     "text": [
      "Ding ding ding! Backtest completed!\n",
      "Custom PDF report saved to: reports/sp500_10yrs_unconstrained_no_short_macd_rsi_bollinger_mr_custom_report_20250607_104301.pdf\n"
     ]
    },
    {
     "data": {
      "text/plain": [
       "'reports/sp500_10yrs_unconstrained_no_short_macd_rsi_bollinger_mr_custom_report_20250607_104301.pdf'"
      ]
     },
     "execution_count": 8,
     "metadata": {},
     "output_type": "execute_result"
    }
   ],
   "source": [
    "backtest = Backtest.from_scenario(scenario_1)\n",
    "\n",
    "backtest.run()\n",
    "backtest.generate_report(filename=\"backtest_report.pdf\")"
   ]
  },
  {
   "cell_type": "code",
   "execution_count": 3,
   "metadata": {},
   "outputs": [],
   "source": [
    "portfolio = backtest.get_portfolio()\n"
   ]
  },
  {
   "cell_type": "code",
   "execution_count": 2,
   "metadata": {},
   "outputs": [],
   "source": [
    "from backtesting.portfolio_cache import cache_backtest,load_cached_object\n",
    "\n",
    "# cache_backtest(backtest)"
   ]
  },
  {
   "cell_type": "code",
   "execution_count": 92,
   "metadata": {},
   "outputs": [
    {
     "name": "stdout",
     "output_type": "stream",
     "text": [
      "Loaded from cache: fe69967064\n"
     ]
    }
   ],
   "source": [
    "p = load_cached_object(\"fe69967064\")"
   ]
  },
  {
   "cell_type": "code",
   "execution_count": 144,
   "metadata": {},
   "outputs": [
    {
     "name": "stdout",
     "output_type": "stream",
     "text": [
      "Custom PDF report saved to: reports/cached_report.pdf\n"
     ]
    },
    {
     "data": {
      "text/plain": [
       "'reports/cached_report.pdf'"
      ]
     },
     "execution_count": 144,
     "metadata": {},
     "output_type": "execute_result"
    }
   ],
   "source": [
    "p.generate_report(filename=f\"cached_report.pdf\")\n"
   ]
  },
  {
   "cell_type": "code",
   "execution_count": 148,
   "metadata": {},
   "outputs": [
    {
     "name": "stdout",
     "output_type": "stream",
     "text": [
      "Backtest starting... whomp whomp!\n",
      "Total trading days: 85\n",
      "Universe size: 480\n",
      " Starting in 2025-02-01\n",
      " Ending in 2025-06-01\n"
     ]
    },
    {
     "name": "stderr",
     "output_type": "stream",
     "text": [
      "Backtesting: 100%|██████████| 85/85 [00:07<00:00, 11.07day/s]\n"
     ]
    },
    {
     "name": "stdout",
     "output_type": "stream",
     "text": [
      "Ding ding ding! Backtest completed!\n",
      "Custom PDF report saved to: reports/backtest_report2.pdf\n"
     ]
    },
    {
     "data": {
      "text/plain": [
       "'reports/backtest_report2.pdf'"
      ]
     },
     "execution_count": 148,
     "metadata": {},
     "output_type": "execute_result"
    }
   ],
   "source": [
    "backtest = Backtest.from_scenario(scenario_2)\n",
    "\n",
    "backtest.run()\n",
    "backtest.generate_report(filename=\"backtest_report2.pdf\")"
   ]
  },
  {
   "cell_type": "code",
   "execution_count": 91,
   "metadata": {},
   "outputs": [
    {
     "name": "stdout",
     "output_type": "stream",
     "text": [
      "Custom PDF report saved to: reports/backtest_report2.pdf\n"
     ]
    },
    {
     "data": {
      "text/plain": [
       "'reports/backtest_report2.pdf'"
      ]
     },
     "execution_count": 91,
     "metadata": {},
     "output_type": "execute_result"
    }
   ],
   "source": [
    "backtest.generate_report(filename=\"backtest_report2.pdf\")"
   ]
  },
  {
   "cell_type": "code",
   "execution_count": 7,
   "metadata": {},
   "outputs": [
    {
     "name": "stdout",
     "output_type": "stream",
     "text": [
      "Backtest starting... whomp whomp!\n",
      "Total trading days: 890\n",
      "Universe size: 480\n",
      " Starting in 2022-01-01\n",
      " Ending in 2025-06-01\n"
     ]
    },
    {
     "name": "stderr",
     "output_type": "stream",
     "text": [
      "Backtesting: 100%|██████████| 890/890 [01:16<00:00, 11.59day/s]\n"
     ]
    },
    {
     "name": "stdout",
     "output_type": "stream",
     "text": [
      "Ding ding ding! Backtest completed!\n",
      "Custom PDF report saved to: reports/backtest_report3.pdf\n"
     ]
    },
    {
     "data": {
      "text/plain": [
       "'reports/backtest_report3.pdf'"
      ]
     },
     "execution_count": 7,
     "metadata": {},
     "output_type": "execute_result"
    }
   ],
   "source": [
    "backtest = Backtest.from_scenario(scenario_3)\n",
    "\n",
    "backtest.run()\n",
    "backtest.generate_report(filename=\"backtest_report3.pdf\")"
   ]
  },
  {
   "cell_type": "code",
   "execution_count": 151,
   "metadata": {},
   "outputs": [
    {
     "name": "stdout",
     "output_type": "stream",
     "text": [
      "Backtest saved to cache with key: b890f212a2\n",
      "File size: 38.63 MB\n",
      "Cached backtest with key: b890f212a2\n"
     ]
    },
    {
     "data": {
      "text/plain": [
       "'b890f212a2'"
      ]
     },
     "execution_count": 151,
     "metadata": {},
     "output_type": "execute_result"
    }
   ],
   "source": [
    "cache_backtest(backtest)"
   ]
  },
  {
   "cell_type": "code",
   "execution_count": 3,
   "metadata": {},
   "outputs": [
    {
     "name": "stdout",
     "output_type": "stream",
     "text": [
      "Loaded from cache: b890f212a2\n"
     ]
    }
   ],
   "source": [
    "b = load_cached_object(\"b890f212a2\")"
   ]
  },
  {
   "cell_type": "code",
   "execution_count": 4,
   "metadata": {},
   "outputs": [
    {
     "name": "stdout",
     "output_type": "stream",
     "text": [
      "Custom PDF report saved to: reports/sp500_3yrs_unconstrained_no_short_macd_custom_report_20250607_165638.pdf\n"
     ]
    },
    {
     "data": {
      "text/plain": [
       "'reports/sp500_3yrs_unconstrained_no_short_macd_custom_report_20250607_165638.pdf'"
      ]
     },
     "execution_count": 4,
     "metadata": {},
     "output_type": "execute_result"
    }
   ],
   "source": [
    "b.generate_report()"
   ]
  },
  {
   "cell_type": "code",
   "execution_count": 156,
   "metadata": {},
   "outputs": [],
   "source": [
    "date = \"2025-04-23\""
   ]
  },
  {
   "cell_type": "code",
   "execution_count": 157,
   "metadata": {},
   "outputs": [
    {
     "data": {
      "text/html": [
       "<div>\n",
       "<style scoped>\n",
       "    .dataframe tbody tr th:only-of-type {\n",
       "        vertical-align: middle;\n",
       "    }\n",
       "\n",
       "    .dataframe tbody tr th {\n",
       "        vertical-align: top;\n",
       "    }\n",
       "\n",
       "    .dataframe thead th {\n",
       "        text-align: right;\n",
       "    }\n",
       "</style>\n",
       "<table border=\"1\" class=\"dataframe\">\n",
       "  <thead>\n",
       "    <tr style=\"text-align: right;\">\n",
       "      <th></th>\n",
       "      <th>MMM</th>\n",
       "      <th>AOS</th>\n",
       "      <th>ABT</th>\n",
       "      <th>ABBV</th>\n",
       "      <th>ADBE</th>\n",
       "      <th>AMD</th>\n",
       "      <th>AFL</th>\n",
       "      <th>A</th>\n",
       "      <th>ABNB</th>\n",
       "      <th>AKAM</th>\n",
       "      <th>...</th>\n",
       "      <th>WSM</th>\n",
       "      <th>WMB</th>\n",
       "      <th>WDAY</th>\n",
       "      <th>WYNN</th>\n",
       "      <th>XYL</th>\n",
       "      <th>YUM</th>\n",
       "      <th>ZBRA</th>\n",
       "      <th>ZBH</th>\n",
       "      <th>ZTS</th>\n",
       "      <th>Date</th>\n",
       "    </tr>\n",
       "    <tr>\n",
       "      <th>Date</th>\n",
       "      <th></th>\n",
       "      <th></th>\n",
       "      <th></th>\n",
       "      <th></th>\n",
       "      <th></th>\n",
       "      <th></th>\n",
       "      <th></th>\n",
       "      <th></th>\n",
       "      <th></th>\n",
       "      <th></th>\n",
       "      <th></th>\n",
       "      <th></th>\n",
       "      <th></th>\n",
       "      <th></th>\n",
       "      <th></th>\n",
       "      <th></th>\n",
       "      <th></th>\n",
       "      <th></th>\n",
       "      <th></th>\n",
       "      <th></th>\n",
       "      <th></th>\n",
       "    </tr>\n",
       "  </thead>\n",
       "  <tbody>\n",
       "    <tr>\n",
       "      <th>2025-04-23</th>\n",
       "      <td>138.700692</td>\n",
       "      <td>64.879182</td>\n",
       "      <td>132.210007</td>\n",
       "      <td>175.0</td>\n",
       "      <td>358.119995</td>\n",
       "      <td>91.879997</td>\n",
       "      <td>107.953916</td>\n",
       "      <td>106.669998</td>\n",
       "      <td>119.699997</td>\n",
       "      <td>75.889999</td>\n",
       "      <td>...</td>\n",
       "      <td>148.440002</td>\n",
       "      <td>58.77</td>\n",
       "      <td>226.0</td>\n",
       "      <td>78.947575</td>\n",
       "      <td>113.836451</td>\n",
       "      <td>144.839525</td>\n",
       "      <td>237.889999</td>\n",
       "      <td>98.139999</td>\n",
       "      <td>151.940002</td>\n",
       "      <td>2025-04-23</td>\n",
       "    </tr>\n",
       "  </tbody>\n",
       "</table>\n",
       "<p>1 rows × 364 columns</p>\n",
       "</div>"
      ],
      "text/plain": [
       "                   MMM        AOS         ABT   ABBV        ADBE        AMD  \\\n",
       "Date                                                                          \n",
       "2025-04-23  138.700692  64.879182  132.210007  175.0  358.119995  91.879997   \n",
       "\n",
       "                   AFL           A        ABNB       AKAM  ...         WSM  \\\n",
       "Date                                                       ...               \n",
       "2025-04-23  107.953916  106.669998  119.699997  75.889999  ...  148.440002   \n",
       "\n",
       "              WMB   WDAY       WYNN         XYL         YUM        ZBRA  \\\n",
       "Date                                                                      \n",
       "2025-04-23  58.77  226.0  78.947575  113.836451  144.839525  237.889999   \n",
       "\n",
       "                  ZBH         ZTS       Date  \n",
       "Date                                          \n",
       "2025-04-23  98.139999  151.940002 2025-04-23  \n",
       "\n",
       "[1 rows x 364 columns]"
      ]
     },
     "execution_count": 157,
     "metadata": {},
     "output_type": "execute_result"
    }
   ],
   "source": [
    "prices = portfolio.get_prices_by_dates(\n",
    "            \"open\", start_date=date, end_date=date, lookahead_window=1\n",
    "        )\n",
    "prices"
   ]
  },
  {
   "cell_type": "code",
   "execution_count": 161,
   "metadata": {},
   "outputs": [],
   "source": [
    "from collections import Counter\n",
    "\n",
    "\n",
    "c = Counter(portfolio.holdings)\n",
    "# portfolio_value = prices[self.holdings].iloc[0].sum()"
   ]
  },
  {
   "cell_type": "code",
   "execution_count": 168,
   "metadata": {},
   "outputs": [
    {
     "data": {
      "text/plain": [
       "dict_values([6, 9, 8, 7, 6, 5, 7, 8, 8, 5, 3, 3, 2, 6, 4, 2, 7, 6, 5, 4, 5, 5, 3, 3, 4, 8, 4, 2, 2, 3, 9, 5, 4, 3, 1, 4, 2, 5, 2, 3, 6, 4, 2, 3, 3, 3, 1, 2, 5, 4, 3, 2, 2, 1, 2, 3, 4, 4, 2, 2, 2, 2, 1, 1, 1, 1, 1, 5, 1, 2, 1, 1, 1, 1, 2, 1, 2, 1, 1, 1, 1, 1, 1, 1, 1, 1, 1, 1, 1, 1, 1, 1, 1, 1, 1, 1, 1, 1, 1, 1, 1, 3, 3, 2, 1, 3, 3, 2, 1, 1, 1, 5, 1, 1, 2])"
      ]
     },
     "execution_count": 168,
     "metadata": {},
     "output_type": "execute_result"
    }
   ],
   "source": [
    "c.values()"
   ]
  },
  {
   "cell_type": "code",
   "execution_count": 172,
   "metadata": {},
   "outputs": [],
   "source": [
    "import pandas as pd\n",
    "\n",
    "c = Counter(portfolio.holdings)\n",
    "shares = pd.DataFrame({\"ticker\": c.keys(), \"count\": c.values()})"
   ]
  },
  {
   "cell_type": "code",
   "execution_count": 176,
   "metadata": {},
   "outputs": [
    {
     "data": {
      "text/html": [
       "<div>\n",
       "<style scoped>\n",
       "    .dataframe tbody tr th:only-of-type {\n",
       "        vertical-align: middle;\n",
       "    }\n",
       "\n",
       "    .dataframe tbody tr th {\n",
       "        vertical-align: top;\n",
       "    }\n",
       "\n",
       "    .dataframe thead th {\n",
       "        text-align: right;\n",
       "    }\n",
       "</style>\n",
       "<table border=\"1\" class=\"dataframe\">\n",
       "  <thead>\n",
       "    <tr style=\"text-align: right;\">\n",
       "      <th></th>\n",
       "      <th>ticker</th>\n",
       "      <th>count</th>\n",
       "    </tr>\n",
       "  </thead>\n",
       "  <tbody>\n",
       "    <tr>\n",
       "      <th>0</th>\n",
       "      <td>EW</td>\n",
       "      <td>6</td>\n",
       "    </tr>\n",
       "    <tr>\n",
       "      <th>1</th>\n",
       "      <td>PFE</td>\n",
       "      <td>9</td>\n",
       "    </tr>\n",
       "    <tr>\n",
       "      <th>2</th>\n",
       "      <td>IQV</td>\n",
       "      <td>8</td>\n",
       "    </tr>\n",
       "    <tr>\n",
       "      <th>3</th>\n",
       "      <td>UHS</td>\n",
       "      <td>7</td>\n",
       "    </tr>\n",
       "    <tr>\n",
       "      <th>4</th>\n",
       "      <td>EFX</td>\n",
       "      <td>6</td>\n",
       "    </tr>\n",
       "    <tr>\n",
       "      <th>...</th>\n",
       "      <td>...</td>\n",
       "      <td>...</td>\n",
       "    </tr>\n",
       "    <tr>\n",
       "      <th>110</th>\n",
       "      <td>UNH</td>\n",
       "      <td>1</td>\n",
       "    </tr>\n",
       "    <tr>\n",
       "      <th>111</th>\n",
       "      <td>CPRT</td>\n",
       "      <td>5</td>\n",
       "    </tr>\n",
       "    <tr>\n",
       "      <th>112</th>\n",
       "      <td>CRWD</td>\n",
       "      <td>1</td>\n",
       "    </tr>\n",
       "    <tr>\n",
       "      <th>113</th>\n",
       "      <td>CNC</td>\n",
       "      <td>1</td>\n",
       "    </tr>\n",
       "    <tr>\n",
       "      <th>114</th>\n",
       "      <td>VRSN</td>\n",
       "      <td>2</td>\n",
       "    </tr>\n",
       "  </tbody>\n",
       "</table>\n",
       "<p>115 rows × 2 columns</p>\n",
       "</div>"
      ],
      "text/plain": [
       "    ticker  count\n",
       "0       EW      6\n",
       "1      PFE      9\n",
       "2      IQV      8\n",
       "3      UHS      7\n",
       "4      EFX      6\n",
       "..     ...    ...\n",
       "110    UNH      1\n",
       "111   CPRT      5\n",
       "112   CRWD      1\n",
       "113    CNC      1\n",
       "114   VRSN      2\n",
       "\n",
       "[115 rows x 2 columns]"
      ]
     },
     "execution_count": 176,
     "metadata": {},
     "output_type": "execute_result"
    }
   ],
   "source": [
    "shares"
   ]
  },
  {
   "cell_type": "code",
   "execution_count": 175,
   "metadata": {},
   "outputs": [
    {
     "data": {
      "text/html": [
       "<div>\n",
       "<style scoped>\n",
       "    .dataframe tbody tr th:only-of-type {\n",
       "        vertical-align: middle;\n",
       "    }\n",
       "\n",
       "    .dataframe tbody tr th {\n",
       "        vertical-align: top;\n",
       "    }\n",
       "\n",
       "    .dataframe thead th {\n",
       "        text-align: right;\n",
       "    }\n",
       "</style>\n",
       "<table border=\"1\" class=\"dataframe\">\n",
       "  <thead>\n",
       "    <tr style=\"text-align: right;\">\n",
       "      <th>Date</th>\n",
       "      <th>2025-04-23</th>\n",
       "    </tr>\n",
       "  </thead>\n",
       "  <tbody>\n",
       "    <tr>\n",
       "      <th>MMM</th>\n",
       "      <td>138.700692</td>\n",
       "    </tr>\n",
       "    <tr>\n",
       "      <th>AOS</th>\n",
       "      <td>64.879182</td>\n",
       "    </tr>\n",
       "    <tr>\n",
       "      <th>ABT</th>\n",
       "      <td>132.210007</td>\n",
       "    </tr>\n",
       "    <tr>\n",
       "      <th>ABBV</th>\n",
       "      <td>175.0</td>\n",
       "    </tr>\n",
       "    <tr>\n",
       "      <th>ADBE</th>\n",
       "      <td>358.119995</td>\n",
       "    </tr>\n",
       "    <tr>\n",
       "      <th>...</th>\n",
       "      <td>...</td>\n",
       "    </tr>\n",
       "    <tr>\n",
       "      <th>YUM</th>\n",
       "      <td>144.839525</td>\n",
       "    </tr>\n",
       "    <tr>\n",
       "      <th>ZBRA</th>\n",
       "      <td>237.889999</td>\n",
       "    </tr>\n",
       "    <tr>\n",
       "      <th>ZBH</th>\n",
       "      <td>98.139999</td>\n",
       "    </tr>\n",
       "    <tr>\n",
       "      <th>ZTS</th>\n",
       "      <td>151.940002</td>\n",
       "    </tr>\n",
       "    <tr>\n",
       "      <th>Date</th>\n",
       "      <td>2025-04-23 00:00:00</td>\n",
       "    </tr>\n",
       "  </tbody>\n",
       "</table>\n",
       "<p>364 rows × 1 columns</p>\n",
       "</div>"
      ],
      "text/plain": [
       "Date           2025-04-23\n",
       "MMM            138.700692\n",
       "AOS             64.879182\n",
       "ABT            132.210007\n",
       "ABBV                175.0\n",
       "ADBE           358.119995\n",
       "...                   ...\n",
       "YUM            144.839525\n",
       "ZBRA           237.889999\n",
       "ZBH             98.139999\n",
       "ZTS            151.940002\n",
       "Date  2025-04-23 00:00:00\n",
       "\n",
       "[364 rows x 1 columns]"
      ]
     },
     "execution_count": 175,
     "metadata": {},
     "output_type": "execute_result"
    }
   ],
   "source": [
    "prices.T"
   ]
  },
  {
   "cell_type": "code",
   "execution_count": 177,
   "metadata": {},
   "outputs": [
    {
     "data": {
      "text/plain": [
       "array(['AAPL', 'ABBV', 'AKAM', 'AMGN', 'AOS', 'APA', 'AVY', 'BA', 'BALL',\n",
       "       'BAX', 'BDX', 'BIIB', 'BKR', 'BMY', 'BSX', 'CI', 'CNC', 'COF',\n",
       "       'COO', 'COP', 'CPRT', 'CRM', 'CRWD', 'CVS', 'CVX', 'DAY', 'DGX',\n",
       "       'DHI', 'DVA', 'DVN', 'EFX', 'ELV', 'EW', 'EXPD', 'EXPE', 'F',\n",
       "       'FANG', 'FAST', 'FICO', 'FIS', 'GD', 'GDDY', 'GE', 'GEHC', 'GILD',\n",
       "       'GL', 'GLW', 'GPN', 'HAL', 'HAS', 'HBAN', 'HES', 'HII', 'HON',\n",
       "       'HUM', 'INCY', 'IQV', 'IT', 'J', 'JNJ', 'JNPR', 'JPM', 'LEN',\n",
       "       'LLY', 'MA', 'MCD', 'MMC', 'MRK', 'MRNA', 'MSI', 'NDAQ', 'NKE',\n",
       "       'NTAP', 'NWSA', 'OKE', 'OTIS', 'PANW', 'PFE', 'PGR', 'PHM', 'PRU',\n",
       "       'PYPL', 'QCOM', 'REGN', 'ROP', 'RTX', 'RVTY', 'SBUX', 'SCHW',\n",
       "       'SLB', 'SMCI', 'SNPS', 'SPGI', 'STT', 'SYK', 'TECH', 'TMO', 'TRGP',\n",
       "       'TRV', 'TYL', 'UHS', 'ULTA', 'UNH', 'UPS', 'V', 'VRSN', 'VRTX',\n",
       "       'WAB', 'WDAY', 'WDC', 'WFC', 'WST', 'XOM', 'ZBH', 'ZTS'],\n",
       "      dtype='<U4')"
      ]
     },
     "execution_count": 177,
     "metadata": {},
     "output_type": "execute_result"
    }
   ],
   "source": [
    "import numpy as np\n",
    "\n",
    "np.unique(portfolio.holdings)"
   ]
  },
  {
   "cell_type": "code",
   "execution_count": 178,
   "metadata": {},
   "outputs": [
    {
     "data": {
      "text/plain": [
       "np.float64(21778.717874953283)"
      ]
     },
     "execution_count": 178,
     "metadata": {},
     "output_type": "execute_result"
    }
   ],
   "source": [
    "import numpy as np\n",
    "\n",
    "prices[np.unique(portfolio.holdings)].iloc[0].sum()"
   ]
  },
  {
   "cell_type": "code",
   "execution_count": null,
   "metadata": {},
   "outputs": [],
   "source": []
  }
 ],
 "metadata": {
  "kernelspec": {
   "display_name": ".venv",
   "language": "python",
   "name": "python3"
  },
  "language_info": {
   "codemirror_mode": {
    "name": "ipython",
    "version": 3
   },
   "file_extension": ".py",
   "mimetype": "text/x-python",
   "name": "python",
   "nbconvert_exporter": "python",
   "pygments_lexer": "ipython3",
   "version": "3.13.1"
  }
 },
 "nbformat": 4,
 "nbformat_minor": 2
}
