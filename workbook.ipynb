{
 "cells": [
  {
   "cell_type": "code",
   "execution_count": 1,
   "metadata": {},
   "outputs": [],
   "source": [
    "%load_ext autoreload\n",
    "%autoreload 2"
   ]
  },
  {
   "cell_type": "code",
   "execution_count": 2,
   "metadata": {},
   "outputs": [],
   "source": [
    "import numpy as np\n",
    "import pandas as pd"
   ]
  },
  {
   "cell_type": "code",
   "execution_count": 4,
   "metadata": {},
   "outputs": [
    {
     "name": "stdout",
     "output_type": "stream",
     "text": [
      "PortfolioSetup instance: PortfolioSetup(initial_capital=100000, initial_holdings={}, new_capital_growth_pct=0.0, new_capital_growth_amt=10000, capital_growth_freq='M')\n",
      "new_capital_growth_amt attribute: 10000\n",
      "to_dict() result: {'initial_capital': 100000, 'initial_holdings': {}, 'new_capital_growth_pct': 0.0, 'new_capital_growth_amt': 10000, 'capital_growth_freq': 'M'}\n",
      "Manually updated DEFAULT_PORTFOLIO_SETUP: {'initial_capital': 100000, 'initial_holdings': {}, 'new_capital_growth_pct': 0.0, 'new_capital_growth_amt': 0, 'capital_growth_freq': 'M'}\n",
      "Updated DEFAULT_BACKTEST_PARAMS setup: {'initial_capital': 100000, 'initial_holdings': {}, 'new_capital_growth_pct': 0.0, 'new_capital_growth_amt': 0, 'capital_growth_freq': 'M'}\n"
     ]
    }
   ],
   "source": [
    "# Debug the PortfolioSetup class and directly update the config\n",
    "from config import PortfolioSetup\n",
    "import config\n",
    "\n",
    "# Let's debug what's happening\n",
    "ps = PortfolioSetup()\n",
    "print(\"PortfolioSetup instance:\", ps)  \n",
    "print(\"new_capital_growth_amt attribute:\", ps.new_capital_growth_amt)\n",
    "print(\"to_dict() result:\", ps.to_dict())\n",
    "\n",
    "# Force the value directly \n",
    "config.DEFAULT_PORTFOLIO_SETUP = {\n",
    "    'initial_capital': 100000, \n",
    "    'initial_holdings': {}, \n",
    "    'new_capital_growth_pct': 0.0, \n",
    "    'new_capital_growth_amt': 0,  # Force the correct value\n",
    "    'capital_growth_freq': 'M'\n",
    "}\n",
    "print(\"Manually updated DEFAULT_PORTFOLIO_SETUP:\", config.DEFAULT_PORTFOLIO_SETUP)\n",
    "\n",
    "# Also update DEFAULT_BACKTEST_PARAMS\n",
    "config.DEFAULT_BACKTEST_PARAMS['setup'] = config.DEFAULT_PORTFOLIO_SETUP\n",
    "print(\"Updated DEFAULT_BACKTEST_PARAMS setup:\", config.DEFAULT_BACKTEST_PARAMS['setup'])\n"
   ]
  },
  {
   "cell_type": "code",
   "execution_count": 5,
   "metadata": {},
   "outputs": [
    {
     "name": "stdout",
     "output_type": "stream",
     "text": [
      "{'initial_capital': 100000, 'initial_holdings': {}, 'new_capital_growth_pct': 0.0, 'new_capital_growth_amt': 0, 'capital_growth_freq': 'M'}\n",
      "Backtest starting... whomp whomp!\n",
      "Total trading days: 855\n",
      "Universe size: 480\n",
      "Total strategies: 4\n",
      "Starting in 2022-01-01\n",
      "Ending in 2025-06-01\n"
     ]
    },
    {
     "name": "stderr",
     "output_type": "stream",
     "text": [
      "Backtesting by date x strategy:  97%|█████████▋| 826/855 [00:18<00:00, 37.85day/s]"
     ]
    },
    {
     "name": "stdout",
     "output_type": "stream",
     "text": [
      "Long trade amount 243 too large violates max trade constraint\n"
     ]
    },
    {
     "name": "stderr",
     "output_type": "stream",
     "text": [
      "Backtesting by date x strategy: 100%|██████████| 855/855 [00:18<00:00, 45.28day/s]\n"
     ]
    },
    {
     "name": "stdout",
     "output_type": "stream",
     "text": [
      "Ding ding ding! Backtest completed!\n",
      "Report saved to: reports/test.pdf\n"
     ]
    },
    {
     "data": {
      "text/plain": [
       "'reports/test.pdf'"
      ]
     },
     "execution_count": 5,
     "metadata": {},
     "output_type": "execute_result"
    }
   ],
   "source": [
    "from backtesting.backtest import Backtest\n",
    "from backtesting.scenarios import Scenario\n",
    "from config import DEFAULT_BACKTEST_PARAMS, DEFAULT_STRATEGY_CONFIG\n",
    "\n",
    "scenario = Scenario(\n",
    "    name=DEFAULT_BACKTEST_PARAMS[\"scenario_name\"],\n",
    "    start_date=DEFAULT_BACKTEST_PARAMS[\"start_date\"],\n",
    "    end_date=DEFAULT_BACKTEST_PARAMS[\"end_date\"],\n",
    "    constraints=DEFAULT_BACKTEST_PARAMS[\"constraints\"],\n",
    "    portfolio_setup=DEFAULT_BACKTEST_PARAMS[\"setup\"],\n",
    "    benchmark=DEFAULT_BACKTEST_PARAMS[\"benchmark\"],\n",
    ")\n",
    "\n",
    "strategies = DEFAULT_STRATEGY_CONFIG.to_strategies()\n",
    "scenario.set_strategies(strategies)\n",
    "\n",
    "backtest = Backtest(scenario)\n",
    "backtest.run(verbose=True)\n",
    "backtest.generate_report(filename=\"test\")"
   ]
  },
  {
   "cell_type": "code",
   "execution_count": 7,
   "metadata": {},
   "outputs": [
    {
     "name": "stdout",
     "output_type": "stream",
     "text": [
      "{'initial_capital': 100000, 'initial_holdings': {}, 'new_capital_growth_pct': 0.0, 'new_capital_growth_amt': 0, 'capital_growth_freq': 'M'}\n",
      "Backtest starting... swoosh!\n",
      "Universe size: 480\n",
      "Total trading days: 855\n",
      "Total strategies: 4\n",
      "Starting in 2022-01-01\n",
      "Ending in 2025-06-01\n"
     ]
    },
    {
     "name": "stderr",
     "output_type": "stream",
     "text": [
      "Backtesting by strategy: 100%|██████████| 4/4 [00:03<00:00,  1.33strategy/s]\n"
     ]
    },
    {
     "name": "stdout",
     "output_type": "stream",
     "text": [
      "Long trade amount 243 too large violates max trade constraint\n",
      "Backtest completed!\n",
      "Report saved to: reports/test2.pdf\n"
     ]
    },
    {
     "data": {
      "text/plain": [
       "'reports/test2.pdf'"
      ]
     },
     "execution_count": 7,
     "metadata": {},
     "output_type": "execute_result"
    }
   ],
   "source": [
    "from backtesting.backtest import Backtest\n",
    "from backtesting.scenarios import Scenario\n",
    "from config import DEFAULT_BACKTEST_PARAMS, DEFAULT_STRATEGY_CONFIG\n",
    "\n",
    "scenario = Scenario(\n",
    "    name=DEFAULT_BACKTEST_PARAMS[\"scenario_name\"],\n",
    "    start_date=DEFAULT_BACKTEST_PARAMS[\"start_date\"],\n",
    "    end_date=DEFAULT_BACKTEST_PARAMS[\"end_date\"],\n",
    "    constraints=DEFAULT_BACKTEST_PARAMS[\"constraints\"],\n",
    "    portfolio_setup=DEFAULT_BACKTEST_PARAMS[\"setup\"],\n",
    "    benchmark=DEFAULT_BACKTEST_PARAMS[\"benchmark\"],\n",
    ")\n",
    "\n",
    "strategies = DEFAULT_STRATEGY_CONFIG.to_strategies()\n",
    "scenario.set_strategies(strategies)\n",
    "\n",
    "backtest = Backtest(scenario)\n",
    "backtest.run_batch(verbose=True)\n",
    "backtest.generate_report(filename=\"test2\")"
   ]
  },
  {
   "cell_type": "code",
   "execution_count": 2,
   "metadata": {},
   "outputs": [],
   "source": []
  },
  {
   "cell_type": "code",
   "execution_count": 21,
   "metadata": {},
   "outputs": [
    {
     "name": "stdout",
     "output_type": "stream",
     "text": [
      "Running grid search with 5 parameter combinations...\n"
     ]
    },
    {
     "name": "stderr",
     "output_type": "stream",
     "text": [
      "Grid search progress:  60%|██████    | 3/5 [00:02<00:01,  1.62it/s]"
     ]
    },
    {
     "name": "stdout",
     "output_type": "stream",
     "text": [
      "Long trade amount 256 too large violates max trade constraint\n"
     ]
    },
    {
     "name": "stderr",
     "output_type": "stream",
     "text": [
      "Grid search progress: 100%|██████████| 5/5 [00:02<00:00,  2.16it/s]"
     ]
    },
    {
     "name": "stdout",
     "output_type": "stream",
     "text": [
      "Grid search completed! Found 5 valid results.\n"
     ]
    },
    {
     "name": "stderr",
     "output_type": "stream",
     "text": [
      "\n"
     ]
    },
    {
     "data": {
      "text/plain": [
       "{'2': {'grid_num': 'grid_2',\n",
       "  'param_name': 'triggers: rsi_x',\n",
       "  'total_return': np.float64(21.22497519227921),\n",
       "  'annualized_return': np.float64(21.783267808814205),\n",
       "  'annualized_sharpe': np.float64(1.635308040683825),\n",
       "  'annualized_ir': np.float64(-11.808057765325838),\n",
       "  'average_holding_period': np.float64(240.28286852589642),\n",
       "  'max_holding_amount': 371},\n",
       " '4': {'grid_num': 'grid_4',\n",
       "  'param_name': 'triggers: rsi_x, z',\n",
       "  'total_return': np.float64(60.124761708779),\n",
       "  'annualized_return': np.float64(62.169423945721775),\n",
       "  'annualized_sharpe': np.float64(1.4444610302384744),\n",
       "  'annualized_ir': np.float64(-6.282609591365667),\n",
       "  'average_holding_period': np.float64(228.75697211155378),\n",
       "  'max_holding_amount': 350},\n",
       " '1': {'grid_num': 'grid_1',\n",
       "  'param_name': 'triggers: macd_x',\n",
       "  'total_return': np.float64(7.1112181840451125),\n",
       "  'annualized_return': np.float64(7.248192199601906),\n",
       "  'annualized_sharpe': np.float64(2.0250582831107575),\n",
       "  'annualized_ir': np.float64(-2.0129075174563633),\n",
       "  'average_holding_period': np.float64(230.33466135458167),\n",
       "  'max_holding_amount': 453},\n",
       " '3': {'grid_num': 'grid_3',\n",
       "  'param_name': 'triggers: macd_x | filter: b_bands',\n",
       "  'total_return': np.float64(7.607368783063829),\n",
       "  'annualized_return': np.float64(7.833522298197783),\n",
       "  'annualized_sharpe': np.float64(1.3619472518894287),\n",
       "  'annualized_ir': np.float64(-7.4954040073013815),\n",
       "  'average_holding_period': np.float64(249.876),\n",
       "  'max_holding_amount': 436},\n",
       " '5': {'grid_num': 'grid_5',\n",
       "  'param_name': 'triggers: macd_x, b_bands, z, rsi_x',\n",
       "  'total_return': np.float64(55.88390712057793),\n",
       "  'annualized_return': np.float64(57.75290352542925),\n",
       "  'annualized_sharpe': np.float64(1.3294644054330003),\n",
       "  'annualized_ir': np.float64(-5.047789559102326),\n",
       "  'average_holding_period': np.float64(216.65338645418328),\n",
       "  'max_holding_amount': 310}}"
      ]
     },
     "execution_count": 21,
     "metadata": {},
     "output_type": "execute_result"
    }
   ],
   "source": [
    "gs.run()"
   ]
  },
  {
   "cell_type": "code",
   "execution_count": 19,
   "metadata": {},
   "outputs": [
    {
     "data": {
      "text/html": [
       "<div>\n",
       "<style scoped>\n",
       "    .dataframe tbody tr th:only-of-type {\n",
       "        vertical-align: middle;\n",
       "    }\n",
       "\n",
       "    .dataframe tbody tr th {\n",
       "        vertical-align: top;\n",
       "    }\n",
       "\n",
       "    .dataframe thead th {\n",
       "        text-align: right;\n",
       "    }\n",
       "</style>\n",
       "<table border=\"1\" class=\"dataframe\">\n",
       "  <thead>\n",
       "    <tr style=\"text-align: right;\">\n",
       "      <th></th>\n",
       "      <th>grid_num</th>\n",
       "      <th>param_name</th>\n",
       "      <th>total_return</th>\n",
       "      <th>annualized_return</th>\n",
       "      <th>annualized_sharpe</th>\n",
       "      <th>annualized_ir</th>\n",
       "      <th>average_holding_period</th>\n",
       "      <th>max_holding_amount</th>\n",
       "    </tr>\n",
       "  </thead>\n",
       "  <tbody>\n",
       "    <tr>\n",
       "      <th>0</th>\n",
       "      <td>1</td>\n",
       "      <td>triggers: rsi_x</td>\n",
       "      <td>21.224975</td>\n",
       "      <td>21.783268</td>\n",
       "      <td>1.635308</td>\n",
       "      <td>-11.808058</td>\n",
       "      <td>240.282869</td>\n",
       "      <td>371</td>\n",
       "    </tr>\n",
       "    <tr>\n",
       "      <th>1</th>\n",
       "      <td>3</td>\n",
       "      <td>triggers: rsi_x, z</td>\n",
       "      <td>60.124762</td>\n",
       "      <td>62.169424</td>\n",
       "      <td>1.444461</td>\n",
       "      <td>-6.282610</td>\n",
       "      <td>228.756972</td>\n",
       "      <td>350</td>\n",
       "    </tr>\n",
       "    <tr>\n",
       "      <th>2</th>\n",
       "      <td>0</td>\n",
       "      <td>triggers: macd_x</td>\n",
       "      <td>7.111218</td>\n",
       "      <td>7.248192</td>\n",
       "      <td>2.025058</td>\n",
       "      <td>-2.012908</td>\n",
       "      <td>230.334661</td>\n",
       "      <td>453</td>\n",
       "    </tr>\n",
       "    <tr>\n",
       "      <th>3</th>\n",
       "      <td>2</td>\n",
       "      <td>triggers: macd_x | filter: b_bands</td>\n",
       "      <td>7.607369</td>\n",
       "      <td>7.833522</td>\n",
       "      <td>1.361947</td>\n",
       "      <td>-7.495404</td>\n",
       "      <td>249.876000</td>\n",
       "      <td>436</td>\n",
       "    </tr>\n",
       "    <tr>\n",
       "      <th>4</th>\n",
       "      <td>4</td>\n",
       "      <td>triggers: macd_x, b_bands, z, rsi_x</td>\n",
       "      <td>55.883907</td>\n",
       "      <td>57.752904</td>\n",
       "      <td>1.329464</td>\n",
       "      <td>-5.047790</td>\n",
       "      <td>216.653386</td>\n",
       "      <td>310</td>\n",
       "    </tr>\n",
       "  </tbody>\n",
       "</table>\n",
       "</div>"
      ],
      "text/plain": [
       "  grid_num                           param_name  total_return  \\\n",
       "0        1                      triggers: rsi_x     21.224975   \n",
       "1        3                   triggers: rsi_x, z     60.124762   \n",
       "2        0                     triggers: macd_x      7.111218   \n",
       "3        2   triggers: macd_x | filter: b_bands      7.607369   \n",
       "4        4  triggers: macd_x, b_bands, z, rsi_x     55.883907   \n",
       "\n",
       "   annualized_return  annualized_sharpe  annualized_ir  \\\n",
       "0          21.783268           1.635308     -11.808058   \n",
       "1          62.169424           1.444461      -6.282610   \n",
       "2           7.248192           2.025058      -2.012908   \n",
       "3           7.833522           1.361947      -7.495404   \n",
       "4          57.752904           1.329464      -5.047790   \n",
       "\n",
       "   average_holding_period  max_holding_amount  \n",
       "0              240.282869                 371  \n",
       "1              228.756972                 350  \n",
       "2              230.334661                 453  \n",
       "3              249.876000                 436  \n",
       "4              216.653386                 310  "
      ]
     },
     "execution_count": 19,
     "metadata": {},
     "output_type": "execute_result"
    }
   ],
   "source": [
    "gs.results_to_dataframe()"
   ]
  },
  {
   "cell_type": "code",
   "execution_count": 15,
   "metadata": {},
   "outputs": [
    {
     "data": {
      "text/html": [
       "<div>\n",
       "<style scoped>\n",
       "    .dataframe tbody tr th:only-of-type {\n",
       "        vertical-align: middle;\n",
       "    }\n",
       "\n",
       "    .dataframe tbody tr th {\n",
       "        vertical-align: top;\n",
       "    }\n",
       "\n",
       "    .dataframe thead th {\n",
       "        text-align: right;\n",
       "    }\n",
       "</style>\n",
       "<table border=\"1\" class=\"dataframe\">\n",
       "  <thead>\n",
       "    <tr style=\"text-align: right;\">\n",
       "      <th></th>\n",
       "      <th>grid_num</th>\n",
       "      <th>param_name</th>\n",
       "    </tr>\n",
       "  </thead>\n",
       "  <tbody>\n",
       "    <tr>\n",
       "      <th>0</th>\n",
       "      <td>1</td>\n",
       "      <td>triggers: rsi_x</td>\n",
       "    </tr>\n",
       "    <tr>\n",
       "      <th>1</th>\n",
       "      <td>3</td>\n",
       "      <td>triggers: rsi_x, z</td>\n",
       "    </tr>\n",
       "    <tr>\n",
       "      <th>2</th>\n",
       "      <td>0</td>\n",
       "      <td>triggers: macd_x</td>\n",
       "    </tr>\n",
       "    <tr>\n",
       "      <th>3</th>\n",
       "      <td>4</td>\n",
       "      <td>triggers: macd_x, b_bands, z, rsi_x</td>\n",
       "    </tr>\n",
       "  </tbody>\n",
       "</table>\n",
       "</div>"
      ],
      "text/plain": [
       "  grid_num                           param_name\n",
       "0        1                      triggers: rsi_x\n",
       "1        3                   triggers: rsi_x, z\n",
       "2        0                     triggers: macd_x\n",
       "3        4  triggers: macd_x, b_bands, z, rsi_x"
      ]
     },
     "execution_count": 15,
     "metadata": {},
     "output_type": "execute_result"
    }
   ],
   "source": [
    "gs.get_grid_search_schedule()"
   ]
  },
  {
   "cell_type": "code",
   "execution_count": 16,
   "metadata": {},
   "outputs": [
    {
     "data": {
      "text/plain": [
       "[{'triggers': [<Strategies.MACD_CROSSOVER: 'macd_x'>], 'filter': []},\n",
       " {'triggers': [<Strategies.RSI_CROSSOVER: 'rsi_x'>], 'filter': []},\n",
       " {'triggers': [<Strategies.MACD_CROSSOVER: 'macd_x'>],\n",
       "  'filter': [<Strategies.BOLLINGER_BANDS: 'b_bands'>]},\n",
       " {'triggers': [<Strategies.RSI_CROSSOVER: 'rsi_x'>,\n",
       "   <Strategies.Z_SCORE_MEAN_REVERSION: 'z'>],\n",
       "  'filter': []},\n",
       " {'triggers': [<Strategies.MACD_CROSSOVER: 'macd_x'>,\n",
       "   <Strategies.BOLLINGER_BANDS: 'b_bands'>,\n",
       "   <Strategies.Z_SCORE_MEAN_REVERSION: 'z'>,\n",
       "   <Strategies.RSI_CROSSOVER: 'rsi_x'>],\n",
       "  'filter': []}]"
      ]
     },
     "execution_count": 16,
     "metadata": {},
     "output_type": "execute_result"
    }
   ],
   "source": [
    "gs.grid_params"
   ]
  },
  {
   "cell_type": "code",
   "execution_count": null,
   "metadata": {},
   "outputs": [],
   "source": []
  }
 ],
 "metadata": {
  "kernelspec": {
   "display_name": ".venv",
   "language": "python",
   "name": "python3"
  },
  "language_info": {
   "codemirror_mode": {
    "name": "ipython",
    "version": 3
   },
   "file_extension": ".py",
   "mimetype": "text/x-python",
   "name": "python",
   "nbconvert_exporter": "python",
   "pygments_lexer": "ipython3",
   "version": "3.13.1"
  }
 },
 "nbformat": 4,
 "nbformat_minor": 2
}
