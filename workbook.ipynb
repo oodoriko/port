{
 "cells": [
  {
   "cell_type": "code",
   "execution_count": 1,
   "metadata": {},
   "outputs": [],
   "source": [
    "%load_ext autoreload\n",
    "%autoreload 2"
   ]
  },
  {
   "cell_type": "code",
   "execution_count": 2,
   "metadata": {},
   "outputs": [],
   "source": [
    "from backtesting.portfolio_cache import load_cached_portfolio\n",
    "from reporting.report_generator import ReportGenerator\n",
    "from IPython.display import Image, display\n",
    "from reportlab.pdfgen import canvas\n",
    "from reportlab.lib.pagesizes import letter\n",
    "import os\n"
   ]
  },
  {
   "cell_type": "code",
   "execution_count": 3,
   "metadata": {},
   "outputs": [],
   "source": [
    "def show_me(data, filename=\"temp\"):\n",
    "    c = canvas.Canvas(f\"temp/{filename}.pdf\", pagesize=letter)\n",
    "    data.wrapOn(c, 400, 300)\n",
    "    data.drawOn(c, 50, 500)\n",
    "    c.save()\n",
    "    os.system(f\"sips -s format png temp/{filename}.pdf --out temp/{filename}.png\")  # Mac\n",
    "    display(Image(f\"temp/{filename}.png\"))"
   ]
  },
  {
   "cell_type": "code",
   "execution_count": 4,
   "metadata": {},
   "outputs": [
    {
     "name": "stdout",
     "output_type": "stream",
     "text": [
      "Portfolio loaded from cache: SP500_2025_Jun_10yrs_sp500_2015_01_01_2025_06_01_macd_crossover_rsi_crossover_bollinger_bands_z_score_mean_reversion_constraints__8001337252388095717_setup__4724061233836950910\n"
     ]
    }
   ],
   "source": [
    "cached_key = \"SP500_2025_Jun_10yrs_sp500_2015_01_01_2025_06_01_macd_crossover_rsi_crossover_bollinger_bands_z_score_mean_reversion_constraints__8001337252388095717_setup__4724061233836950910\"\n",
    "portfolio = load_cached_portfolio(cached_key)"
   ]
  },
  {
   "cell_type": "code",
   "execution_count": 5,
   "metadata": {},
   "outputs": [],
   "source": [
    "portfolio.generate_analytics()\n",
    "metrics = portfolio.metrics\n",
    "holdings_summary = portfolio.holdings_summary\n",
    "report_generator = ReportGenerator(portfolio, metrics, holdings_summary)"
   ]
  },
  {
   "cell_type": "code",
   "execution_count": 108,
   "metadata": {},
   "outputs": [],
   "source": [
    "# table = report_generator.create_holdings_summary_table()\n",
    "# show_me(table)"
   ]
  },
  {
   "cell_type": "code",
   "execution_count": 132,
   "metadata": {},
   "outputs": [],
   "source": [
    "# buf = report_generator.create_portfolio_value_chart()\n",
    "# display(Image(buf.getvalue())), buf"
   ]
  },
  {
   "cell_type": "code",
   "execution_count": 12,
   "metadata": {},
   "outputs": [
    {
     "name": "stdout",
     "output_type": "stream",
     "text": [
      "Custom PDF report saved to: reports/dummy_portfolio_custom_report_20250606_235855.pdf\n"
     ]
    },
    {
     "data": {
      "text/plain": [
       "'reports/dummy_portfolio_custom_report_20250606_235855.pdf'"
      ]
     },
     "execution_count": 12,
     "metadata": {},
     "output_type": "execute_result"
    }
   ],
   "source": [
    "portfolio.generate_report()"
   ]
  },
  {
   "cell_type": "markdown",
   "metadata": {},
   "source": []
  },
  {
   "cell_type": "code",
   "execution_count": null,
   "metadata": {},
   "outputs": [],
   "source": []
  },
  {
   "cell_type": "code",
   "execution_count": 1,
   "metadata": {},
   "outputs": [],
   "source": [
    "from backtesting.backtest import Backtest\n",
    "from backtesting.scenarios import scenario_1"
   ]
  },
  {
   "cell_type": "code",
   "execution_count": 7,
   "metadata": {},
   "outputs": [
    {
     "ename": "NameError",
     "evalue": "name 'scenario_1' is not defined",
     "output_type": "error",
     "traceback": [
      "\u001b[31m---------------------------------------------------------------------------\u001b[39m",
      "\u001b[31mNameError\u001b[39m                                 Traceback (most recent call last)",
      "\u001b[36mCell\u001b[39m\u001b[36m \u001b[39m\u001b[32mIn[7]\u001b[39m\u001b[32m, line 1\u001b[39m\n\u001b[32m----> \u001b[39m\u001b[32m1\u001b[39m backtest = Backtest.from_scenario(\u001b[43mscenario_1\u001b[49m)\n\u001b[32m      3\u001b[39m backtest.run()\n\u001b[32m      4\u001b[39m backtest.generate_report(\u001b[33m\"\u001b[39m\u001b[33mbacktest_report.pdf\u001b[39m\u001b[33m\"\u001b[39m)\n",
      "\u001b[31mNameError\u001b[39m: name 'scenario_1' is not defined"
     ]
    }
   ],
   "source": [
    "backtest = Backtest.from_scenario(scenario_1)\n",
    "\n",
    "backtest.run()\n",
    "backtest.generate_report(\"backtest_report.pdf\")"
   ]
  },
  {
   "cell_type": "code",
   "execution_count": 3,
   "metadata": {},
   "outputs": [],
   "source": [
    "portfolio = backtest.get_portfolio()\n"
   ]
  },
  {
   "cell_type": "code",
   "execution_count": 22,
   "metadata": {},
   "outputs": [
    {
     "name": "stdout",
     "output_type": "stream",
     "text": [
      "Loaded from cache: 5858107462\n",
      "Custom PDF report saved to: reports/cached_report2.pdf\n"
     ]
    },
    {
     "data": {
      "text/plain": [
       "'reports/cached_report2.pdf'"
      ]
     },
     "execution_count": 22,
     "metadata": {},
     "output_type": "execute_result"
    }
   ],
   "source": [
    "from backtesting.portfolio_cache import load_cached_object\n",
    "\n",
    "test_portfolio = load_cached_object('5858107462')\n",
    "test_portfolio.generate_report(filename=f\"cached_report2.pdf\")"
   ]
  },
  {
   "cell_type": "code",
   "execution_count": 15,
   "metadata": {},
   "outputs": [
    {
     "name": "stdout",
     "output_type": "stream",
     "text": [
      "Custom PDF report saved to: reports/dummy_portfolio_custom_report_20250607_000629.pdf\n"
     ]
    },
    {
     "data": {
      "text/plain": [
       "'reports/dummy_portfolio_custom_report_20250607_000629.pdf'"
      ]
     },
     "execution_count": 15,
     "metadata": {},
     "output_type": "execute_result"
    }
   ],
   "source": [
    "portfolio.generate_report()"
   ]
  },
  {
   "cell_type": "code",
   "execution_count": 20,
   "metadata": {},
   "outputs": [
    {
     "data": {
      "text/plain": [
       "dict_keys(['total_return', 'annualized_return', 'monthly_returns', 'quarterly_returns', 'annual_returns', 'daily_returns', 'annualized_volatility', 'monthly_volatility', 'quarterly_volatility', 'annual_volatility', 'overall_sharpe_ratio', 'annual_sharpe_ratios', 'monthly_sharpe_ratios', 'quarterly_sharpe_ratios', 'win_rate', 'avg_win', 'avg_loss', 'profit_factor'])"
      ]
     },
     "execution_count": 20,
     "metadata": {},
     "output_type": "execute_result"
    }
   ],
   "source": [
    "portfolio.metrics.keys()"
   ]
  },
  {
   "cell_type": "code",
   "execution_count": null,
   "metadata": {},
   "outputs": [],
   "source": []
  }
 ],
 "metadata": {
  "kernelspec": {
   "display_name": ".venv",
   "language": "python",
   "name": "python3"
  },
  "language_info": {
   "codemirror_mode": {
    "name": "ipython",
    "version": 3
   },
   "file_extension": ".py",
   "mimetype": "text/x-python",
   "name": "python",
   "nbconvert_exporter": "python",
   "pygments_lexer": "ipython3",
   "version": "3.13.1"
  }
 },
 "nbformat": 4,
 "nbformat_minor": 2
}
