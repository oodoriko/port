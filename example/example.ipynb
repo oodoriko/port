{
 "cells": [
  {
   "cell_type": "code",
   "execution_count": 1,
   "metadata": {},
   "outputs": [],
   "source": [
    "%load_ext autoreload\n",
    "%autoreload 2 "
   ]
  },
  {
   "cell_type": "markdown",
   "metadata": {},
   "source": [
    "### Cache data - price, prododuct data etc\n",
    "suppoedly it caches itself in data.py, but that logic broke"
   ]
  },
  {
   "cell_type": "code",
   "execution_count": 2,
   "metadata": {},
   "outputs": [],
   "source": [
    "from data.data import PriceData, ProductData, BenchmarkData, START_DATE, Benchmarks"
   ]
  },
  {
   "cell_type": "code",
   "execution_count": 3,
   "metadata": {},
   "outputs": [
    {
     "name": "stdout",
     "output_type": "stream",
     "text": [
      "Scraped 503 tickers for SP500 from Wikipedia\n",
      "Cached 1 entries\n"
     ]
    },
    {
     "data": {
      "text/plain": [
       "503"
      ]
     },
     "execution_count": 3,
     "metadata": {},
     "output_type": "execute_result"
    }
   ],
   "source": [
    "%%timeit\n",
    "benchmark_data = BenchmarkData()\n",
    "tickers = benchmark_data.get_constituents(Benchmarks.SP500)\n",
    "len(tickers)"
   ]
  },
  {
   "cell_type": "code",
   "execution_count": 4,
   "metadata": {},
   "outputs": [
    {
     "data": {
      "text/plain": [
       "10"
      ]
     },
     "execution_count": 4,
     "metadata": {},
     "output_type": "execute_result"
    }
   ],
   "source": [
    "%%timeit\n",
    "product_data = ProductData()\n",
    "data = product_data.get_data(tickers=tickers[:10])\n",
    "len(data)"
   ]
  },
  {
   "cell_type": "code",
   "execution_count": 5,
   "metadata": {},
   "outputs": [
    {
     "data": {
      "text/plain": [
       "3"
      ]
     },
     "execution_count": 5,
     "metadata": {},
     "output_type": "execute_result"
    }
   ],
   "source": [
    "%%timeit\n",
    "price_data = PriceData()\n",
    "data = price_data.get_data(tickers[:10], start_date=START_DATE, end_date='2025-06-01')\n",
    "len(data)"
   ]
  },
  {
   "cell_type": "markdown",
   "metadata": {},
   "source": [
    "### Backtesting"
   ]
  },
  {
   "cell_type": "code",
   "execution_count": 7,
   "metadata": {},
   "outputs": [
    {
     "name": "stdout",
     "output_type": "stream",
     "text": [
      "Portfolio setup: {\n",
      "    \"initial_capital\": 100000,\n",
      "    \"initial_holdings\": {},\n",
      "    \"initial_value\": 0,\n",
      "    \"capital_growth_freq\": \"M\",\n",
      "    \"new_capital_growth_pct\": 0,\n",
      "    \"new_capital_growth_amt\": 10000,\n",
      "    \"allocation_method\": \"equal\",\n",
      "    \"excluded_sectors\": [],\n",
      "    \"included_countries\": [\n",
      "        \"United States\"\n",
      "    ],\n",
      "    \"min_market_cap\": 0,\n",
      "    \"max_market_cap\": Infinity\n",
      "}\n",
      "Strategies: {\n",
      "    \"macd_x\": true,\n",
      "    \"rsi_x\": true\n",
      "}\n",
      "Backtest starting... swoosh!\n",
      "Universe size: 480\n",
      "Total trading days: 2598\n",
      "Total strategies: 2\n",
      "Starting in 2015-01-01\n",
      "Ending in 2025-05-01\n"
     ]
    },
    {
     "name": "stderr",
     "output_type": "stream",
     "text": [
      "Backtesting by strategy: 100%|██████████| 2/2 [00:25<00:00, 12.63s/strategy]\n"
     ]
    },
    {
     "name": "stdout",
     "output_type": "stream",
     "text": [
      "Backtest completed!\n"
     ]
    }
   ],
   "source": [
    "# first create ConstraintsConfig and PortfolioConfig\n",
    "from backtesting.backtest import Backtest\n",
    "from backtesting.scenarios import Scenario\n",
    "from portfolio.constraints import ConstraintsConfig\n",
    "from portfolio.portfolio import CapitalGrowthFrequency, PortfolioConfig\n",
    "from strategies.strategy import StrategyTypes\n",
    "from data.data import Benchmarks\n",
    "verbose = True\n",
    "\n",
    "constraints_config = ConstraintsConfig(\n",
    "    long_only=True,\n",
    "    cash_pct=0.0,\n",
    "    max_long_trades=0.5,\n",
    "    max_short_trades=0.5,\n",
    "    max_buy_size=0.3,\n",
    ")\n",
    "portfolio_config = PortfolioConfig(\n",
    "    initial_capital=100_000,\n",
    "    initial_holdings={},\n",
    "    new_capital_growth_amt=10000,\n",
    "    capital_growth_freq=CapitalGrowthFrequency.MONTHLY.value,\n",
    ")\n",
    "\n",
    "# then create scenario, note portfolio is created within scenario\n",
    "scenario = Scenario(\n",
    "    name=\"test backtest function\",\n",
    "    start_date=\"2015-01-01\",\n",
    "    end_date=\"2025-05-01\",\n",
    "    benchmark=Benchmarks.SP500,\n",
    "    constraints=constraints_config,\n",
    "    portfolio_config=portfolio_config,\n",
    "    verbose=verbose,\n",
    ")\n",
    "\n",
    "# then create strategies\n",
    "strategies = {StrategyTypes.MACD_CROSSOVER: True, StrategyTypes.RSI_CROSSOVER: True}\n",
    "scenario.set_strategies(strategies)\n",
    "\n",
    "\n",
    "# then create backtest\n",
    "backtest = Backtest(scenario, verbose=True)\n",
    "\n",
    "# then run test!\n",
    "backtest.run_batch()"
   ]
  },
  {
   "cell_type": "code",
   "execution_count": 8,
   "metadata": {},
   "outputs": [
    {
     "name": "stdout",
     "output_type": "stream",
     "text": [
      "Report saved to: outputs/backtest/sample_report.pdf\n"
     ]
    },
    {
     "data": {
      "text/plain": [
       "'outputs/backtest/sample_report.pdf'"
      ]
     },
     "execution_count": 8,
     "metadata": {},
     "output_type": "execute_result"
    }
   ],
   "source": [
    "backtest.generate_report(filename=\"sample_report\")"
   ]
  },
  {
   "cell_type": "markdown",
   "metadata": {},
   "source": [
    "### Gridsearch"
   ]
  },
  {
   "cell_type": "code",
   "execution_count": 9,
   "metadata": {},
   "outputs": [
    {
     "name": "stdout",
     "output_type": "stream",
     "text": [
      "Generated 60 grid parameter combinations\n",
      "Running grid search with 60 parameter combinations...\n"
     ]
    },
    {
     "name": "stderr",
     "output_type": "stream",
     "text": [
      "Grid search progress: 100%|██████████| 60/60 [00:57<00:00,  1.04it/s]\n"
     ]
    },
    {
     "name": "stdout",
     "output_type": "stream",
     "text": [
      "Grid search completed! Found 60 valid results.\n"
     ]
    }
   ],
   "source": [
    "from backtesting.grid_search import GridSearch\n",
    "from backtesting.scenarios import Scenario\n",
    "from config import DEFAULT_CONSTRAINTS, DEFAULT_PORTFOLIO_SETUP, Benchmarks\n",
    "from strategies.strategy import StrategyTypes\n",
    "\n",
    "# first create grid search params\n",
    "grid_search_params =[\n",
    "    {StrategyTypes.MACD_CROSSOVER: True},\n",
    "    {StrategyTypes.MACD_CROSSOVER: True, StrategyTypes.BOLLINGER_BANDS: False},\n",
    "    {StrategyTypes.RSI_CROSSOVER: True, StrategyTypes.Z_SCORE_MEAN_REVERSION: True},\n",
    "    {\n",
    "        StrategyTypes.MACD_CROSSOVER: True,\n",
    "        StrategyTypes.RSI_CROSSOVER: True,\n",
    "        StrategyTypes.BOLLINGER_BANDS: True,\n",
    "        StrategyTypes.Z_SCORE_MEAN_REVERSION: True,\n",
    "    },\n",
    "]\n",
    "\n",
    "# or can automatically generate grid search params\n",
    "strategy_list = [StrategyTypes.MACD_CROSSOVER, StrategyTypes.RSI_CROSSOVER, StrategyTypes.BOLLINGER_BANDS, StrategyTypes.Z_SCORE_MEAN_REVERSION]\n",
    "\n",
    "# then create scenario\n",
    "scenario = Scenario(\n",
    "    name=\"test grid search function\",\n",
    "    start_date=\"2020-01-01\",\n",
    "    end_date=\"2022-01-01\",    \n",
    "    constraints=DEFAULT_CONSTRAINTS,\n",
    "    portfolio_config=DEFAULT_PORTFOLIO_SETUP,\n",
    "    benchmark=Benchmarks.SP500,\n",
    "    verbose=False,\n",
    ")\n",
    "\n",
    "# then create grid search\n",
    "gs = GridSearch(base_scenario=scenario, max_workers=10, verbose=True)\n",
    "# gs.set_grid_params(grid_search_params)\n",
    "gs.set_grid_params(strategy_list, max_signal=3, max_filter=2, min_signal=1)\n",
    "\n",
    "# then run grid search\n",
    "results = gs.run()"
   ]
  },
  {
   "cell_type": "code",
   "execution_count": 10,
   "metadata": {},
   "outputs": [
    {
     "name": "stdout",
     "output_type": "stream",
     "text": [
      "   grid_num                                  param_name\n",
      "3         1                               **Pos: macd_x\n",
      "13       10                **Pos: b_bands **Neg: macd_x\n",
      "8        11                          **Pos: macd_x || z\n",
      "9        12                      **Pos: macd_x **Neg: z\n",
      "11       13                      **Pos: z **Neg: macd_x\n",
      "7        14                     **Pos: rsi_x || b_bands\n",
      "14       15                 **Pos: rsi_x **Neg: b_bands\n",
      "15       16                 **Pos: b_bands **Neg: rsi_x\n",
      "17       17                           **Pos: rsi_x || z\n",
      "19       18                       **Pos: rsi_x **Neg: z\n",
      "18       19                       **Pos: z **Neg: rsi_x\n",
      "0         2                                **Pos: rsi_x\n",
      "16       20                         **Pos: b_bands || z\n",
      "20       21                     **Pos: b_bands **Neg: z\n",
      "21       22                     **Pos: z **Neg: b_bands\n",
      "22       23           **Pos: macd_x || rsi_x || b_bands\n",
      "23       24       **Pos: macd_x || rsi_x **Neg: b_bands\n",
      "24       25       **Pos: macd_x || b_bands **Neg: rsi_x\n",
      "25       26       **Pos: macd_x **Neg: rsi_x || b_bands\n",
      "26       27       **Pos: rsi_x || b_bands **Neg: macd_x\n",
      "27       28       **Pos: rsi_x **Neg: macd_x || b_bands\n",
      "28       29       **Pos: b_bands **Neg: macd_x || rsi_x\n",
      "1         3                              **Pos: b_bands\n",
      "29       30                 **Pos: macd_x || rsi_x || z\n",
      "30       31             **Pos: macd_x || rsi_x **Neg: z\n",
      "31       32             **Pos: macd_x || z **Neg: rsi_x\n",
      "32       33             **Pos: macd_x **Neg: rsi_x || z\n",
      "33       34             **Pos: rsi_x || z **Neg: macd_x\n",
      "34       35             **Pos: rsi_x **Neg: macd_x || z\n",
      "35       36             **Pos: z **Neg: macd_x || rsi_x\n",
      "36       37               **Pos: macd_x || b_bands || z\n",
      "37       38           **Pos: macd_x || b_bands **Neg: z\n",
      "39       39           **Pos: macd_x || z **Neg: b_bands\n",
      "2         4                                    **Pos: z\n",
      "40       40           **Pos: macd_x **Neg: b_bands || z\n",
      "43       41           **Pos: b_bands || z **Neg: macd_x\n",
      "46       42           **Pos: b_bands **Neg: macd_x || z\n",
      "49       43           **Pos: z **Neg: macd_x || b_bands\n",
      "38       44                **Pos: rsi_x || b_bands || z\n",
      "42       45            **Pos: rsi_x || b_bands **Neg: z\n",
      "44       46            **Pos: rsi_x || z **Neg: b_bands\n",
      "41       47            **Pos: rsi_x **Neg: b_bands || z\n",
      "45       48            **Pos: b_bands || z **Neg: rsi_x\n",
      "47       49            **Pos: b_bands **Neg: rsi_x || z\n",
      "4         5                      **Pos: macd_x || rsi_x\n",
      "48       50            **Pos: z **Neg: rsi_x || b_bands\n",
      "50       51  **Pos: macd_x || rsi_x || b_bands **Neg: z\n",
      "51       52  **Pos: macd_x || rsi_x || z **Neg: b_bands\n",
      "52       53  **Pos: macd_x || rsi_x **Neg: b_bands || z\n",
      "53       54  **Pos: macd_x || b_bands || z **Neg: rsi_x\n",
      "54       55  **Pos: macd_x || b_bands **Neg: rsi_x || z\n",
      "55       56  **Pos: macd_x || z **Neg: rsi_x || b_bands\n",
      "56       57  **Pos: rsi_x || b_bands || z **Neg: macd_x\n",
      "57       58  **Pos: rsi_x || b_bands **Neg: macd_x || z\n",
      "59       59  **Pos: rsi_x || z **Neg: macd_x || b_bands\n",
      "5         6                  **Pos: macd_x **Neg: rsi_x\n",
      "58       60  **Pos: b_bands || z **Neg: macd_x || rsi_x\n",
      "6         7                  **Pos: rsi_x **Neg: macd_x\n",
      "10        8                    **Pos: macd_x || b_bands\n",
      "12        9                **Pos: macd_x **Neg: b_bands\n",
      "\n",
      "grid_num                                 param_name total_return annualized_return annualized_sharpe annualized_ir average_holding_period max_holding_amount\n",
      "      48           **Pos: b_bands || z **Neg: rsi_x    15057.87%          1131.17%              2.38        -14.97                    154                414\n",
      "      21                    **Pos: b_bands **Neg: z     1776.21%           333.15%              1.37         -6.03                    191                457\n",
      "       3                             **Pos: b_bands     1776.21%           333.15%              1.37         -6.03                    191                457\n",
      "      49           **Pos: b_bands **Neg: rsi_x || z     1652.87%           318.67%              1.41         -6.49                    190                457\n",
      "      16                **Pos: b_bands **Neg: rsi_x     1652.87%           318.67%              1.41         -6.49                    190                457\n",
      "      41          **Pos: b_bands || z **Neg: macd_x     1496.14%           299.52%              2.02         -3.19                    233                467\n",
      "      60 **Pos: b_bands || z **Neg: macd_x || rsi_x     1280.89%           271.60%              1.83         -6.83                    204                465\n",
      "      29      **Pos: b_bands **Neg: macd_x || rsi_x      810.34%           201.72%              1.63         -7.27                    198                458\n",
      "      10               **Pos: b_bands **Neg: macd_x      772.52%           195.38%              1.61         -6.97                    201                458\n",
      "      42          **Pos: b_bands **Neg: macd_x || z      691.07%           181.26%              1.56         -6.54                    201                458\n",
      "      22                    **Pos: z **Neg: b_bands      611.49%           166.74%              1.44        -12.28                    273                444\n",
      "       4                                   **Pos: z      611.49%           166.74%              1.44        -12.28                    273                444\n",
      "      36            **Pos: z **Neg: macd_x || rsi_x      598.26%           164.25%              1.73         -7.94                    215                466\n",
      "      19                      **Pos: z **Neg: rsi_x      587.77%           162.25%              1.48        -17.35                    214                350\n",
      "      43          **Pos: z **Neg: macd_x || b_bands      572.49%           159.32%              1.87         -4.37                    243                467\n",
      "      13                     **Pos: z **Neg: macd_x      572.49%           159.32%              1.87         -4.36                    243                467\n",
      "      57 **Pos: rsi_x || b_bands || z **Neg: macd_x      400.21%           123.65%              1.70         -4.55                    244                444\n",
      "       7                 **Pos: rsi_x **Neg: macd_x      400.21%           123.65%              1.70         -4.55                    244                444\n",
      "      50           **Pos: z **Neg: rsi_x || b_bands      393.73%           122.20%              1.44        -11.26                    222                367\n",
      "      27      **Pos: rsi_x || b_bands **Neg: macd_x      348.11%           111.69%              1.38        -14.39                    234                440\n",
      "      35            **Pos: rsi_x **Neg: macd_x || z      348.11%           111.69%              1.38        -14.39                    234                440\n",
      "      58 **Pos: rsi_x || b_bands **Neg: macd_x || z      324.70%           106.08%              1.39        -12.69                    228                441\n",
      "       2                               **Pos: rsi_x      318.62%           104.60%               nan           nan                    302                424\n",
      "      11                         **Pos: macd_x || z      318.52%           104.58%              1.42         -8.00                    266                440\n",
      "       9               **Pos: macd_x **Neg: b_bands      318.52%           104.58%              1.42         -8.00                    266                440\n",
      "      39          **Pos: macd_x || z **Neg: b_bands      306.63%           101.65%              1.42         -8.00                    266                438\n",
      "      54 **Pos: macd_x || b_bands || z **Neg: rsi_x      304.01%           101.00%              1.68         -6.38                    220                460\n",
      "       6                 **Pos: macd_x **Neg: rsi_x      304.01%           101.00%              1.68         -6.38                    220                460\n",
      "      59 **Pos: rsi_x || z **Neg: macd_x || b_bands      302.16%           100.54%              1.71         -4.76                    248                451\n",
      "      34            **Pos: rsi_x || z **Neg: macd_x      302.16%           100.54%              1.71         -4.76                    248                451\n",
      "      28      **Pos: rsi_x **Neg: macd_x || b_bands      302.16%           100.54%              1.71         -4.76                    248                451\n",
      "      32            **Pos: macd_x || z **Neg: rsi_x      289.23%            97.29%              1.42         -9.52                    233                415\n",
      "      26      **Pos: macd_x **Neg: rsi_x || b_bands      289.23%            97.29%              1.42         -9.52                    233                415\n",
      "      40          **Pos: macd_x **Neg: b_bands || z      283.62%            95.86%               nan           nan                    229                460\n",
      "       1                              **Pos: macd_x      283.62%            95.86%               nan           nan                    229                460\n",
      "      37              **Pos: macd_x || b_bands || z      283.62%            95.86%               nan           nan                    229                460\n",
      "      44               **Pos: rsi_x || b_bands || z      272.48%            93.00%              1.42        -37.39                    303                424\n",
      "      47           **Pos: rsi_x **Neg: b_bands || z      272.48%            93.00%              1.42        -37.39                    303                424\n",
      "      45           **Pos: rsi_x || b_bands **Neg: z      245.73%            85.94%              1.16        -26.33                    244                419\n",
      "      14                    **Pos: rsi_x || b_bands      228.15%            81.15%              1.23        -32.89                    252                391\n",
      "      18                      **Pos: rsi_x **Neg: z      228.15%            81.15%              1.23        -32.89                    252                391\n",
      "      56 **Pos: macd_x || z **Neg: rsi_x || b_bands      222.29%            79.52%              1.52         -7.14                    240                416\n",
      "      33            **Pos: macd_x **Neg: rsi_x || z      202.87%            74.03%              1.65         -6.32                    220                461\n",
      "      25      **Pos: macd_x || b_bands **Neg: rsi_x      202.87%            74.03%              1.65         -6.32                    220                461\n",
      "      55 **Pos: macd_x || b_bands **Neg: rsi_x || z      202.87%            74.03%              1.65         -6.33                    220                461\n",
      "       8                   **Pos: macd_x || b_bands      181.74%            67.85%               nan           nan                    224                461\n",
      "      12                     **Pos: macd_x **Neg: z      181.74%            67.85%               nan           nan                    224                461\n",
      "      38          **Pos: macd_x || b_bands **Neg: z      181.74%            67.85%               nan           nan                    224                461\n",
      "      17                          **Pos: rsi_x || z      155.72%            59.91%              1.05        -13.42                    277                448\n",
      "      15                **Pos: rsi_x **Neg: b_bands      155.72%            59.91%              1.05        -13.42                    277                448\n",
      "      46           **Pos: rsi_x || z **Neg: b_bands      155.72%            59.91%              1.05        -13.42                    277                448\n",
      "      24      **Pos: macd_x || rsi_x **Neg: b_bands      149.84%            58.06%              1.27         -8.34                    269                440\n",
      "      30                **Pos: macd_x || rsi_x || z      149.84%            58.06%              1.27         -8.34                    269                440\n",
      "      52 **Pos: macd_x || rsi_x || z **Neg: b_bands      146.32%            56.95%              1.27         -8.34                    269                438\n",
      "      53 **Pos: macd_x || rsi_x **Neg: b_bands || z      114.00%            46.29%              1.42         -6.50                    261                443\n",
      "       5                     **Pos: macd_x || rsi_x      114.00%            46.29%              1.42         -6.50                    261                443\n",
      "      23          **Pos: macd_x || rsi_x || b_bands      110.83%            45.20%              1.48         -5.18                    252                430\n",
      "      51 **Pos: macd_x || rsi_x || b_bands **Neg: z      110.83%            45.20%              1.44         -4.66                    249                441\n",
      "      31            **Pos: macd_x || rsi_x **Neg: z      110.83%            45.20%              1.48         -5.18                    252                430\n",
      "      20                        **Pos: b_bands || z        0.00%             0.00%               nan           nan                      0                  0\n"
     ]
    }
   ],
   "source": [
    "# can print the run schedule\n",
    "print(gs.get_grid_search_schedule())\n",
    "\n",
    "print()\n",
    "# then print results\n",
    "gs.results_to_text()\n"
   ]
  },
  {
   "cell_type": "code",
   "execution_count": 13,
   "metadata": {},
   "outputs": [],
   "source": [
    "gs.results_to_csv(\"sample_gs_results\")"
   ]
  },
  {
   "cell_type": "code",
   "execution_count": null,
   "metadata": {},
   "outputs": [],
   "source": []
  }
 ],
 "metadata": {
  "kernelspec": {
   "display_name": ".venv",
   "language": "python",
   "name": "python3"
  },
  "language_info": {
   "codemirror_mode": {
    "name": "ipython",
    "version": 3
   },
   "file_extension": ".py",
   "mimetype": "text/x-python",
   "name": "python",
   "nbconvert_exporter": "python",
   "pygments_lexer": "ipython3",
   "version": "3.13.1"
  }
 },
 "nbformat": 4,
 "nbformat_minor": 2
}
