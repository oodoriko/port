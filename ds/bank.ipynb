{
 "cells": [
  {
   "cell_type": "code",
   "execution_count": 1,
   "metadata": {},
   "outputs": [],
   "source": [
    "%load_ext autoreload\n",
    "%autoreload 2"
   ]
  },
  {
   "cell_type": "code",
   "execution_count": null,
   "metadata": {},
   "outputs": [
    {
     "name": "stderr",
     "output_type": "stream",
     "text": [
      "2025-07-09 00:24:05,674 - INFO - Step 1: Creating regimes\n",
      "2025-07-09 00:24:07,947 - INFO - Found 18 regimes\n",
      "2025-07-09 00:24:07,948 - INFO - Step 2: Creating splits\n",
      "2025-07-09 00:24:07,950 - INFO - Created 24 splits\n",
      "2025-07-09 00:24:07,950 - INFO - Step 3: Start walk forward validation\n",
      "2025-07-09 00:24:07,953 - INFO - Evaluating feature performance for split 0\n",
      "2025-07-09 00:24:39,735 - INFO - Evaluating regime performance for split 0\n",
      "2025-07-09 00:33:36,291 - INFO - Step 4: feature stability scores\n",
      "2025-07-09 00:33:36,319 - INFO - Step 5: select stable features\n",
      "2025-07-09 00:33:36,320 - INFO - Selected 254 out of 254 features (100.0% selection rate)\n"
     ]
    },
    {
     "name": "stdout",
     "output_type": "stream",
     "text": [
      "Saved metrics: data/results/coinbase_BTC_USDC_V_1.0_3_0.001_label_vwap/metrics.parquet\n",
      "Saved selected features: data/results/coinbase_BTC_USDC_V_1.0_3_0.001_label_vwap/selected_features.json\n",
      "Saved feature performance: data/results/coinbase_BTC_USDC_V_1.0_3_0.001_label_vwap/feature_performance_matrix.json\n",
      "Saved regime performance: data/results/coinbase_BTC_USDC_V_1.0_3_0.001_label_vwap/regime_performance_matrix.json\n",
      "Saved summary: data/results/coinbase_BTC_USDC_V_1.0_3_0.001_label_vwap/summary.json\n"
     ]
    }
   ],
   "source": [
    "from pipeline import run_pipeline\n",
    "\n",
    "run_pipeline(\n",
    "    config_path=\"features_sets/config_v_1.yaml\",\n",
    "    start_date=\"2025-01-01\",\n",
    "    end_date=\"2025-05-01\",\n",
    "    data_dir=\"data\",\n",
    "    refresh_data=False,\n",
    "    refresh_results=True,\n",
    ")\n"
   ]
  },
  {
   "cell_type": "code",
   "execution_count": null,
   "metadata": {},
   "outputs": [],
   "source": []
  }
 ],
 "metadata": {
  "kernelspec": {
   "display_name": ".venv",
   "language": "python",
   "name": "python3"
  },
  "language_info": {
   "codemirror_mode": {
    "name": "ipython",
    "version": 3
   },
   "file_extension": ".py",
   "mimetype": "text/x-python",
   "name": "python",
   "nbconvert_exporter": "python",
   "pygments_lexer": "ipython3",
   "version": "3.13.5"
  }
 },
 "nbformat": 4,
 "nbformat_minor": 2
}
