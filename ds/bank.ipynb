{
 "cells": [
  {
   "cell_type": "code",
   "execution_count": 17,
   "metadata": {},
   "outputs": [],
   "source": [
    "# get the dataclass\n",
    "# check consistency\n",
    "# group by 1, 3, 5, 10, 15, 20 // each data shape will run a full test\n",
    "# separately cash Y"
   ]
  },
  {
   "cell_type": "code",
   "execution_count": 1,
   "metadata": {},
   "outputs": [],
   "source": [
    "%load_ext autoreload\n",
    "%autoreload 2"
   ]
  },
  {
   "cell_type": "code",
   "execution_count": null,
   "metadata": {},
   "outputs": [
    {
     "name": "stdout",
     "output_type": "stream",
     "text": [
      "\n",
      "        SELECT timestamp, open, high, low, close, volume\n",
      "        FROM historical.historical_coinbase_BTC_USDC \n",
      "        WHERE timestamp >= '1704085200' AND timestamp <= '1704171600' ORDER BY timestamp ASC\n"
     ]
    },
    {
     "ename": "AttributeError",
     "evalue": "'list' object has no attribute 'name'",
     "output_type": "error",
     "traceback": [
      "\u001b[31m---------------------------------------------------------------------------\u001b[39m",
      "\u001b[31mAttributeError\u001b[39m                            Traceback (most recent call last)",
      "\u001b[36mCell\u001b[39m\u001b[36m \u001b[39m\u001b[32mIn[10]\u001b[39m\u001b[32m, line 17\u001b[39m\n\u001b[32m     14\u001b[39m features_config = config.features_config\n\u001b[32m     15\u001b[39m targets_config = config.targets_config\n\u001b[32m---> \u001b[39m\u001b[32m17\u001b[39m indicators_factory = \u001b[43mIndicatorsFactory\u001b[49m\u001b[43m(\u001b[49m\n\u001b[32m     18\u001b[39m \u001b[43m    \u001b[49m\u001b[43mtrading_pair\u001b[49m\u001b[43m,\u001b[49m\u001b[43m \u001b[49m\u001b[43mfeatures_config\u001b[49m\u001b[43m,\u001b[49m\u001b[43m \u001b[49m\u001b[43mSTART_DATE\u001b[49m\u001b[43m,\u001b[49m\u001b[43m \u001b[49m\u001b[43mEND_DATE\u001b[49m\u001b[43m,\u001b[49m\u001b[43m \u001b[49m\u001b[43mDATA_DIR\u001b[49m\n\u001b[32m     19\u001b[39m \u001b[43m)\u001b[49m\n\u001b[32m     20\u001b[39m indicators_factory.build_and_save_indicators()\n\u001b[32m     22\u001b[39m targets_factory = TargetsFactory(\n\u001b[32m     23\u001b[39m     trading_pair, targets_config, START_DATE, END_DATE, DATA_DIR\n\u001b[32m     24\u001b[39m )\n",
      "\u001b[36mFile \u001b[39m\u001b[32m~/Developer/port/ds/factory.py:26\u001b[39m, in \u001b[36mIndicatorsFactory.__init__\u001b[39m\u001b[34m(self, trading_pair, config, start_date, end_date, data_dir)\u001b[39m\n\u001b[32m     24\u001b[39m \u001b[38;5;28mself\u001b[39m.volume = data[\u001b[33m\"\u001b[39m\u001b[33mvolume\u001b[39m\u001b[33m\"\u001b[39m]\n\u001b[32m     25\u001b[39m \u001b[38;5;28mself\u001b[39m.timestamp = data[\u001b[33m\"\u001b[39m\u001b[33mtimestamp\u001b[39m\u001b[33m\"\u001b[39m]\n\u001b[32m---> \u001b[39m\u001b[32m26\u001b[39m \u001b[38;5;28mself\u001b[39m.table_name = \u001b[33mf\u001b[39m\u001b[33m\"\u001b[39m\u001b[33mcoinbase_\u001b[39m\u001b[38;5;132;01m{\u001b[39;00mtrading_pair.replace(\u001b[33m'\u001b[39m\u001b[33m-\u001b[39m\u001b[33m'\u001b[39m,\u001b[38;5;250m \u001b[39m\u001b[33m'\u001b[39m\u001b[33m_\u001b[39m\u001b[33m'\u001b[39m)\u001b[38;5;132;01m}\u001b[39;00m\u001b[33m_\u001b[39m\u001b[38;5;132;01m{\u001b[39;00m\u001b[43mconfig\u001b[49m\u001b[43m.\u001b[49m\u001b[43mname\u001b[49m\u001b[38;5;132;01m}\u001b[39;00m\u001b[33m\"\u001b[39m\n\u001b[32m     27\u001b[39m \u001b[38;5;28mself\u001b[39m.data_dir = \u001b[33mf\u001b[39m\u001b[33m\"\u001b[39m\u001b[38;5;132;01m{\u001b[39;00mdata_dir\u001b[38;5;132;01m}\u001b[39;00m\u001b[33m/indicators/\u001b[39m\u001b[38;5;132;01m{\u001b[39;00m\u001b[38;5;28mself\u001b[39m.table_name\u001b[38;5;132;01m}\u001b[39;00m\u001b[33m.parquet\u001b[39m\u001b[33m\"\u001b[39m\n\u001b[32m     28\u001b[39m \u001b[38;5;28;01mdel\u001b[39;00m data\n",
      "\u001b[31mAttributeError\u001b[39m: 'list' object has no attribute 'name'"
     ]
    }
   ],
   "source": [
    "from config import load_configs_from_yaml\n",
    "from factory import IndicatorsFactory, TargetsFactory\n",
    "\n",
    "config_path = \"features_sets/config_v_1.yaml\"\n",
    "START_DATE = \"2024-01-01\"\n",
    "END_DATE = \"2024-01-02\"\n",
    "DATA_DIR = \"data\"\n",
    "\n",
    "config = load_configs_from_yaml(config_path)\n",
    "\n",
    "trading_pair = config.trading_pair\n",
    "name = config.name\n",
    "\n",
    "features_config = config.features_config\n",
    "targets_config = config.targets_config\n",
    "\n",
    "indicators_factory = IndicatorsFactory(\n",
    "    name, trading_pair, features_config, START_DATE, END_DATE, DATA_DIR\n",
    ")\n",
    "indicators_factory.build_and_save_indicators()\n",
    "\n",
    "targets_factory = TargetsFactory(\n",
    "    name, trading_pair, targets_config, START_DATE, END_DATE, DATA_DIR\n",
    ")\n",
    "targets_factory.build_and_save_targets()\n"
   ]
  },
  {
   "cell_type": "code",
   "execution_count": null,
   "metadata": {},
   "outputs": [],
   "source": []
  }
 ],
 "metadata": {
  "kernelspec": {
   "display_name": ".venv",
   "language": "python",
   "name": "python3"
  },
  "language_info": {
   "codemirror_mode": {
    "name": "ipython",
    "version": 3
   },
   "file_extension": ".py",
   "mimetype": "text/x-python",
   "name": "python",
   "nbconvert_exporter": "python",
   "pygments_lexer": "ipython3",
   "version": "3.13.5"
  }
 },
 "nbformat": 4,
 "nbformat_minor": 2
}
