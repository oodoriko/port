{
 "cells": [
  {
   "cell_type": "code",
   "execution_count": 1,
   "metadata": {},
   "outputs": [],
   "source": [
    "%load_ext autoreload\n",
    "%autoreload 2"
   ]
  },
  {
   "cell_type": "code",
   "execution_count": null,
   "metadata": {},
   "outputs": [
    {
     "name": "stderr",
     "output_type": "stream",
     "text": [
      "2025-07-09 00:24:05,674 - INFO - Step 1: Creating regimes\n"
     ]
    }
   ],
   "source": [
    "from pipeline import run_pipeline\n",
    "\n",
    "run_pipeline(\n",
    "    config_path=\"features_sets/config_v_1.yaml\",\n",
    "    start_date=\"2024-11-01\",\n",
    "    end_date=\"2025-05-01\",\n",
    "    data_dir=\"data\",\n",
    "    refresh_data=False,\n",
    "    refresh_results=True,\n",
    ")\n"
   ]
  },
  {
   "cell_type": "code",
   "execution_count": null,
   "metadata": {},
   "outputs": [],
   "source": []
  }
 ],
 "metadata": {
  "kernelspec": {
   "display_name": ".venv",
   "language": "python",
   "name": "python3"
  },
  "language_info": {
   "codemirror_mode": {
    "name": "ipython",
    "version": 3
   },
   "file_extension": ".py",
   "mimetype": "text/x-python",
   "name": "python",
   "nbconvert_exporter": "python",
   "pygments_lexer": "ipython3",
   "version": "3.13.5"
  }
 },
 "nbformat": 4,
 "nbformat_minor": 2
}
