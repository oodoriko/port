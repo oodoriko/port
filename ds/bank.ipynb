{
 "cells": [
  {
   "cell_type": "code",
   "execution_count": null,
   "metadata": {},
   "outputs": [],
   "source": [
    "# get the dataclass\n",
    "# check consistency\n",
    "# group by 1, 3, 5, 10, 15, 20 // each data shape will run a full test\n",
    "# separately cash Y"
   ]
  },
  {
   "cell_type": "code",
   "execution_count": 1,
   "metadata": {},
   "outputs": [],
   "source": [
    "%load_ext autoreload\n",
    "%autoreload 2"
   ]
  },
  {
   "cell_type": "code",
   "execution_count": 2,
   "metadata": {},
   "outputs": [
    {
     "name": "stdout",
     "output_type": "stream",
     "text": [
      "Initiating name\n",
      "Initiating momentum\n",
      "Initiating volatility\n",
      "Initiating volume\n",
      "Initiating price_structure\n",
      "Saved coinbase_btc_usdc_config_v1 to data/coinbase_btc_usdc_config_v1/coinbase_btc_usdc_config_v1.parquet\n",
      "File size: 9271.25 MB\n",
      "Data shape: (5155767, 255)\n",
      "Metadata saved to data/coinbase_btc_usdc_config_v1/coinbase_btc_usdc_config_v1_metadata.json\n",
      "CPU times: user 7min 37s, sys: 27.2 s, total: 8min 5s\n",
      "Wall time: 9min 5s\n"
     ]
    }
   ],
   "source": [
    "%%time\n",
    "from bank.etl import IndicatorsETL\n",
    "from bank.config import CONFIG_v1\n",
    "from tqdm import tqdm\n",
    "\n",
    "etl = IndicatorsETL(\"btc-usdc\", CONFIG_v1, limit=None)\n",
    "res = etl.run()"
   ]
  },
  {
   "cell_type": "code",
   "execution_count": null,
   "metadata": {},
   "outputs": [
    {
     "data": {
      "text/plain": [
       "(5155767, 255)"
      ]
     },
     "execution_count": 3,
     "metadata": {},
     "output_type": "execute_result"
    }
   ],
   "source": [
    "from ds.bank.etl import IndicatorsETL, TargetsETL\n",
    "from ds.bank.config import CONFIG_v1\n",
    "\n",
    "\n",
    "etl = TargetsETL(\"btc-usdc\", CONFIG_v1, limit=None)\n",
    "etl.run()"
   ]
  },
  {
   "cell_type": "code",
   "execution_count": 12,
   "metadata": {},
   "outputs": [],
   "source": [
    "from parquet_utils import write_parquet\n",
    "\n",
    "import polars as pl\n",
    "\n",
    "df = pl.read_parquet(\"/Users/audreyliu/Developer/port/ds/data/coinbase_btc_usdc_config_v1/coinbase_btc_usdc_config_v1.parquet\")\n",
    "\n",
    "\n",
    "\n",
    "\n",
    "\n"
   ]
  },
  {
   "cell_type": "code",
   "execution_count": 14,
   "metadata": {},
   "outputs": [
    {
     "data": {
      "text/html": [
       "<div><style>\n",
       ".dataframe > thead > tr,\n",
       ".dataframe > tbody > tr {\n",
       "  text-align: right;\n",
       "  white-space: pre-wrap;\n",
       "}\n",
       "</style>\n",
       "<small>shape: (5, 255)</small><table border=\"1\" class=\"dataframe\"><thead><tr><th>stoch_k9_d3_k</th><th>stoch_k9_d3_d</th><th>stoch_k9_d3_k_minus_d</th><th>stoch_k9_d3_k_delta</th><th>stoch_k9_d3_k_lag1</th><th>stoch_k9_d3_d_lag1</th><th>stoch_k9_d5_k</th><th>stoch_k9_d5_d</th><th>stoch_k9_d5_k_minus_d</th><th>stoch_k9_d5_k_delta</th><th>stoch_k9_d5_k_lag1</th><th>stoch_k9_d5_d_lag1</th><th>stoch_k14_d3_k</th><th>stoch_k14_d3_d</th><th>stoch_k14_d3_k_minus_d</th><th>stoch_k14_d3_k_delta</th><th>stoch_k14_d3_k_lag1</th><th>stoch_k14_d3_d_lag1</th><th>stoch_k14_d5_k</th><th>stoch_k14_d5_d</th><th>stoch_k14_d5_k_minus_d</th><th>stoch_k14_d5_k_delta</th><th>stoch_k14_d5_k_lag1</th><th>stoch_k14_d5_d_lag1</th><th>stoch_k21_d3_k</th><th>stoch_k21_d3_d</th><th>stoch_k21_d3_k_minus_d</th><th>stoch_k21_d3_k_delta</th><th>stoch_k21_d3_k_lag1</th><th>stoch_k21_d3_d_lag1</th><th>stoch_k21_d5_k</th><th>stoch_k21_d5_d</th><th>stoch_k21_d5_k_minus_d</th><th>stoch_k21_d5_k_delta</th><th>stoch_k21_d5_k_lag1</th><th>stoch_k21_d5_d_lag1</th><th>macd_fast3_slow10_signal3_hist_lag1</th><th>&hellip;</th><th>bb_20_2.5_bandwidth</th><th>bb_20_2.5_zscore</th><th>bb_30_1.5_bandwidth</th><th>bb_30_1.5_zscore</th><th>bb_30_2.0_bandwidth</th><th>bb_30_2.0_zscore</th><th>bb_30_2.5_bandwidth</th><th>bb_30_2.5_zscore</th><th>mfi_6</th><th>mfi_6_delta</th><th>mfi_14</th><th>mfi_14_delta</th><th>mfi_21</th><th>mfi_21_delta</th><th>vwap_dist_rolling_20</th><th>vwap_dist_rolling_50</th><th>donchian_10</th><th>donchian_10_price</th><th>donchian_20</th><th>donchian_20_price</th><th>donchian_30</th><th>donchian_30_price</th><th>donchian_50</th><th>donchian_50_price</th><th>donchian_100</th><th>donchian_100_price</th><th>atr_5</th><th>atr_5_price</th><th>atr_10</th><th>atr_10_price</th><th>atr_14</th><th>atr_14_price</th><th>atr_21</th><th>atr_21_price</th><th>atr_30</th><th>atr_30_price</th><th>timestamp</th></tr><tr><td>f64</td><td>f64</td><td>f64</td><td>f64</td><td>f64</td><td>f64</td><td>f64</td><td>f64</td><td>f64</td><td>f64</td><td>f64</td><td>f64</td><td>f64</td><td>f64</td><td>f64</td><td>f64</td><td>f64</td><td>f64</td><td>f64</td><td>f64</td><td>f64</td><td>f64</td><td>f64</td><td>f64</td><td>f64</td><td>f64</td><td>f64</td><td>f64</td><td>f64</td><td>f64</td><td>f64</td><td>f64</td><td>f64</td><td>f64</td><td>f64</td><td>f64</td><td>f64</td><td>&hellip;</td><td>f64</td><td>f64</td><td>f64</td><td>f64</td><td>f64</td><td>f64</td><td>f64</td><td>f64</td><td>f64</td><td>f64</td><td>f64</td><td>f64</td><td>f64</td><td>f64</td><td>f64</td><td>f64</td><td>f64</td><td>f64</td><td>f64</td><td>f64</td><td>f64</td><td>f64</td><td>f64</td><td>f64</td><td>f64</td><td>f64</td><td>f64</td><td>f64</td><td>f64</td><td>f64</td><td>f64</td><td>f64</td><td>f64</td><td>f64</td><td>f64</td><td>f64</td><td>f64</td></tr></thead><tbody><tr><td>NaN</td><td>NaN</td><td>NaN</td><td>NaN</td><td>NaN</td><td>NaN</td><td>NaN</td><td>NaN</td><td>NaN</td><td>NaN</td><td>NaN</td><td>NaN</td><td>NaN</td><td>NaN</td><td>NaN</td><td>NaN</td><td>NaN</td><td>NaN</td><td>NaN</td><td>NaN</td><td>NaN</td><td>NaN</td><td>NaN</td><td>NaN</td><td>NaN</td><td>NaN</td><td>NaN</td><td>NaN</td><td>NaN</td><td>NaN</td><td>NaN</td><td>NaN</td><td>NaN</td><td>NaN</td><td>NaN</td><td>NaN</td><td>0.0</td><td>&hellip;</td><td>0.0</td><td>0.0</td><td>0.0</td><td>0.0</td><td>0.0</td><td>0.0</td><td>0.0</td><td>0.0</td><td>NaN</td><td>NaN</td><td>NaN</td><td>NaN</td><td>NaN</td><td>NaN</td><td>0.0</td><td>0.0</td><td>0.0</td><td>0.5</td><td>0.0</td><td>0.5</td><td>0.0</td><td>0.5</td><td>0.0</td><td>0.5</td><td>0.0</td><td>0.5</td><td>NaN</td><td>0.0</td><td>NaN</td><td>0.0</td><td>NaN</td><td>0.0</td><td>NaN</td><td>0.0</td><td>NaN</td><td>0.0</td><td>1.4374e9</td></tr><tr><td>NaN</td><td>NaN</td><td>NaN</td><td>NaN</td><td>NaN</td><td>NaN</td><td>NaN</td><td>NaN</td><td>NaN</td><td>NaN</td><td>NaN</td><td>NaN</td><td>NaN</td><td>NaN</td><td>NaN</td><td>NaN</td><td>NaN</td><td>NaN</td><td>NaN</td><td>NaN</td><td>NaN</td><td>NaN</td><td>NaN</td><td>NaN</td><td>NaN</td><td>NaN</td><td>NaN</td><td>NaN</td><td>NaN</td><td>NaN</td><td>NaN</td><td>NaN</td><td>NaN</td><td>NaN</td><td>NaN</td><td>NaN</td><td>0.003182</td><td>&hellip;</td><td>0.0</td><td>0.0</td><td>0.0</td><td>0.0</td><td>0.0</td><td>0.0</td><td>0.0</td><td>0.0</td><td>NaN</td><td>NaN</td><td>NaN</td><td>NaN</td><td>NaN</td><td>NaN</td><td>0.0</td><td>0.0</td><td>0.0</td><td>0.5</td><td>0.0</td><td>0.5</td><td>0.0</td><td>0.5</td><td>0.0</td><td>0.5</td><td>0.0</td><td>0.5</td><td>NaN</td><td>0.0</td><td>NaN</td><td>0.0</td><td>NaN</td><td>0.0</td><td>NaN</td><td>0.0</td><td>NaN</td><td>0.0</td><td>1.4374e9</td></tr><tr><td>NaN</td><td>NaN</td><td>NaN</td><td>NaN</td><td>NaN</td><td>NaN</td><td>NaN</td><td>NaN</td><td>NaN</td><td>NaN</td><td>NaN</td><td>NaN</td><td>NaN</td><td>NaN</td><td>NaN</td><td>NaN</td><td>NaN</td><td>NaN</td><td>NaN</td><td>NaN</td><td>NaN</td><td>NaN</td><td>NaN</td><td>NaN</td><td>NaN</td><td>NaN</td><td>NaN</td><td>NaN</td><td>NaN</td><td>NaN</td><td>NaN</td><td>NaN</td><td>NaN</td><td>NaN</td><td>NaN</td><td>NaN</td><td>-0.000579</td><td>&hellip;</td><td>0.0</td><td>0.0</td><td>0.0</td><td>0.0</td><td>0.0</td><td>0.0</td><td>0.0</td><td>0.0</td><td>NaN</td><td>NaN</td><td>NaN</td><td>NaN</td><td>NaN</td><td>NaN</td><td>0.0</td><td>0.0</td><td>0.0</td><td>0.5</td><td>0.0</td><td>0.5</td><td>0.0</td><td>0.5</td><td>0.0</td><td>0.5</td><td>0.0</td><td>0.5</td><td>NaN</td><td>0.0</td><td>NaN</td><td>0.0</td><td>NaN</td><td>0.0</td><td>NaN</td><td>0.0</td><td>NaN</td><td>0.0</td><td>1.4374e9</td></tr><tr><td>NaN</td><td>NaN</td><td>NaN</td><td>NaN</td><td>NaN</td><td>NaN</td><td>NaN</td><td>NaN</td><td>NaN</td><td>NaN</td><td>NaN</td><td>NaN</td><td>NaN</td><td>NaN</td><td>NaN</td><td>NaN</td><td>NaN</td><td>NaN</td><td>NaN</td><td>NaN</td><td>NaN</td><td>NaN</td><td>NaN</td><td>NaN</td><td>NaN</td><td>NaN</td><td>NaN</td><td>NaN</td><td>NaN</td><td>NaN</td><td>NaN</td><td>NaN</td><td>NaN</td><td>NaN</td><td>NaN</td><td>NaN</td><td>0.001913</td><td>&hellip;</td><td>0.0</td><td>0.0</td><td>0.0</td><td>0.0</td><td>0.0</td><td>0.0</td><td>0.0</td><td>0.0</td><td>NaN</td><td>NaN</td><td>NaN</td><td>NaN</td><td>NaN</td><td>NaN</td><td>0.0</td><td>0.0</td><td>0.0</td><td>0.5</td><td>0.0</td><td>0.5</td><td>0.0</td><td>0.5</td><td>0.0</td><td>0.5</td><td>0.0</td><td>0.5</td><td>NaN</td><td>0.0</td><td>NaN</td><td>0.0</td><td>NaN</td><td>0.0</td><td>NaN</td><td>0.0</td><td>NaN</td><td>0.0</td><td>1.4374e9</td></tr><tr><td>NaN</td><td>NaN</td><td>NaN</td><td>NaN</td><td>NaN</td><td>NaN</td><td>NaN</td><td>NaN</td><td>NaN</td><td>NaN</td><td>NaN</td><td>NaN</td><td>NaN</td><td>NaN</td><td>NaN</td><td>NaN</td><td>NaN</td><td>NaN</td><td>NaN</td><td>NaN</td><td>NaN</td><td>NaN</td><td>NaN</td><td>NaN</td><td>NaN</td><td>NaN</td><td>NaN</td><td>NaN</td><td>NaN</td><td>NaN</td><td>NaN</td><td>NaN</td><td>NaN</td><td>NaN</td><td>NaN</td><td>NaN</td><td>0.001565</td><td>&hellip;</td><td>0.0</td><td>0.0</td><td>0.0</td><td>0.0</td><td>0.0</td><td>0.0</td><td>0.0</td><td>0.0</td><td>NaN</td><td>NaN</td><td>NaN</td><td>NaN</td><td>NaN</td><td>NaN</td><td>0.0</td><td>0.0</td><td>0.0</td><td>0.5</td><td>0.0</td><td>0.5</td><td>0.0</td><td>0.5</td><td>0.0</td><td>0.5</td><td>0.0</td><td>0.5</td><td>NaN</td><td>0.0</td><td>NaN</td><td>0.0</td><td>NaN</td><td>0.0</td><td>NaN</td><td>0.0</td><td>NaN</td><td>0.0</td><td>1.4374e9</td></tr></tbody></table></div>"
      ],
      "text/plain": [
       "shape: (5, 255)\n",
       "┌────────────┬────────────┬───────────┬───────────┬───┬───────────┬────────┬───────────┬───────────┐\n",
       "│ stoch_k9_d ┆ stoch_k9_d ┆ stoch_k9_ ┆ stoch_k9_ ┆ … ┆ atr_21_pr ┆ atr_30 ┆ atr_30_pr ┆ timestamp │\n",
       "│ 3_k        ┆ 3_d        ┆ d3_k_minu ┆ d3_k_delt ┆   ┆ ice       ┆ ---    ┆ ice       ┆ ---       │\n",
       "│ ---        ┆ ---        ┆ s_d       ┆ a         ┆   ┆ ---       ┆ f64    ┆ ---       ┆ f64       │\n",
       "│ f64        ┆ f64        ┆ ---       ┆ ---       ┆   ┆ f64       ┆        ┆ f64       ┆           │\n",
       "│            ┆            ┆ f64       ┆ f64       ┆   ┆           ┆        ┆           ┆           │\n",
       "╞════════════╪════════════╪═══════════╪═══════════╪═══╪═══════════╪════════╪═══════════╪═══════════╡\n",
       "│ NaN        ┆ NaN        ┆ NaN       ┆ NaN       ┆ … ┆ 0.0       ┆ NaN    ┆ 0.0       ┆ 1.4374e9  │\n",
       "│ NaN        ┆ NaN        ┆ NaN       ┆ NaN       ┆ … ┆ 0.0       ┆ NaN    ┆ 0.0       ┆ 1.4374e9  │\n",
       "│ NaN        ┆ NaN        ┆ NaN       ┆ NaN       ┆ … ┆ 0.0       ┆ NaN    ┆ 0.0       ┆ 1.4374e9  │\n",
       "│ NaN        ┆ NaN        ┆ NaN       ┆ NaN       ┆ … ┆ 0.0       ┆ NaN    ┆ 0.0       ┆ 1.4374e9  │\n",
       "│ NaN        ┆ NaN        ┆ NaN       ┆ NaN       ┆ … ┆ 0.0       ┆ NaN    ┆ 0.0       ┆ 1.4374e9  │\n",
       "└────────────┴────────────┴───────────┴───────────┴───┴───────────┴────────┴───────────┴───────────┘"
      ]
     },
     "execution_count": 14,
     "metadata": {},
     "output_type": "execute_result"
    }
   ],
   "source": [
    "df.head()"
   ]
  },
  {
   "cell_type": "markdown",
   "metadata": {},
   "source": []
  }
 ],
 "metadata": {
  "kernelspec": {
   "display_name": ".venv",
   "language": "python",
   "name": "python3"
  },
  "language_info": {
   "codemirror_mode": {
    "name": "ipython",
    "version": 3
   },
   "file_extension": ".py",
   "mimetype": "text/x-python",
   "name": "python",
   "nbconvert_exporter": "python",
   "pygments_lexer": "ipython3",
   "version": "3.13.5"
  }
 },
 "nbformat": 4,
 "nbformat_minor": 2
}
