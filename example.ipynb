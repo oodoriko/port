{
 "cells": [
  {
   "cell_type": "code",
   "execution_count": 1,
   "metadata": {},
   "outputs": [],
   "source": [
    "%load_ext autoreload\n",
    "%autoreload 2 "
   ]
  },
  {
   "cell_type": "markdown",
   "metadata": {},
   "source": [
    "### Cache data - price, prododuct data etc\n",
    "suppoedly it caches itself in data.py, but that logic broke"
   ]
  },
  {
   "cell_type": "code",
   "execution_count": 2,
   "metadata": {},
   "outputs": [],
   "source": [
    "from data.data import PriceData, ProductData, BenchmarkData, START_DATE, Benchmarks"
   ]
  },
  {
   "cell_type": "code",
   "execution_count": 3,
   "metadata": {},
   "outputs": [
    {
     "name": "stdout",
     "output_type": "stream",
     "text": [
      "Scraped 503 tickers for SP500 from Wikipedia\n",
      "Cached 1 entries\n"
     ]
    },
    {
     "data": {
      "text/plain": [
       "503"
      ]
     },
     "execution_count": 3,
     "metadata": {},
     "output_type": "execute_result"
    }
   ],
   "source": [
    "%%timeit\n",
    "benchmark_data = BenchmarkData()\n",
    "tickers = benchmark_data.get_constituents(Benchmarks.SP500)\n",
    "len(tickers)"
   ]
  },
  {
   "cell_type": "code",
   "execution_count": 4,
   "metadata": {},
   "outputs": [
    {
     "data": {
      "text/plain": [
       "10"
      ]
     },
     "execution_count": 4,
     "metadata": {},
     "output_type": "execute_result"
    }
   ],
   "source": [
    "%%timeit\n",
    "product_data = ProductData()\n",
    "data = product_data.get_data(tickers=tickers[:10])\n",
    "len(data)"
   ]
  },
  {
   "cell_type": "code",
   "execution_count": 5,
   "metadata": {},
   "outputs": [
    {
     "data": {
      "text/plain": [
       "3"
      ]
     },
     "execution_count": 5,
     "metadata": {},
     "output_type": "execute_result"
    }
   ],
   "source": [
    "%%timeit\n",
    "price_data = PriceData()\n",
    "data = price_data.get_data(tickers[:10], start_date=START_DATE, end_date='2025-06-01')\n",
    "len(data)"
   ]
  },
  {
   "cell_type": "markdown",
   "metadata": {},
   "source": [
    "### Backtesting"
   ]
  },
  {
   "cell_type": "code",
   "execution_count": 4,
   "metadata": {},
   "outputs": [
    {
     "name": "stdout",
     "output_type": "stream",
     "text": [
      "Portfolio setup: {\n",
      "    \"initial_capital\": 100000,\n",
      "    \"initial_holdings\": {},\n",
      "    \"initial_value\": 0,\n",
      "    \"capital_growth_freq\": \"M\",\n",
      "    \"new_capital_growth_pct\": 0,\n",
      "    \"new_capital_growth_amt\": 10000,\n",
      "    \"allocation_method\": \"equal\",\n",
      "    \"excluded_sectors\": [],\n",
      "    \"included_countries\": [\n",
      "        \"United States\"\n",
      "    ],\n",
      "    \"min_market_cap\": 0,\n",
      "    \"max_market_cap\": Infinity\n",
      "}\n",
      "Strategies: {\n",
      "    \"macd_x\": true,\n",
      "    \"rsi_x\": true\n",
      "}\n",
      "Backtest starting... swoosh!\n",
      "Universe size: 480\n",
      "Total trading days: 2598\n",
      "Total strategies: 2\n",
      "Starting in 2015-01-01\n",
      "Ending in 2025-05-01\n"
     ]
    },
    {
     "name": "stderr",
     "output_type": "stream",
     "text": [
      "Backtesting by strategy: 100%|██████████| 2/2 [00:24<00:00, 12.42s/strategy]\n"
     ]
    },
    {
     "name": "stdout",
     "output_type": "stream",
     "text": [
      "Backtest completed!\n"
     ]
    }
   ],
   "source": [
    "# first create ConstraintsConfig and PortfolioConfig\n",
    "from backtesting.backtest import Backtest\n",
    "from backtesting.scenarios import Scenario\n",
    "from portfolio.constraints import ConstraintsConfig\n",
    "from portfolio.portfolio import CapitalGrowthFrequency, PortfolioConfig\n",
    "from strategies.strategy import StrategyTypes\n",
    "from data.data import Benchmarks\n",
    "verbose = True\n",
    "\n",
    "constraints_config = ConstraintsConfig(\n",
    "    long_only=True,\n",
    "    cash_pct=0.0,\n",
    "    max_long_trades=0.5,\n",
    "    max_short_trades=0.5,\n",
    "    max_buy_size=0.3,\n",
    ")\n",
    "portfolio_config = PortfolioConfig(\n",
    "    initial_capital=100_000,\n",
    "    initial_holdings={},\n",
    "    new_capital_growth_amt=10000,\n",
    "    capital_growth_freq=CapitalGrowthFrequency.MONTHLY.value,\n",
    ")\n",
    "\n",
    "# then create scenario, note portfolio is created within scenario\n",
    "scenario = Scenario(\n",
    "    name=\"test backtest function\",\n",
    "    start_date=\"2015-01-01\",\n",
    "    end_date=\"2025-05-01\",\n",
    "    benchmark=Benchmarks.SP500,\n",
    "    constraints=constraints_config,\n",
    "    portfolio_config=portfolio_config,\n",
    "    verbose=verbose,\n",
    "    portfolio_name=\"sp500_10yr_long_only_macd_rsi\"\n",
    ")\n",
    "\n",
    "# then create strategies\n",
    "strategies = {StrategyTypes.MACD_CROSSOVER: True, StrategyTypes.RSI_CROSSOVER: True}\n",
    "scenario.set_strategies(strategies)\n",
    "\n",
    "\n",
    "# then create backtest\n",
    "backtest = Backtest(scenario, verbose=True)\n",
    "\n",
    "# then run test!\n",
    "backtest.run_batch()"
   ]
  },
  {
   "cell_type": "code",
   "execution_count": 1,
   "metadata": {},
   "outputs": [
    {
     "ename": "NameError",
     "evalue": "name 'backtest' is not defined",
     "output_type": "error",
     "traceback": [
      "\u001b[31m---------------------------------------------------------------------------\u001b[39m",
      "\u001b[31mNameError\u001b[39m                                 Traceback (most recent call last)",
      "\u001b[36mCell\u001b[39m\u001b[36m \u001b[39m\u001b[32mIn[1]\u001b[39m\u001b[32m, line 1\u001b[39m\n\u001b[32m----> \u001b[39m\u001b[32m1\u001b[39m \u001b[43mbacktest\u001b[49m.generate_report(filename=\u001b[33m\"\u001b[39m\u001b[33msample_report\u001b[39m\u001b[33m\"\u001b[39m)\n",
      "\u001b[31mNameError\u001b[39m: name 'backtest' is not defined"
     ]
    }
   ],
   "source": [
    "backtest.generate_report(filename=\"sample_report\")"
   ]
  },
  {
   "cell_type": "markdown",
   "metadata": {},
   "source": [
    "### Gridsearch"
   ]
  },
  {
   "cell_type": "code",
   "execution_count": 1,
   "metadata": {},
   "outputs": [
    {
     "name": "stdout",
     "output_type": "stream",
     "text": [
      "Generated 60 grid parameter combinations\n",
      "Running grid search with 60 parameter combinations...\n"
     ]
    },
    {
     "name": "stderr",
     "output_type": "stream",
     "text": [
      "Grid search progress: 100%|██████████| 60/60 [01:08<00:00,  1.15s/it]\n"
     ]
    },
    {
     "name": "stdout",
     "output_type": "stream",
     "text": [
      "Grid search completed! Found 60 valid results.\n"
     ]
    }
   ],
   "source": [
    "from backtesting.grid_search import GridSearch\n",
    "from backtesting.scenarios import Scenario\n",
    "from data.data import Benchmarks\n",
    "from example.config import DEFAULT_CONSTRAINTS, DEFAULT_PORTFOLIO_SETUP\n",
    "from strategies.strategy import StrategyTypes\n",
    "\n",
    "# first create grid search params\n",
    "grid_search_params =[\n",
    "    {StrategyTypes.MACD_CROSSOVER: True},\n",
    "    {StrategyTypes.MACD_CROSSOVER: True, StrategyTypes.BOLLINGER_BANDS: False},\n",
    "    {StrategyTypes.RSI_CROSSOVER: True, StrategyTypes.Z_SCORE_MEAN_REVERSION: True},\n",
    "    {\n",
    "        StrategyTypes.MACD_CROSSOVER: True,\n",
    "        StrategyTypes.RSI_CROSSOVER: True,\n",
    "        StrategyTypes.BOLLINGER_BANDS: True,\n",
    "        StrategyTypes.Z_SCORE_MEAN_REVERSION: True,\n",
    "    },\n",
    "]\n",
    "\n",
    "# or can automatically generate grid search params\n",
    "strategy_list = [StrategyTypes.MACD_CROSSOVER, StrategyTypes.RSI_CROSSOVER, StrategyTypes.BOLLINGER_BANDS, StrategyTypes.Z_SCORE_MEAN_REVERSION]\n",
    "\n",
    "# then create scenario\n",
    "scenario = Scenario(\n",
    "    name=\"test grid search function\",\n",
    "    start_date=\"2020-01-01\",\n",
    "    end_date=\"2022-01-01\",    \n",
    "    constraints=DEFAULT_CONSTRAINTS,\n",
    "    portfolio_config=DEFAULT_PORTFOLIO_SETUP,\n",
    "    benchmark=Benchmarks.SP500,\n",
    "    verbose=False,\n",
    ")\n",
    "\n",
    "# then create grid search\n",
    "gs = GridSearch(base_scenario=scenario, max_workers=10, verbose=True)\n",
    "# gs.set_grid_params(grid_search_params)\n",
    "gs.set_grid_params(strategy_list, max_signal=3, max_filter=2, min_signal=1)\n",
    "\n",
    "# then run grid search\n",
    "results = gs.run()"
   ]
  },
  {
   "cell_type": "code",
   "execution_count": 2,
   "metadata": {},
   "outputs": [
    {
     "name": "stdout",
     "output_type": "stream",
     "text": [
      "   grid_num                                  param_name\n",
      "1         1                               **Pos: macd_x\n",
      "4        10                **Pos: b_bands **Neg: macd_x\n",
      "21       11                          **Pos: macd_x || z\n",
      "11       12                      **Pos: macd_x **Neg: z\n",
      "23       13                      **Pos: z **Neg: macd_x\n",
      "8        14                     **Pos: rsi_x || b_bands\n",
      "14       15                 **Pos: rsi_x **Neg: b_bands\n",
      "7        16                 **Pos: b_bands **Neg: rsi_x\n",
      "15       17                           **Pos: rsi_x || z\n",
      "12       18                       **Pos: rsi_x **Neg: z\n",
      "19       19                       **Pos: z **Neg: rsi_x\n",
      "2         2                                **Pos: rsi_x\n",
      "10       20                         **Pos: b_bands || z\n",
      "13       21                     **Pos: b_bands **Neg: z\n",
      "20       22                     **Pos: z **Neg: b_bands\n",
      "16       23           **Pos: macd_x || rsi_x || b_bands\n",
      "29       24       **Pos: macd_x || rsi_x **Neg: b_bands\n",
      "22       25       **Pos: macd_x || b_bands **Neg: rsi_x\n",
      "33       26       **Pos: macd_x **Neg: rsi_x || b_bands\n",
      "24       27       **Pos: rsi_x || b_bands **Neg: macd_x\n",
      "34       28       **Pos: rsi_x **Neg: macd_x || b_bands\n",
      "25       29       **Pos: b_bands **Neg: macd_x || rsi_x\n",
      "0         3                              **Pos: b_bands\n",
      "35       30                 **Pos: macd_x || rsi_x || z\n",
      "26       31             **Pos: macd_x || rsi_x **Neg: z\n",
      "38       32             **Pos: macd_x || z **Neg: rsi_x\n",
      "27       33             **Pos: macd_x **Neg: rsi_x || z\n",
      "39       34             **Pos: rsi_x || z **Neg: macd_x\n",
      "28       35             **Pos: rsi_x **Neg: macd_x || z\n",
      "42       36             **Pos: z **Neg: macd_x || rsi_x\n",
      "30       37               **Pos: macd_x || b_bands || z\n",
      "31       38           **Pos: macd_x || b_bands **Neg: z\n",
      "47       39           **Pos: macd_x || z **Neg: b_bands\n",
      "9         4                                    **Pos: z\n",
      "32       40           **Pos: macd_x **Neg: b_bands || z\n",
      "46       41           **Pos: b_bands || z **Neg: macd_x\n",
      "36       42           **Pos: b_bands **Neg: macd_x || z\n",
      "52       43           **Pos: z **Neg: macd_x || b_bands\n",
      "40       44                **Pos: rsi_x || b_bands || z\n",
      "37       45            **Pos: rsi_x || b_bands **Neg: z\n",
      "45       46            **Pos: rsi_x || z **Neg: b_bands\n",
      "43       47            **Pos: rsi_x **Neg: b_bands || z\n",
      "44       48            **Pos: b_bands || z **Neg: rsi_x\n",
      "41       49            **Pos: b_bands **Neg: rsi_x || z\n",
      "5         5                      **Pos: macd_x || rsi_x\n",
      "53       50            **Pos: z **Neg: rsi_x || b_bands\n",
      "48       51  **Pos: macd_x || rsi_x || b_bands **Neg: z\n",
      "55       52  **Pos: macd_x || rsi_x || z **Neg: b_bands\n",
      "49       53  **Pos: macd_x || rsi_x **Neg: b_bands || z\n",
      "50       54  **Pos: macd_x || b_bands || z **Neg: rsi_x\n",
      "51       55  **Pos: macd_x || b_bands **Neg: rsi_x || z\n",
      "59       56  **Pos: macd_x || z **Neg: rsi_x || b_bands\n",
      "56       57  **Pos: rsi_x || b_bands || z **Neg: macd_x\n",
      "54       58  **Pos: rsi_x || b_bands **Neg: macd_x || z\n",
      "58       59  **Pos: rsi_x || z **Neg: macd_x || b_bands\n",
      "3         6                  **Pos: macd_x **Neg: rsi_x\n",
      "57       60  **Pos: b_bands || z **Neg: macd_x || rsi_x\n",
      "17        7                  **Pos: rsi_x **Neg: macd_x\n",
      "6         8                    **Pos: macd_x || b_bands\n",
      "18        9                **Pos: macd_x **Neg: b_bands\n",
      "\n",
      "grid_num                                 param_name total_return annualized_return annualized_sharpe annualized_ir average_holding_period max_holding_amount remaining_capital\n",
      "       1                              **Pos: macd_x        -inf%              inf%               nan           nan                     10                248              -inf\n",
      "      29      **Pos: b_bands **Neg: macd_x || rsi_x        -inf%              inf%               nan           nan                     12                266              -inf\n",
      "      31            **Pos: macd_x || rsi_x **Neg: z        -inf%              inf%               nan           nan                     17                338              -inf\n",
      "      33            **Pos: macd_x **Neg: rsi_x || z        -inf%              inf%               nan           nan                     13                333              -inf\n",
      "      35            **Pos: rsi_x **Neg: macd_x || z        -inf%              inf%               nan           nan                     16                300              -inf\n",
      "      10               **Pos: b_bands **Neg: macd_x        -inf%              inf%               nan           nan                     12                258              -inf\n",
      "      38          **Pos: macd_x || b_bands **Neg: z        -inf%              inf%               nan           nan                     14                337              -inf\n",
      "      40          **Pos: macd_x **Neg: b_bands || z        -inf%              inf%               nan           nan                     10                248              -inf\n",
      "      42          **Pos: b_bands **Neg: macd_x || z        -inf%              inf%               nan           nan                     12                290              -inf\n",
      "      45           **Pos: rsi_x || b_bands **Neg: z        -inf%              inf%               nan           nan                     17                345              -inf\n",
      "      49           **Pos: b_bands **Neg: rsi_x || z        -inf%              inf%               nan           nan                     10                284              -inf\n",
      "       5                     **Pos: macd_x || rsi_x        -inf%              inf%               nan           nan                     17                278              -inf\n",
      "      51 **Pos: macd_x || rsi_x || b_bands **Neg: z        -inf%              inf%               nan           nan                     17                369              -inf\n",
      "      53 **Pos: macd_x || rsi_x **Neg: b_bands || z        -inf%              inf%               nan           nan                     17                278              -inf\n",
      "      54 **Pos: macd_x || b_bands || z **Neg: rsi_x        -inf%              inf%               nan           nan                     11                290              -inf\n",
      "      55 **Pos: macd_x || b_bands **Neg: rsi_x || z        -inf%              inf%               nan           nan                     13                333              -inf\n",
      "      58 **Pos: rsi_x || b_bands **Neg: macd_x || z        -inf%              inf%               nan           nan                     16                324              -inf\n",
      "       6                 **Pos: macd_x **Neg: rsi_x        -inf%              inf%               nan           nan                     11                290              -inf\n",
      "       8                   **Pos: macd_x || b_bands        -inf%              inf%               nan           nan                     14                337              -inf\n",
      "       3                             **Pos: b_bands        -inf%              inf%               nan           nan                     10                282              -inf\n",
      "      37              **Pos: macd_x || b_bands || z        -inf%              inf%               nan           nan                     10                248              -inf\n",
      "      18                      **Pos: rsi_x **Neg: z        -inf%              inf%               nan           nan                     17                297              -inf\n",
      "      23          **Pos: macd_x || rsi_x || b_bands        -inf%              inf%               nan           nan                     17                338              -inf\n",
      "      16                **Pos: b_bands **Neg: rsi_x        -inf%              inf%               nan           nan                     10                284              -inf\n",
      "      27      **Pos: rsi_x || b_bands **Neg: macd_x        -inf%              inf%               nan           nan                     16                300              -inf\n",
      "      14                    **Pos: rsi_x || b_bands        -inf%              inf%               nan           nan                     17                297              -inf\n",
      "      25      **Pos: macd_x || b_bands **Neg: rsi_x        -inf%              inf%               nan           nan                     13                333              -inf\n",
      "      12                     **Pos: macd_x **Neg: z        -inf%              inf%               nan           nan                     14                337              -inf\n",
      "      21                    **Pos: b_bands **Neg: z        -inf%              inf%               nan           nan                     10                282              -inf\n",
      "      56 **Pos: macd_x || z **Neg: rsi_x || b_bands      705.42%           183.80%              3.28        -74.95                    201                330              5338\n",
      "       9               **Pos: macd_x **Neg: b_bands      651.26%           174.09%              4.15       -100.43                    220                391               812\n",
      "      11                         **Pos: macd_x || z      651.26%           174.09%              4.15       -100.43                    220                391               812\n",
      "      50           **Pos: z **Neg: rsi_x || b_bands      644.37%           172.83%              3.21        -76.25                    146                315              2265\n",
      "      39          **Pos: macd_x || z **Neg: b_bands      642.32%           172.46%              4.12       -100.26                    221                391               802\n",
      "      32            **Pos: macd_x || z **Neg: rsi_x      598.54%           164.30%              3.02        -74.11                    192                292              3159\n",
      "      26      **Pos: macd_x **Neg: rsi_x || b_bands      598.54%           164.30%              3.02        -74.11                    192                292              3159\n",
      "      24      **Pos: macd_x || rsi_x **Neg: b_bands      593.74%           163.39%              3.93        -99.32                    224                405              1160\n",
      "      30                **Pos: macd_x || rsi_x || z      593.74%           163.39%              3.93        -99.32                    224                405              1160\n",
      "      52 **Pos: macd_x || rsi_x || z **Neg: b_bands      586.49%           162.01%              3.91        -99.27                    226                405              1143\n",
      "      19                      **Pos: z **Neg: rsi_x      504.58%           145.88%              2.84        -75.42                    136                266              1404\n",
      "      43          **Pos: z **Neg: macd_x || b_bands      502.76%           145.51%              3.08        -82.67                    209                413               627\n",
      "      13                     **Pos: z **Neg: macd_x      500.78%           145.11%              2.95        -79.09                    209                413               627\n",
      "      22                    **Pos: z **Neg: b_bands      494.89%           143.90%              2.94        -79.50                    174                363               416\n",
      "       4                                   **Pos: z      494.89%           143.90%              2.94        -79.50                    174                363               416\n",
      "      36            **Pos: z **Neg: macd_x || rsi_x      479.89%           140.81%              2.88        -78.59                    183                386              1616\n",
      "      28      **Pos: rsi_x **Neg: macd_x || b_bands      475.14%           139.82%              2.91        -80.19                    215                415              1810\n",
      "      34            **Pos: rsi_x || z **Neg: macd_x      475.14%           139.82%              2.91        -80.19                    215                415              1810\n",
      "      59 **Pos: rsi_x || z **Neg: macd_x || b_bands      474.14%           139.61%              2.99        -83.00                    215                415              1776\n",
      "      17                          **Pos: rsi_x || z      465.57%           137.82%              2.87        -80.00                    182                383               726\n",
      "      15                **Pos: rsi_x **Neg: b_bands      465.57%           137.82%              2.87        -80.00                    182                383               726\n",
      "      46           **Pos: rsi_x || z **Neg: b_bands      465.57%           137.82%              2.87        -80.00                    182                383               726\n",
      "      57 **Pos: rsi_x || b_bands || z **Neg: macd_x      435.68%           131.45%              2.63        -75.29                    204                413              1915\n",
      "       7                 **Pos: rsi_x **Neg: macd_x      435.68%           131.45%              2.63        -75.29                    204                413              1915\n",
      "      47           **Pos: rsi_x **Neg: b_bands || z      429.38%           130.08%              2.35        -66.93                    108                241               679\n",
      "      44               **Pos: rsi_x || b_bands || z      429.38%           130.08%              2.35        -66.93                    108                241               679\n",
      "       2                               **Pos: rsi_x      429.02%           130.00%              2.42        -66.73                    107                239               679\n",
      "      41          **Pos: b_bands || z **Neg: macd_x      373.30%           117.55%              2.84        -89.20                    187                408               475\n",
      "      60 **Pos: b_bands || z **Neg: macd_x || rsi_x      254.93%            88.40%              1.84        -68.51                    166                378               492\n",
      "      20                        **Pos: b_bands || z      230.00%            81.66%              3.04       -129.99                      0                  0            330000\n",
      "      48           **Pos: b_bands || z **Neg: rsi_x      225.07%            80.30%              1.56        -62.36                     55                324             25684\n"
     ]
    }
   ],
   "source": [
    "# can print the run schedule\n",
    "print(gs.get_grid_search_schedule())\n",
    "\n",
    "print()\n",
    "# then print results\n",
    "gs.results_to_text()"
   ]
  },
  {
   "cell_type": "code",
   "execution_count": 3,
   "metadata": {},
   "outputs": [],
   "source": [
    "gs.results_to_csv(\"poc_gs_results\")"
   ]
  },
  {
   "cell_type": "code",
   "execution_count": null,
   "metadata": {},
   "outputs": [],
   "source": []
  }
 ],
 "metadata": {
  "kernelspec": {
   "display_name": ".venv",
   "language": "python",
   "name": "python3"
  },
  "language_info": {
   "codemirror_mode": {
    "name": "ipython",
    "version": 3
   },
   "file_extension": ".py",
   "mimetype": "text/x-python",
   "name": "python",
   "nbconvert_exporter": "python",
   "pygments_lexer": "ipython3",
   "version": "3.13.1"
  }
 },
 "nbformat": 4,
 "nbformat_minor": 2
}
