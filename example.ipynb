{
 "cells": [
  {
   "cell_type": "code",
   "execution_count": 1,
   "metadata": {},
   "outputs": [],
   "source": [
    "%load_ext autoreload\n",
    "%autoreload 2"
   ]
  },
  {
   "cell_type": "markdown",
   "metadata": {},
   "source": [
    "### Cache data - price, prododuct data etc\n",
    "suppoedly it caches itself in data.py, but that logic broke"
   ]
  },
  {
   "cell_type": "code",
   "execution_count": 2,
   "metadata": {},
   "outputs": [],
   "source": [
    "from data.data import PriceData, ProductData, BenchmarkData, START_DATE, Benchmarks"
   ]
  },
  {
   "cell_type": "code",
   "execution_count": 3,
   "metadata": {},
   "outputs": [
    {
     "name": "stdout",
     "output_type": "stream",
     "text": [
      "Scraped 503 tickers for SP500 from Wikipedia\n",
      "Cached 1 entries\n"
     ]
    },
    {
     "data": {
      "text/plain": [
       "503"
      ]
     },
     "execution_count": 3,
     "metadata": {},
     "output_type": "execute_result"
    }
   ],
   "source": [
    "# .9s\n",
    "benchmark_data = BenchmarkData()\n",
    "tickers = benchmark_data.get_constituents(Benchmarks.SP500)\n",
    "len(tickers)"
   ]
  },
  {
   "cell_type": "code",
   "execution_count": 4,
   "metadata": {},
   "outputs": [
    {
     "data": {
      "text/plain": [
       "10"
      ]
     },
     "execution_count": 4,
     "metadata": {},
     "output_type": "execute_result"
    }
   ],
   "source": [
    "# 1m20s\n",
    "product_data = ProductData()\n",
    "data = product_data.get_data(tickers=tickers[:10])\n",
    "len(data)"
   ]
  },
  {
   "cell_type": "code",
   "execution_count": 5,
   "metadata": {},
   "outputs": [
    {
     "data": {
      "text/plain": [
       "3"
      ]
     },
     "execution_count": 5,
     "metadata": {},
     "output_type": "execute_result"
    }
   ],
   "source": [
    "# 32.4s\n",
    "price_data = PriceData()\n",
    "data = price_data.get_data(tickers[:10], start_date=START_DATE, end_date='2025-06-01')\n",
    "len(data)"
   ]
  },
  {
   "cell_type": "markdown",
   "metadata": {},
   "source": [
    "### Backtesting"
   ]
  },
  {
   "cell_type": "code",
   "execution_count": 2,
   "metadata": {},
   "outputs": [
    {
     "name": "stdout",
     "output_type": "stream",
     "text": [
      "Portfolio setup: {\n",
      "    \"initial_capital\": 100000,\n",
      "    \"initial_holdings\": {},\n",
      "    \"initial_value\": 0,\n",
      "    \"capital_growth_freq\": \"M\",\n",
      "    \"new_capital_growth_pct\": 0,\n",
      "    \"new_capital_growth_amt\": 10000,\n",
      "    \"allocation_method\": \"equal\",\n",
      "    \"exclude_sectors\": [],\n",
      "    \"include_countries\": [\n",
      "        \"United States\"\n",
      "    ],\n",
      "    \"min_market_cap\": 0,\n",
      "    \"max_market_cap\": Infinity\n",
      "}\n",
      "Strategies: {\n",
      "    \"macd_x\": true,\n",
      "    \"rsi_x\": true\n",
      "}\n",
      "Backtest starting... swoosh!\n",
      "Universe size: 480\n",
      "Total trading days: 505\n",
      "Total strategies: 2\n",
      "Starting in 2020-01-01\n",
      "Ending in 2022-01-01\n"
     ]
    },
    {
     "name": "stderr",
     "output_type": "stream",
     "text": [
      "Backtesting by strategy: 100%|██████████| 2/2 [00:01<00:00,  1.36strategy/s]\n"
     ]
    },
    {
     "name": "stdout",
     "output_type": "stream",
     "text": [
      "Short trade amount 260 too large violates max trade constraint\n",
      "Short trade amount 291 too large violates max trade constraint\n",
      "Short trade amount 254 too large violates max trade constraint\n",
      "Short trade amount 322 too large violates max trade constraint\n",
      "Short trade amount 266 too large violates max trade constraint\n",
      "Backtest completed!\n"
     ]
    }
   ],
   "source": [
    "# first create ConstraintsConfig and PortfolioConfig\n",
    "from backtesting.backtest import Backtest\n",
    "from backtesting.scenarios import Scenario\n",
    "from portfolio.constraints import ConstraintsConfig\n",
    "from portfolio.portfolio import CapitalGrowthFrequency, PortfolioConfig\n",
    "from strategies.strategy import StrategyTypes\n",
    "from data.data import Benchmarks\n",
    "verbose = True\n",
    "\n",
    "constraints_config = ConstraintsConfig(\n",
    "    long_only=True,\n",
    "    cash_pct=0.0,\n",
    "    max_long_count=0.3,\n",
    "    max_short_count=0.3,\n",
    "    max_buy_size=0.3,\n",
    ")\n",
    "portfolio_config = PortfolioConfig(\n",
    "    initial_capital=100_000,\n",
    "    initial_holdings={},\n",
    "    new_capital_growth_amt=10000,\n",
    "    capital_growth_freq=CapitalGrowthFrequency.MONTHLY.value,\n",
    ")\n",
    "\n",
    "# then create scenario, note portfolio is created within scenario\n",
    "scenario = Scenario(\n",
    "    name=\"test backtest function\",\n",
    "    start_date=\"2020-01-01\",\n",
    "    end_date=\"2022-01-01\",\n",
    "    benchmark=Benchmarks.SP500,\n",
    "    constraints=constraints_config,\n",
    "    portfolio_config=portfolio_config,\n",
    "    verbose=verbose,\n",
    ")\n",
    "\n",
    "# then create strategies\n",
    "strategies = {StrategyTypes.MACD_CROSSOVER: True, StrategyTypes.RSI_CROSSOVER: True}\n",
    "scenario.set_strategies(strategies)\n",
    "\n",
    "\n",
    "# then create backtest\n",
    "backtest = Backtest(scenario, verbose=True)\n",
    "\n",
    "# then run test!\n",
    "backtest.run_batch()"
   ]
  },
  {
   "cell_type": "code",
   "execution_count": 3,
   "metadata": {},
   "outputs": [
    {
     "name": "stdout",
     "output_type": "stream",
     "text": [
      "Report saved to: reports/test.pdf\n"
     ]
    },
    {
     "data": {
      "text/plain": [
       "'reports/test.pdf'"
      ]
     },
     "execution_count": 3,
     "metadata": {},
     "output_type": "execute_result"
    }
   ],
   "source": [
    "backtest.generate_report(filename=\"test\")"
   ]
  },
  {
   "cell_type": "markdown",
   "metadata": {},
   "source": [
    "### Gridsearch"
   ]
  },
  {
   "cell_type": "code",
   "execution_count": 4,
   "metadata": {},
   "outputs": [
    {
     "name": "stdout",
     "output_type": "stream",
     "text": [
      "Running grid search with 4 parameter combinations...\n"
     ]
    },
    {
     "name": "stderr",
     "output_type": "stream",
     "text": [
      "Grid search progress:   0%|          | 0/4 [00:00<?, ?it/s]"
     ]
    },
    {
     "name": "stdout",
     "output_type": "stream",
     "text": [
      "Short trade amount 247 too large violates max trade constraint\n",
      "Short trade amount 253 too large violates max trade constraint\n",
      "Short trade amount 369 too large violates max trade constraint\n",
      "Short trade amount 350 too large violates max trade constraint\n",
      "Short trade amount 345 too large violates max trade constraint\n",
      "Short trade amount 244 too large violates max trade constraint\n",
      "Short trade amount 429 too large violates max trade constraint\n",
      "Short trade amount 369 too large violates max trade constraint\n",
      "Short trade amount 249 too large violates max trade constraint\n",
      "Short trade amount 249 too large violates max trade constraint\n",
      "Short trade amount 290 too large violates max trade constraint\n",
      "Long trade amount 243 too large violates max trade constraint\n",
      "Long trade amount 266 too large violates max trade constraint\n"
     ]
    },
    {
     "name": "stderr",
     "output_type": "stream",
     "text": [
      "Grid search progress:  25%|██▌       | 1/4 [00:01<00:04,  1.41s/it]"
     ]
    },
    {
     "name": "stdout",
     "output_type": "stream",
     "text": [
      "Short trade amount 261 too large violates max trade constraint\n",
      "Short trade amount 348 too large violates max trade constraint\n",
      "Short trade amount 313 too large violates max trade constraint\n",
      "Short trade amount 323 too large violates max trade constraint\n",
      "Short trade amount 381 too large violates max trade constraint\n",
      "Short trade amount 306 too large violates max trade constraint\n",
      "Short trade amount 260 too large violates max trade constraint\n",
      "Short trade amount 291 too large violates max trade constraint\n",
      "Short trade amount 254 too large violates max trade constraint\n",
      "Short trade amount 322 too large violates max trade constraint\n",
      "Short trade amount 266 too large violates max trade constraint\n"
     ]
    },
    {
     "name": "stderr",
     "output_type": "stream",
     "text": [
      "Grid search progress: 100%|██████████| 4/4 [00:03<00:00,  1.30it/s]\n"
     ]
    },
    {
     "name": "stdout",
     "output_type": "stream",
     "text": [
      "Grid search completed! Found 4 valid results.\n",
      "  grid_num                              param_name\n",
      "1        1                           **Pos: macd_x\n",
      "2        2            **Pos: macd_x **Neg: b_bands\n",
      "0        3                       **Pos: rsi_x || z\n",
      "3        4  **Pos: macd_x || rsi_x || b_bands || z\n",
      "  grid_num                              param_name  total_return  \\\n",
      "1        1                           **Pos: macd_x      2.837402   \n",
      "2        2            **Pos: macd_x **Neg: b_bands      3.185413   \n",
      "0        3                       **Pos: rsi_x || z      1.651897   \n",
      "3        4  **Pos: macd_x || rsi_x || b_bands || z      1.140308   \n",
      "\n",
      "   annualized_return  annualized_sharpe  annualized_ir  \\\n",
      "1           0.958929                NaN            NaN   \n",
      "2           1.060554           1.001434     -12.400727   \n",
      "0           0.651312           0.810314     -32.051398   \n",
      "3           0.468567           1.140848      -8.479076   \n",
      "\n",
      "   average_holding_period  max_holding_amount  \n",
      "1              228.683168                 460  \n",
      "2              270.144000                 440  \n",
      "0              287.560081                 425  \n",
      "3              265.450000                 443  \n"
     ]
    }
   ],
   "source": [
    "from backtesting.grid_search import GridSearch\n",
    "from backtesting.scenarios import Scenario\n",
    "from config import DEFAULT_CONSTRAINTS, DEFAULT_PORTFOLIO_SETUP, Benchmarks\n",
    "from strategies.strategy import StrategyTypes\n",
    "\n",
    "# first create grid search params\n",
    "grid_search_params =[\n",
    "    {StrategyTypes.MACD_CROSSOVER: True},\n",
    "    {StrategyTypes.MACD_CROSSOVER: True, StrategyTypes.BOLLINGER_BANDS: False},\n",
    "    {StrategyTypes.RSI_CROSSOVER: True, StrategyTypes.Z_SCORE_MEAN_REVERSION: True},\n",
    "    {\n",
    "        StrategyTypes.MACD_CROSSOVER: True,\n",
    "        StrategyTypes.RSI_CROSSOVER: True,\n",
    "        StrategyTypes.BOLLINGER_BANDS: True,\n",
    "        StrategyTypes.Z_SCORE_MEAN_REVERSION: True,\n",
    "    },\n",
    "]\n",
    "\n",
    "# then create scenario\n",
    "scenario = Scenario(\n",
    "    name=\"test grid search function\",\n",
    "    start_date=\"2020-01-01\",\n",
    "    end_date=\"2022-01-01\",    \n",
    "    constraints=DEFAULT_CONSTRAINTS,\n",
    "    portfolio_config=DEFAULT_PORTFOLIO_SETUP,\n",
    "    benchmark=Benchmarks.SP500,\n",
    "    verbose=False,\n",
    ")\n",
    "\n",
    "# then create grid search\n",
    "gs = GridSearch(base_scenario=scenario, max_workers=10, verbose=True)\n",
    "gs.set_grid_params(grid_search_params)\n",
    "\n",
    "# then run grid search\n",
    "results = gs.run()\n",
    "\n",
    "# can print the run schedule\n",
    "print(gs.get_grid_search_schedule())\n",
    "\n",
    "# then print results\n",
    "print(gs.results_to_dataframe())"
   ]
  },
  {
   "cell_type": "code",
   "execution_count": null,
   "metadata": {},
   "outputs": [],
   "source": []
  }
 ],
 "metadata": {
  "kernelspec": {
   "display_name": ".venv",
   "language": "python",
   "name": "python3"
  },
  "language_info": {
   "codemirror_mode": {
    "name": "ipython",
    "version": 3
   },
   "file_extension": ".py",
   "mimetype": "text/x-python",
   "name": "python",
   "nbconvert_exporter": "python",
   "pygments_lexer": "ipython3",
   "version": "3.13.1"
  }
 },
 "nbformat": 4,
 "nbformat_minor": 2
}
