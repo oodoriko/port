{
 "cells": [
  {
   "cell_type": "code",
   "execution_count": 1,
   "metadata": {},
   "outputs": [],
   "source": [
    "import pandas as pd"
   ]
  },
  {
   "cell_type": "markdown",
   "metadata": {},
   "source": [
    "### Cache data - price, prododuct data etc\n",
    "suppoedly it caches itself in data.py, but that logic broke"
   ]
  },
  {
   "cell_type": "code",
   "execution_count": 2,
   "metadata": {},
   "outputs": [],
   "source": [
    "from data.data import PriceData, ProductData, BenchmarkData\n",
    "from config import Benchmarks, START_DATE"
   ]
  },
  {
   "cell_type": "code",
   "execution_count": null,
   "metadata": {},
   "outputs": [],
   "source": [
    "# .9s\n",
    "benchmark_data = BenchmarkData()\n",
    "tickers = benchmark_data.get_constituents(Benchmarks.SP500)\n",
    "len(tickers)"
   ]
  },
  {
   "cell_type": "code",
   "execution_count": null,
   "metadata": {},
   "outputs": [],
   "source": [
    "# 1m20s\n",
    "product_data = ProductData()\n",
    "data = product_data.get_data(tickers=tickers)\n",
    "len(data)"
   ]
  },
  {
   "cell_type": "code",
   "execution_count": null,
   "metadata": {},
   "outputs": [],
   "source": [
    "# 32.4s\n",
    "price_data = PriceData()\n",
    "data = price_data.get_data(tickers, start_date=START_DATE, end_date='2025-06-01')\n",
    "len(data)"
   ]
  },
  {
   "cell_type": "markdown",
   "metadata": {},
   "source": [
    "### Backtesting"
   ]
  },
  {
   "cell_type": "code",
   "execution_count": null,
   "metadata": {},
   "outputs": [],
   "source": [
    "# run date by date - slower\n",
    "from backtesting.backtest import Backtest\n",
    "from backtesting.scenarios import Scenario\n",
    "from config import DEFAULT_BACKTEST_PARAMS, DEFAULT_STRATEGY_CONFIG\n",
    "\n",
    "scenario = Scenario(\n",
    "    name=DEFAULT_BACKTEST_PARAMS[\"scenario_name\"],\n",
    "    start_date=DEFAULT_BACKTEST_PARAMS[\"start_date\"],\n",
    "    end_date=DEFAULT_BACKTEST_PARAMS[\"end_date\"],\n",
    "    constraints=DEFAULT_BACKTEST_PARAMS[\"constraints\"],\n",
    "    portfolio_setup=DEFAULT_BACKTEST_PARAMS[\"setup\"],\n",
    "    benchmark=DEFAULT_BACKTEST_PARAMS[\"benchmark\"],\n",
    ")\n",
    "\n",
    "strategies = DEFAULT_STRATEGY_CONFIG.to_strategies()\n",
    "scenario.set_strategies(strategies)\n",
    "\n",
    "backtest = Backtest(scenario)\n",
    "backtest.run(verbose=True)\n"
   ]
  },
  {
   "cell_type": "code",
   "execution_count": null,
   "metadata": {},
   "outputs": [],
   "source": [
    "# run all dates at once - faster\n",
    "from backtesting.backtest import Backtest\n",
    "from backtesting.scenarios import Scenario\n",
    "from config import DEFAULT_BACKTEST_PARAMS, DEFAULT_STRATEGY_CONFIG\n",
    "\n",
    "scenario = Scenario(\n",
    "    name=DEFAULT_BACKTEST_PARAMS[\"scenario_name\"],\n",
    "    start_date=DEFAULT_BACKTEST_PARAMS[\"start_date\"],\n",
    "    end_date=DEFAULT_BACKTEST_PARAMS[\"end_date\"],\n",
    "    constraints=DEFAULT_BACKTEST_PARAMS[\"constraints\"],\n",
    "    portfolio_setup=DEFAULT_BACKTEST_PARAMS[\"setup\"],\n",
    "    benchmark=DEFAULT_BACKTEST_PARAMS[\"benchmark\"],\n",
    ")\n",
    "\n",
    "strategies = DEFAULT_STRATEGY_CONFIG.to_strategies()\n",
    "scenario.set_strategies(strategies)\n",
    "\n",
    "backtest = Backtest(scenario)\n",
    "backtest.run_batch(verbose=True)\n"
   ]
  },
  {
   "cell_type": "markdown",
   "metadata": {},
   "source": [
    "### Generate report\n",
    "only a backtest object generates report, by first generating the analytics..."
   ]
  },
  {
   "cell_type": "code",
   "execution_count": null,
   "metadata": {},
   "outputs": [],
   "source": [
    "# backet -> get analytics\n",
    "# backtest -> generate report with analytics object\n",
    "backtest.generate_report(filename=\"test\")\n",
    "backtest.generate_report(filename=\"test2\")"
   ]
  },
  {
   "cell_type": "code",
   "execution_count": null,
   "metadata": {},
   "outputs": [],
   "source": []
  },
  {
   "cell_type": "markdown",
   "metadata": {},
   "source": [
    "### Gridsearch"
   ]
  },
  {
   "cell_type": "code",
   "execution_count": 4,
   "metadata": {},
   "outputs": [],
   "source": [
    "from backtesting.grid_search import GridSearch\n",
    "from backtesting.scenarios import Scenario\n",
    "from config import DEFAULT_PORTFOLIO_SETUP, SIMPLE_CONSTRAINTS, Benchmarks\n",
    "\n",
    "from config import Strategies\n",
    "\n",
    "grid_search_params = [\n",
    "        {\"triggers\": [Strategies.MACD_CROSSOVER], \"filter\": []},\n",
    "        {\"triggers\": [Strategies.RSI_CROSSOVER], \"filter\": []},\n",
    "        {\n",
    "            \"triggers\": [Strategies.MACD_CROSSOVER],\n",
    "            \"filter\": [Strategies.BOLLINGER_BANDS],\n",
    "        },  # mean reversion confirmed by bollinger bands\n",
    "        {\n",
    "            \"triggers\": [Strategies.RSI_CROSSOVER, Strategies.Z_SCORE_MEAN_REVERSION],\n",
    "            \"filter\": [],\n",
    "        },  # momentum with mean reversion\n",
    "        {\n",
    "            \"triggers\": [\n",
    "                Strategies.MACD_CROSSOVER,\n",
    "                Strategies.BOLLINGER_BANDS,\n",
    "                Strategies.Z_SCORE_MEAN_REVERSION,\n",
    "                Strategies.RSI_CROSSOVER,\n",
    "            ],\n",
    "            \"filter\": [],\n",
    "        },  # DON'T KNOW\n",
    "    ]\n",
    "\n",
    "scenario = Scenario(\n",
    "    name=\"test_gs_1yr\",\n",
    "    start_date=\"2022-01-01\",\n",
    "    end_date=\"2022-12-31\",    \n",
    "    constraints=SIMPLE_CONSTRAINTS,\n",
    "    portfolio_setup=DEFAULT_PORTFOLIO_SETUP,\n",
    "    benchmark=Benchmarks.SP500,\n",
    "    portfolio_name=\"sp500_no_short_1k_monthly\",\n",
    ")\n",
    "gs = GridSearch(scenario, 10)\n",
    "gs.set_grid_params(grid_search_params)"
   ]
  },
  {
   "cell_type": "code",
   "execution_count": null,
   "metadata": {},
   "outputs": [],
   "source": [
    "gs.run()"
   ]
  },
  {
   "cell_type": "code",
   "execution_count": null,
   "metadata": {},
   "outputs": [],
   "source": [
    "gs.results_to_dataframe()"
   ]
  },
  {
   "cell_type": "code",
   "execution_count": null,
   "metadata": {},
   "outputs": [],
   "source": [
    "gs.get_grid_search_schedule()"
   ]
  }
 ],
 "metadata": {
  "kernelspec": {
   "display_name": ".venv",
   "language": "python",
   "name": "python3"
  },
  "language_info": {
   "codemirror_mode": {
    "name": "ipython",
    "version": 3
   },
   "file_extension": ".py",
   "mimetype": "text/x-python",
   "name": "python",
   "nbconvert_exporter": "python",
   "pygments_lexer": "ipython3",
   "version": "3.13.1"
  }
 },
 "nbformat": 4,
 "nbformat_minor": 2
}
