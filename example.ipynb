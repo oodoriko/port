{
 "cells": [
  {
   "cell_type": "code",
   "execution_count": 1,
   "metadata": {},
   "outputs": [],
   "source": [
    "import pandas as pd"
   ]
  },
  {
   "cell_type": "markdown",
   "metadata": {},
   "source": [
    "### Cache data"
   ]
  },
  {
   "cell_type": "code",
   "execution_count": 2,
   "metadata": {},
   "outputs": [],
   "source": [
    "from data.data import PriceData, ProductData, BenchmarkData\n",
    "from config import Benchmarks, START_DATE, END_DATE"
   ]
  },
  {
   "cell_type": "code",
   "execution_count": null,
   "metadata": {},
   "outputs": [],
   "source": [
    "# .9s\n",
    "benchmark_data = BenchmarkData()\n",
    "tickers = benchmark_data.get_constituents(Benchmarks.SP500)\n",
    "len(tickers)"
   ]
  },
  {
   "cell_type": "code",
   "execution_count": null,
   "metadata": {},
   "outputs": [],
   "source": [
    "# 1m20s\n",
    "product_data = ProductData()\n",
    "data = product_data.get_data(tickers=tickers)\n",
    "len(data)"
   ]
  },
  {
   "cell_type": "code",
   "execution_count": null,
   "metadata": {},
   "outputs": [],
   "source": [
    "# 32.4s\n",
    "# price_data = PriceData()\n",
    "data = price_data.get_data(tickers, start_date=START_DATE, end_date='2025-06-01')\n",
    "len(data)"
   ]
  },
  {
   "cell_type": "code",
   "execution_count": null,
   "metadata": {},
   "outputs": [],
   "source": []
  },
  {
   "cell_type": "markdown",
   "metadata": {},
   "source": [
    "### Cache portfolio "
   ]
  },
  {
   "cell_type": "code",
   "execution_count": 2,
   "metadata": {},
   "outputs": [],
   "source": [
    "# check workbook"
   ]
  },
  {
   "cell_type": "markdown",
   "metadata": {},
   "source": [
    "### Generate report"
   ]
  },
  {
   "cell_type": "code",
   "execution_count": 1,
   "metadata": {},
   "outputs": [],
   "source": [
    "from backtesting.portfolio_cache import load_cached_object\n",
    "from reporting.report_generator import ReportGenerator\n",
    "from IPython.display import Image, display\n",
    "from reportlab.pdfgen import canvas\n",
    "from reportlab.lib.pagesizes import letter\n",
    "import os"
   ]
  },
  {
   "cell_type": "code",
   "execution_count": null,
   "metadata": {},
   "outputs": [],
   "source": [
    "cached_key = \"\"\n",
    "portfolio = load_cached_object(cached_key)\n",
    "portfolio.generate_report()"
   ]
  },
  {
   "cell_type": "code",
   "execution_count": null,
   "metadata": {},
   "outputs": [],
   "source": [
    "portfolio.generate_analytics()\n",
    "metrics = portfolio.metrics\n",
    "holdings_summary = portfolio.holdings_summary\n",
    "report_generator = ReportGenerator(portfolio, metrics, holdings_summary)"
   ]
  },
  {
   "cell_type": "code",
   "execution_count": null,
   "metadata": {},
   "outputs": [],
   "source": [
    "def show_me(data, filename=\"temp\"):\n",
    "    c = canvas.Canvas(f\"temp/{filename}.pdf\", pagesize=letter)\n",
    "    data.wrapOn(c, 400, 300)\n",
    "    data.drawOn(c, 50, 500)\n",
    "    c.save()\n",
    "    os.system(f\"sips -s format png temp/{filename}.pdf --out temp/{filename}.png\")  # Mac\n",
    "    display(Image(f\"temp/{filename}.png\"))"
   ]
  },
  {
   "cell_type": "code",
   "execution_count": null,
   "metadata": {},
   "outputs": [],
   "source": [
    "# table = report_generator.create_holdings_summary_table()\n",
    "# show_me(table)"
   ]
  },
  {
   "cell_type": "code",
   "execution_count": null,
   "metadata": {},
   "outputs": [],
   "source": [
    "# buf = report_generator.create_return_distribution_charts()\n",
    "# display(Image(buf.getvalue())), buf"
   ]
  },
  {
   "cell_type": "code",
   "execution_count": null,
   "metadata": {},
   "outputs": [],
   "source": []
  },
  {
   "cell_type": "markdown",
   "metadata": {},
   "source": [
    "### Backtesting"
   ]
  },
  {
   "cell_type": "code",
   "execution_count": 4,
   "metadata": {},
   "outputs": [],
   "source": [
    "from portfolio.portfolio import Portfolio\n",
    "from backtesting.backtest import Backtest\n",
    "from config import DEFAULT_BACKTEST_PARAMS, DEFAULT_PORTFOLIO_SETUP, Benchmarks, Strategies"
   ]
  },
  {
   "cell_type": "code",
   "execution_count": null,
   "metadata": {},
   "outputs": [],
   "source": [
    "strategies = [Strategies.MACD_CROSSOVER]\n",
    "start_date = \"2025-05-01\"\n",
    "end_date = \"2025-06-01\"\n",
    "\n",
    "portfolio = Portfolio(\n",
    "    name=\"dummy portfolio\",\n",
    "    benchmark=Benchmarks.SP500,\n",
    "    constraints=DEFAULT_BACKTEST_PARAMS[\"constraints\"],\n",
    "    additional_setup=DEFAULT_PORTFOLIO_SETUP,\n",
    ")\n",
    "backtest = Backtest(\n",
    "    portfolio=portfolio, start_date=start_date, end_date=end_date, strategies=strategies\n",
    ")\n",
    "\n",
    "backtest.run()\n",
    "backtest.generate_report(\"dummy_backtest.pdf\")"
   ]
  }
 ],
 "metadata": {
  "kernelspec": {
   "display_name": ".venv",
   "language": "python",
   "name": "python3"
  },
  "language_info": {
   "codemirror_mode": {
    "name": "ipython",
    "version": 3
   },
   "file_extension": ".py",
   "mimetype": "text/x-python",
   "name": "python",
   "nbconvert_exporter": "python",
   "pygments_lexer": "ipython3",
   "version": "3.13.1"
  }
 },
 "nbformat": 4,
 "nbformat_minor": 2
}
