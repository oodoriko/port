{
 "cells": [
  {
   "cell_type": "code",
   "execution_count": 1,
   "metadata": {},
   "outputs": [],
   "source": [
    "%load_ext autoreload\n",
    "%autoreload 2"
   ]
  },
  {
   "cell_type": "code",
   "execution_count": 2,
   "metadata": {},
   "outputs": [],
   "source": [
    "import numpy as np\n",
    "import pandas as pd"
   ]
  },
  {
   "cell_type": "code",
   "execution_count": 3,
   "metadata": {},
   "outputs": [
    {
     "name": "stdout",
     "output_type": "stream",
     "text": [
      "Portfolio setup: {\n",
      "    \"initial_capital\": 100000,\n",
      "    \"initial_holdings\": {},\n",
      "    \"initial_value\": 0,\n",
      "    \"capital_growth_freq\": \"M\",\n",
      "    \"new_capital_growth_pct\": 0,\n",
      "    \"new_capital_growth_amt\": 10000,\n",
      "    \"allocation_method\": \"equal\",\n",
      "    \"excluded_sectors\": [],\n",
      "    \"included_countries\": [\n",
      "        \"United States\"\n",
      "    ],\n",
      "    \"min_market_cap\": 0,\n",
      "    \"max_market_cap\": Infinity,\n",
      "    \"trailing_stop_loss_pct\": 0.05,\n",
      "    \"trailing_update_threshold\": 0.02\n",
      "}\n",
      "Strategies: {\n",
      "    \"macd_x\": true,\n",
      "    \"z\": true\n",
      "}\n"
     ]
    }
   ],
   "source": [
    "from backtesting.backtest import Backtest\n",
    "from backtesting.scenarios import Scenario\n",
    "from example.config import DEFAULT_CONSTRAINTS, DEFAULT_PORTFOLIO_SETUP, DEFAULT_STRATEGY_CONFIG\n",
    "from data.data import Benchmarks\n",
    "\n",
    "\n",
    "scenario = Scenario(\n",
    "    name=\"test backtest 10y\",\n",
    "    start_date=\"2015-01-01\",\n",
    "    end_date=\"2025-05-01\",\n",
    "    benchmark=Benchmarks.SP500,\n",
    "    constraints=DEFAULT_CONSTRAINTS, \n",
    "    portfolio_config=DEFAULT_PORTFOLIO_SETUP,\n",
    "    verbose=True,\n",
    "    portfolio_name=\"sp500_10y_long_only_macd_zscore\",\n",
    ")  \n",
    "scenario.set_strategies(DEFAULT_STRATEGY_CONFIG)\n",
    "backtest = Backtest(scenario, verbose=True)\n"
   ]
  },
  {
   "cell_type": "code",
   "execution_count": 4,
   "metadata": {},
   "outputs": [
    {
     "name": "stdout",
     "output_type": "stream",
     "text": [
      "Backtest starting... swoosh!\n",
      "Universe size: 480\n",
      "Total trading days: 2598\n",
      "Total strategies: 2\n",
      "Starting in 2015-01-01\n",
      "Ending in 2025-05-01\n"
     ]
    },
    {
     "name": "stderr",
     "output_type": "stream",
     "text": [
      "Backtesting by strategy: 100%|██████████| 2/2 [00:15<00:00,  7.57s/strategy]\n"
     ]
    },
    {
     "name": "stdout",
     "output_type": "stream",
     "text": [
      "Backtest completed!\n"
     ]
    }
   ],
   "source": [
    "backtest.run_batch(verbose=True)"
   ]
  },
  {
   "cell_type": "code",
   "execution_count": 12,
   "metadata": {},
   "outputs": [
    {
     "name": "stdout",
     "output_type": "stream",
     "text": [
      "Report saved to: outputs/backtest/poc_report.pdf\n"
     ]
    },
    {
     "data": {
      "text/plain": [
       "'outputs/backtest/poc_report.pdf'"
      ]
     },
     "execution_count": 12,
     "metadata": {},
     "output_type": "execute_result"
    }
   ],
   "source": [
    "backtest.generate_report(filename=\"poc_report.pdf\")      "
   ]
  },
  {
   "cell_type": "code",
   "execution_count": null,
   "metadata": {},
   "outputs": [],
   "source": []
  },
  {
   "cell_type": "code",
   "execution_count": 21,
   "metadata": {},
   "outputs": [],
   "source": [
    "p = backtest.get_portfolio()"
   ]
  }
 ],
 "metadata": {
  "kernelspec": {
   "display_name": ".venv",
   "language": "python",
   "name": "python3"
  },
  "language_info": {
   "codemirror_mode": {
    "name": "ipython",
    "version": 3
   },
   "file_extension": ".py",
   "mimetype": "text/x-python",
   "name": "python",
   "nbconvert_exporter": "python",
   "pygments_lexer": "ipython3",
   "version": "3.13.1"
  }
 },
 "nbformat": 4,
 "nbformat_minor": 2
}
